{
 "cells": [
  {
   "cell_type": "markdown",
   "metadata": {
    "collapsed": true,
    "pycharm": {
     "name": "#%% md\n"
    }
   },
   "source": [
    "# Conditional Statements\n",
    "\n",
    "* `if`-`elif`-`else` blocks"
   ]
  },
  {
   "cell_type": "markdown",
   "metadata": {
    "collapsed": false,
    "pycharm": {
     "name": "#%% md\n"
    }
   },
   "source": [
    "## Problem: Print value if negative\n",
    "\n",
    "Draw a standard normal value using `np.random.standard_normal` and print the\n",
    "value if it is negative.\n",
    "\n",
    "**Note**: Rerun the cell a few time to see different output."
   ]
  },
  {
   "cell_type": "code",
   "execution_count": 1,
   "metadata": {
    "collapsed": false,
    "execution": {
     "iopub.execute_input": "2020-12-15T17:49:19.387526Z",
     "iopub.status.busy": "2020-12-15T17:49:19.387526Z",
     "iopub.status.idle": "2020-12-15T17:49:19.460527Z",
     "shell.execute_reply": "2020-12-15T17:49:19.461526Z"
    },
    "pycharm": {
     "is_executing": false,
     "name": "#%%\n"
    }
   },
   "outputs": [
    {
     "name": "stdout",
     "output_type": "stream",
     "text": [
      "Value: -1.5161678828806608\n"
     ]
    }
   ],
   "source": [
    "import numpy as np\n",
    "\n",
    "value = np.random.standard_normal()\n",
    "if value < 0:\n",
    "    print(f\"Value: {value}\")"
   ]
  },
  {
   "cell_type": "markdown",
   "metadata": {
    "collapsed": false,
    "pycharm": {
     "name": "#%% md\n"
    }
   },
   "source": [
    "## Problem: Print different messages based on value\n",
    "\n",
    "Draw a standard normal value and print \"Positive\" if it is positive\n",
    "and \"Negative\" if not."
   ]
  },
  {
   "cell_type": "code",
   "execution_count": 2,
   "metadata": {
    "collapsed": false,
    "execution": {
     "iopub.execute_input": "2020-12-15T17:49:19.463526Z",
     "iopub.status.busy": "2020-12-15T17:49:19.463526Z",
     "iopub.status.idle": "2020-12-15T17:49:19.476528Z",
     "shell.execute_reply": "2020-12-15T17:49:19.476528Z"
    },
    "pycharm": {
     "is_executing": false,
     "name": "#%%\n"
    }
   },
   "outputs": [
    {
     "name": "stdout",
     "output_type": "stream",
     "text": [
      "Negative\n"
     ]
    }
   ],
   "source": [
    "value = np.random.standard_normal()\n",
    "if value > 0:\n",
    "    print(\"Positive\")\n",
    "else:\n",
    "    print(\"Negative\")"
   ]
  },
  {
   "cell_type": "markdown",
   "metadata": {
    "collapsed": false,
    "pycharm": {
     "name": "#%% md\n"
    }
   },
   "source": [
    "## Problem: \n",
    "\n",
    "Draw a standard t random variable with 2 degrees of freedom using\n",
    "`np.random.standard_t(2)` and print \"Negative Outlier\" if less than -2,\n",
    "\"Positive Outlier\" if larger than 2, and \"Inlier\" if between -2 and 2."
   ]
  },
  {
   "cell_type": "code",
   "execution_count": 3,
   "metadata": {
    "collapsed": false,
    "execution": {
     "iopub.execute_input": "2020-12-15T17:49:19.479526Z",
     "iopub.status.busy": "2020-12-15T17:49:19.479526Z",
     "iopub.status.idle": "2020-12-15T17:49:19.491527Z",
     "shell.execute_reply": "2020-12-15T17:49:19.491527Z"
    },
    "pycharm": {
     "is_executing": false,
     "name": "#%%\n"
    }
   },
   "outputs": [
    {
     "name": "stdout",
     "output_type": "stream",
     "text": [
      "-0.37318660795070824\n",
      "Inlier\n"
     ]
    }
   ],
   "source": [
    "value = np.random.standard_t(2)\n",
    "print(value)\n",
    "if value > 2:\n",
    "    print(\"Positive Outlier\")\n",
    "elif value < -2:\n",
    "    print(\"Negative Outlier\")\n",
    "else:\n",
    "    print(\"Inlier\")"
   ]
  },
  {
   "cell_type": "markdown",
   "metadata": {
    "collapsed": false
   },
   "source": [
    "## Exercises\n",
    "\n",
    "### Exercise: Classify two points\n",
    "\n",
    "Generate two standard normal values `x` and `y` using\n",
    "two calls to `rs.standard_normal()`. Use an `if`-`elif`-`else` \n",
    "clause to print the quadrant they are in.  The four quadrants are\n",
    "upper right, upper left, lower left and lower right.\n"
   ]
  },
  {
   "cell_type": "code",
   "execution_count": 4,
   "metadata": {
    "collapsed": false,
    "execution": {
     "iopub.execute_input": "2020-12-15T17:49:19.495526Z",
     "iopub.status.busy": "2020-12-15T17:49:19.495526Z",
     "iopub.status.idle": "2020-12-15T17:49:19.507527Z",
     "shell.execute_reply": "2020-12-15T17:49:19.507527Z"
    },
    "pycharm": {
     "name": "#%%\n"
    }
   },
   "outputs": [
    {
     "name": "stdout",
     "output_type": "stream",
     "text": [
      "Upper right\n"
     ]
    }
   ],
   "source": [
    "import numpy as np\n",
    "rs = np.random.RandomState(19991231)\n",
    "x = rs.standard_normal()\n",
    "y = rs.standard_normal()\n",
    "\n",
    "if x > 0 and y > 0:\n",
    "    print(\"Upper right\")\n",
    "elif x > 0 and y < 0:\n",
    "    print(\"Lower right\")\n",
    "elif x < 0 and y > 0:\n",
    "    print(\"Upper left\")\n",
    "else:\n",
    "    print(\"Lower left\")\n",
    "    "
   ]
  },
  {
   "cell_type": "code",
   "execution_count": 5,
   "metadata": {
    "collapsed": false,
    "execution": {
     "iopub.execute_input": "2020-12-15T17:49:19.510526Z",
     "iopub.status.busy": "2020-12-15T17:49:19.510526Z",
     "iopub.status.idle": "2020-12-15T17:49:19.522527Z",
     "shell.execute_reply": "2020-12-15T17:49:19.522527Z"
    },
    "pycharm": {
     "name": "#%%\n"
    }
   },
   "outputs": [
    {
     "name": "stdout",
     "output_type": "stream",
     "text": [
      "Upper right\n"
     ]
    }
   ],
   "source": [
    "if x > 0:\n",
    "    if y > 0:\n",
    "        print(\"Upper right\")\n",
    "    else:\n",
    "        print(\"Lower right\")\n",
    "else:\n",
    "    if y > 0:\n",
    "        print(\"Upper left\")\n",
    "    else:\n",
    "        print(\"Lower left\")"
   ]
  },
  {
   "cell_type": "code",
   "execution_count": 6,
   "metadata": {
    "collapsed": false,
    "execution": {
     "iopub.execute_input": "2020-12-15T17:49:19.525526Z",
     "iopub.status.busy": "2020-12-15T17:49:19.525526Z",
     "iopub.status.idle": "2020-12-15T17:49:19.538528Z",
     "shell.execute_reply": "2020-12-15T17:49:19.538528Z"
    },
    "pycharm": {
     "name": "#%%\n"
    }
   },
   "outputs": [
    {
     "name": "stdout",
     "output_type": "stream",
     "text": [
      "Upper right\n"
     ]
    }
   ],
   "source": [
    "# Often many way to complete any task\n",
    "if x > 0:\n",
    "    x_pos = \"right\"\n",
    "else:\n",
    "    x_pos = \"left\"\n",
    "if y > 0:\n",
    "    y_pos = \"Upper\"\n",
    "else:\n",
    "    y_pos = \"Lower\"\n",
    "print(y_pos + \" \" + x_pos)"
   ]
  },
  {
   "cell_type": "markdown",
   "metadata": {
    "collapsed": false
   },
   "source": [
    "### Exercise: Generate a contaminated normal\n",
    "\n",
    "Generate a uniform using `u = rs.sample()`. Using this value and an \n",
    "`if`-`else` clause, generate a contaminated normal which is a draw from a\n",
    "$N(0,1)$ ($N(\\mu,sigma^2)$) if $u<0.95$ or a draw from a $N(0,10)$ otherwise.\n",
    "Use `rs.normal` to generate the normal variable."
   ]
  },
  {
   "cell_type": "code",
   "execution_count": 7,
   "metadata": {
    "collapsed": false,
    "execution": {
     "iopub.execute_input": "2020-12-15T17:49:19.541526Z",
     "iopub.status.busy": "2020-12-15T17:49:19.541526Z",
     "iopub.status.idle": "2020-12-15T17:49:19.553526Z",
     "shell.execute_reply": "2020-12-15T17:49:19.553526Z"
    },
    "pycharm": {
     "name": "#%%\n"
    }
   },
   "outputs": [
    {
     "name": "stdout",
     "output_type": "stream",
     "text": [
      "0.5114558853433158 -1.0501702198791918\n"
     ]
    }
   ],
   "source": [
    "u = rs.random_sample()\n",
    "if u < 0.95:\n",
    "    x = rs.normal()\n",
    "else:\n",
    "    x = rs.normal(0, np.sqrt(10))\n",
    "\n",
    "print(u, x)"
   ]
  }
 ],
 "metadata": {
  "kernelspec": {
   "display_name": "Python 3",
   "language": "python",
   "name": "python3"
  },
  "language_info": {
   "codemirror_mode": {
    "name": "ipython",
    "version": 3
   },
   "file_extension": ".py",
   "mimetype": "text/x-python",
   "name": "python",
   "nbconvert_exporter": "python",
   "pygments_lexer": "ipython3",
   "version": "3.8.5"
  },
  "pycharm": {
   "stem_cell": {
    "cell_type": "raw",
    "metadata": {
     "collapsed": false
    },
    "source": []
   }
  }
 },
 "nbformat": 4,
 "nbformat_minor": 0
}
