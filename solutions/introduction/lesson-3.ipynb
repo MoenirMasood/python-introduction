{
 "cells": [
  {
   "cell_type": "markdown",
   "metadata": {
    "collapsed": true,
    "pycharm": {
     "name": "#%% md\n"
    }
   },
   "source": [
    "# Importing Modules\n",
    "\n",
    "This lesson covers:\n",
    "\n",
    "* Module import"
   ]
  },
  {
   "cell_type": "markdown",
   "metadata": {
    "collapsed": false
   },
   "source": [
    "## Problem: Importing Modules\n",
    "\n",
    "Python is a general-purpose programming language and is not specialized for\n",
    "numerical or statistical computation. The core modules that enable Python to\n",
    "store and access data efficiently and that provide statistical algorithms are\n",
    "located in modules.  The most important are:\n",
    "\n",
    "* NumPy (`numpy`) - provide the basic array block used throughout numerical\n",
    "  Python\n",
    "* pandas (`pandas`) - provides DataFrames which are used to store \n",
    "  data in an easy-to-use format\n",
    "* SciPy (`scipy`) - Basic statistics and random number generators. The most\n",
    "  important submodule is `scipy.stats`\n",
    "* matplotlib (`matplotlib`) - graphics. The most important submodule is\n",
    "  `matplotlib.pyplot`.\n",
    "* statsmodels (`statsmodels`) - statistical models such as OLS. The most\n",
    "  important submodules are `statsmodels.api` and `statsmodels.tsa.api`.\n",
    "\n",
    "Begin by importing the important modules."
   ]
  },
  {
   "cell_type": "code",
   "execution_count": 1,
   "metadata": {
    "collapsed": false,
    "execution": {
     "iopub.execute_input": "2020-12-07T13:03:37.083933Z",
     "iopub.status.busy": "2020-12-07T13:03:37.083933Z",
     "iopub.status.idle": "2020-12-07T13:03:39.058982Z",
     "shell.execute_reply": "2020-12-07T13:03:39.059982Z"
    },
    "pycharm": {
     "is_executing": false,
     "name": "#%%\n"
    }
   },
   "outputs": [],
   "source": [
    "import numpy\n",
    "import pandas\n",
    "import scipy.stats\n",
    "import matplotlib.pyplot\n",
    "import statsmodels.api\n",
    "import statsmodels.tsa.api"
   ]
  },
  {
   "cell_type": "markdown",
   "metadata": {
    "collapsed": false
   },
   "source": [
    "## Problem: Canonical Names\n",
    "\n",
    "Use the `as` keyword to import the modules using their canonical names:\n",
    "\n",
    "| Module              | Canonical Name |\n",
    "| :------------------ | :------------- |\n",
    "| numpy               | np             |\n",
    "| pandas              | pd             |\n",
    "| scipy               | sp             |\n",
    "| scipy.stats         | stats          |\n",
    "| matplotlib.pyplot   | plt            |\n",
    "| statsmodels.api     | sm             |\n",
    "| statsmodels.tsa.api | tsa            |\n",
    "\n",
    "Import the core modules using `import` _module_ `as` _canonical_."
   ]
  },
  {
   "cell_type": "code",
   "execution_count": 2,
   "metadata": {
    "collapsed": false,
    "execution": {
     "iopub.execute_input": "2020-12-07T13:03:39.061982Z",
     "iopub.status.busy": "2020-12-07T13:03:39.061982Z",
     "iopub.status.idle": "2020-12-07T13:03:39.073982Z",
     "shell.execute_reply": "2020-12-07T13:03:39.073982Z"
    },
    "pycharm": {
     "is_executing": false,
     "name": "#%%\n"
    }
   },
   "outputs": [],
   "source": [
    "import numpy as np\n",
    "import pandas as pd\n",
    "import scipy as sp\n",
    "import scipy.stats as stats\n",
    "import matplotlib.pyplot as plt\n",
    "import statsmodels.api as sm\n",
    "import statsmodels.tsa.api as tsa"
   ]
  },
  {
   "cell_type": "markdown",
   "metadata": {
    "collapsed": false
   },
   "source": [
    "## Problem: Importing individual functions\n",
    "\n",
    "1. Import `array`, `sqrt`, `log` and `exp` from NumPy.\n",
    "2. Import `OLS` from `statsmodels.regression.linear_model`\n",
    "3. Import the `stats` module from `scipy`"
   ]
  },
  {
   "cell_type": "code",
   "execution_count": 3,
   "metadata": {
    "collapsed": false,
    "execution": {
     "iopub.execute_input": "2020-12-07T13:03:39.075982Z",
     "iopub.status.busy": "2020-12-07T13:03:39.075982Z",
     "iopub.status.idle": "2020-12-07T13:03:39.089982Z",
     "shell.execute_reply": "2020-12-07T13:03:39.089982Z"
    },
    "pycharm": {
     "is_executing": false,
     "name": "#%%\n"
    }
   },
   "outputs": [],
   "source": [
    "from numpy import array, sqrt, log, exp\n",
    "from statsmodels.regression.linear_model import OLS\n",
    "# Same effect as above\n",
    "from scipy import stats"
   ]
  },
  {
   "cell_type": "markdown",
   "metadata": {
    "collapsed": false,
    "pycharm": {
     "name": "#%% md\n"
    }
   },
   "source": [
    "## Exercises\n",
    "\n",
    "### Exercise: Import `det`\n",
    "\n",
    "The determinant function is located at `numpy.linalg.det`. Access this function\n",
    "using:\n",
    "\n",
    "1. `numpy`\n",
    "2. `np`\n",
    "3. By importing `linalg` from `numpy` and accessing it from `linalg`\n",
    "4. By directly importing the function\n",
    "\n",
    "You can `x` in the setup code to call the function as _func_`(x)`."
   ]
  },
  {
   "cell_type": "code",
   "execution_count": 4,
   "metadata": {
    "collapsed": false,
    "execution": {
     "iopub.execute_input": "2020-12-07T13:03:39.091982Z",
     "iopub.status.busy": "2020-12-07T13:03:39.091982Z",
     "iopub.status.idle": "2020-12-07T13:03:39.104982Z",
     "shell.execute_reply": "2020-12-07T13:03:39.104982Z"
    },
    "pycharm": {
     "is_executing": false,
     "name": "#%%\n"
    }
   },
   "outputs": [
    {
     "name": "stdout",
     "output_type": "stream",
     "text": [
      "[[2 3]\n",
      " [1 2]]\n"
     ]
    }
   ],
   "source": [
    "# Setup: A simple 2 by 2 array to use with det\n",
    "import numpy as np\n",
    "x = np.array([[2,3],[1,2]])\n",
    "print(x)"
   ]
  },
  {
   "cell_type": "code",
   "execution_count": 5,
   "metadata": {
    "collapsed": false,
    "execution": {
     "iopub.execute_input": "2020-12-07T13:03:39.107982Z",
     "iopub.status.busy": "2020-12-07T13:03:39.106982Z",
     "iopub.status.idle": "2020-12-07T13:03:39.119982Z",
     "shell.execute_reply": "2020-12-07T13:03:39.119982Z"
    },
    "pycharm": {
     "is_executing": false,
     "name": "#%%\n"
    }
   },
   "outputs": [
    {
     "data": {
      "text/plain": [
       "1.0"
      ]
     },
     "execution_count": 5,
     "metadata": {},
     "output_type": "execute_result"
    }
   ],
   "source": [
    "numpy.linalg.det(x)"
   ]
  },
  {
   "cell_type": "code",
   "execution_count": 6,
   "metadata": {
    "collapsed": false,
    "execution": {
     "iopub.execute_input": "2020-12-07T13:03:39.121982Z",
     "iopub.status.busy": "2020-12-07T13:03:39.121982Z",
     "iopub.status.idle": "2020-12-07T13:03:39.135982Z",
     "shell.execute_reply": "2020-12-07T13:03:39.135982Z"
    },
    "pycharm": {
     "is_executing": false,
     "name": "#%%\n"
    }
   },
   "outputs": [
    {
     "data": {
      "text/plain": [
       "1.0"
      ]
     },
     "execution_count": 6,
     "metadata": {},
     "output_type": "execute_result"
    }
   ],
   "source": [
    "np.linalg.det(x)"
   ]
  },
  {
   "cell_type": "code",
   "execution_count": 7,
   "metadata": {
    "collapsed": false,
    "execution": {
     "iopub.execute_input": "2020-12-07T13:03:39.137982Z",
     "iopub.status.busy": "2020-12-07T13:03:39.137982Z",
     "iopub.status.idle": "2020-12-07T13:03:39.151982Z",
     "shell.execute_reply": "2020-12-07T13:03:39.151982Z"
    },
    "pycharm": {
     "is_executing": false,
     "name": "#%%\n"
    }
   },
   "outputs": [
    {
     "data": {
      "text/plain": [
       "1.0"
      ]
     },
     "execution_count": 7,
     "metadata": {},
     "output_type": "execute_result"
    }
   ],
   "source": [
    "from numpy import linalg\n",
    "linalg.det(x)"
   ]
  },
  {
   "cell_type": "code",
   "execution_count": 8,
   "metadata": {
    "collapsed": false,
    "execution": {
     "iopub.execute_input": "2020-12-07T13:03:39.153982Z",
     "iopub.status.busy": "2020-12-07T13:03:39.153982Z",
     "iopub.status.idle": "2020-12-07T13:03:39.167982Z",
     "shell.execute_reply": "2020-12-07T13:03:39.167982Z"
    },
    "pycharm": {
     "is_executing": false,
     "name": "#%%\n"
    }
   },
   "outputs": [
    {
     "data": {
      "text/plain": [
       "1.0"
      ]
     },
     "execution_count": 8,
     "metadata": {},
     "output_type": "execute_result"
    }
   ],
   "source": [
    "from numpy.linalg import det\n",
    "det(x)"
   ]
  }
 ],
 "metadata": {
  "kernelspec": {
   "display_name": "Python 3",
   "language": "python",
   "name": "python3"
  },
  "language_info": {
   "codemirror_mode": {
    "name": "ipython",
    "version": 3
   },
   "file_extension": ".py",
   "mimetype": "text/x-python",
   "name": "python",
   "nbconvert_exporter": "python",
   "pygments_lexer": "ipython3",
   "version": "3.8.5"
  },
  "pycharm": {
   "stem_cell": {
    "cell_type": "raw",
    "metadata": {
     "collapsed": false
    },
    "source": []
   }
  }
 },
 "nbformat": 4,
 "nbformat_minor": 0
}
