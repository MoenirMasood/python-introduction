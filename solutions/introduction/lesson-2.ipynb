{
 "cells": [
  {
   "cell_type": "markdown",
   "metadata": {
    "collapsed": false
   },
   "source": [
    "# Basic Python Types\n",
    "\n",
    "This lesson covers:\n",
    "\n",
    "* Inputting scalars and strings\n",
    "* Lists\n",
    "* Tuples\n",
    "* Dictionaries\n"
   ]
  },
  {
   "cell_type": "markdown",
   "metadata": {
    "collapsed": false
   },
   "source": [
    "## Problem: Input scalar floating point and integers\n",
    "\n",
    "1. Create a variable called `scalar_float` containing $\\pi$ to 4 digits.\n",
    "2. Create a variable called `scalar_int` containing 31415. \n",
    "3. Print each value using the `print` function.   "
   ]
  },
  {
   "cell_type": "code",
   "execution_count": 1,
   "metadata": {
    "collapsed": false,
    "execution": {
     "iopub.execute_input": "2020-12-15T17:48:49.302470Z",
     "iopub.status.busy": "2020-12-15T17:48:49.302470Z",
     "iopub.status.idle": "2020-12-15T17:48:49.314471Z",
     "shell.execute_reply": "2020-12-15T17:48:49.314471Z"
    },
    "pycharm": {
     "is_executing": false,
     "name": "#%%\n"
    }
   },
   "outputs": [
    {
     "name": "stdout",
     "output_type": "stream",
     "text": [
      "3.1415\n",
      "31415\n"
     ]
    }
   ],
   "source": [
    "scalar_float = 3.1415\n",
    "scalar_int = 31415\n",
    "\n",
    "print(scalar_float)\n",
    "print(scalar_int)"
   ]
  },
  {
   "cell_type": "markdown",
   "metadata": {
    "collapsed": false
   },
   "source": [
    "## Problem: Create a string and an f-string\n",
    "\n",
    "1. Create a variable called `a_string` containing `This is a string`\n",
    "2. Create a f-string the prints `The value of scalar_float is 3.1415` using\n",
    "   the variable created in the previous step\n",
    "3. Create two string, `first` containing `String concatenation` and the\n",
    "   second containing ` is like addition`, and join the two using `+` to produce\n",
    "   `String concatenation is like addition`. "
   ]
  },
  {
   "cell_type": "code",
   "execution_count": 2,
   "metadata": {
    "collapsed": false,
    "execution": {
     "iopub.execute_input": "2020-12-15T17:48:49.317470Z",
     "iopub.status.busy": "2020-12-15T17:48:49.317470Z",
     "iopub.status.idle": "2020-12-15T17:48:49.330471Z",
     "shell.execute_reply": "2020-12-15T17:48:49.330471Z"
    },
    "pycharm": {
     "is_executing": false,
     "name": "#%%\n"
    }
   },
   "outputs": [
    {
     "name": "stdout",
     "output_type": "stream",
     "text": [
      "The value of scalar_float is 3.1415\n",
      "The value of scalar_int is 31415\n",
      "String concatenation is like addition\n"
     ]
    }
   ],
   "source": [
    "a_string = \"This is a string\"\n",
    "# Either quote mark is fine, as long as they match\n",
    "a_string = 'This is a string'\n",
    "\n",
    "print(f\"The value of scalar_float is {scalar_float}\")\n",
    "print(f\"The value of scalar_int is {scalar_int}\")\n",
    "\n",
    "first = \"String concatenation\"\n",
    "second = \" is like addition\"\n",
    "print(first + second)"
   ]
  },
  {
   "cell_type": "markdown",
   "metadata": {
    "collapsed": false
   },
   "source": [
    "## Problem: Create a list\n",
    "\n",
    "1. Create a list containing `scalar_float` and `scalar_int`\n",
    "2. Add `a_string` to the list.\n",
    "3. Select the second element from the list \n",
    "4. Select the the lst two elements of the list"
   ]
  },
  {
   "cell_type": "code",
   "execution_count": 3,
   "metadata": {
    "collapsed": false,
    "execution": {
     "iopub.execute_input": "2020-12-15T17:48:49.333471Z",
     "iopub.status.busy": "2020-12-15T17:48:49.333471Z",
     "iopub.status.idle": "2020-12-15T17:48:49.346471Z",
     "shell.execute_reply": "2020-12-15T17:48:49.346471Z"
    },
    "pycharm": {
     "is_executing": false,
     "name": "#%%\n"
    }
   },
   "outputs": [
    {
     "name": "stdout",
     "output_type": "stream",
     "text": [
      "[3.1415, 31415]\n",
      "[3.1415, 31415, 'This is a string']\n"
     ]
    }
   ],
   "source": [
    "a_list = [scalar_float, scalar_int]\n",
    "print(a_list)\n",
    "a_list.append(a_string)\n",
    "print(a_list)\n",
    "\n",
    "second_element = a_list[1]\n",
    "\n",
    "end_of_a_list = a_list[1:]\n",
    "other_wa = a_list[-2:]"
   ]
  },
  {
   "cell_type": "markdown",
   "metadata": {
    "collapsed": false
   },
   "source": [
    "## Problem: Create a list of lists\n",
    "\n",
    "1. Create a list containing the two lists `[1, 2, 3]` and `[4, 5, 6]`\n",
    "2. Select the element 5 from the nested list"
   ]
  },
  {
   "cell_type": "code",
   "execution_count": 4,
   "metadata": {
    "collapsed": false,
    "execution": {
     "iopub.execute_input": "2020-12-15T17:48:49.349471Z",
     "iopub.status.busy": "2020-12-15T17:48:49.349471Z",
     "iopub.status.idle": "2020-12-15T17:48:49.362471Z",
     "shell.execute_reply": "2020-12-15T17:48:49.362471Z"
    },
    "pycharm": {
     "is_executing": false,
     "name": "#%%\n"
    }
   },
   "outputs": [
    {
     "name": "stdout",
     "output_type": "stream",
     "text": [
      "[4, 5, 6]\n",
      "5\n",
      "5\n"
     ]
    }
   ],
   "source": [
    "second_list = [[1, 2, 3], [4, 5, 6]]\n",
    "second_row = second_list[1]\n",
    "print(second_row)\n",
    "number_5 = second_row[1]\n",
    "print(number_5)\n",
    "number_5_direct = second_list[1][1]\n",
    "print(number_5_direct)"
   ]
  },
  {
   "cell_type": "markdown",
   "metadata": {
    "collapsed": false,
    "pycharm": {
     "name": "#%% md\n"
    }
   },
   "source": [
    "## Problem: Create a tuple\n",
    "\n",
    "1. Create a tuple containing the values (1, 2.0, \"c\")\n",
    "2. Select the element \"c\" from the tuple"
   ]
  },
  {
   "cell_type": "code",
   "execution_count": 5,
   "metadata": {
    "collapsed": false,
    "execution": {
     "iopub.execute_input": "2020-12-15T17:48:49.364470Z",
     "iopub.status.busy": "2020-12-15T17:48:49.364470Z",
     "iopub.status.idle": "2020-12-15T17:48:49.378471Z",
     "shell.execute_reply": "2020-12-15T17:48:49.378471Z"
    },
    "pycharm": {
     "is_executing": false,
     "name": "#%%\n"
    }
   },
   "outputs": [
    {
     "name": "stdout",
     "output_type": "stream",
     "text": [
      "c\n"
     ]
    }
   ],
   "source": [
    "tpl = (1, 2.0, \"c\")\n",
    "c = tpl[2]\n",
    "print(c)\n"
   ]
  },
  {
   "cell_type": "markdown",
   "metadata": {
    "collapsed": false
   },
   "source": [
    "## Problem: Convert a list to a tuple and back\n",
    "\n",
    "1. Convert the list-of-lists created to a tuple-of-tuples\n",
    "2. Convert the tuple-of-tuples back to a list of lists"
   ]
  },
  {
   "cell_type": "code",
   "execution_count": 6,
   "metadata": {
    "collapsed": false,
    "execution": {
     "iopub.execute_input": "2020-12-15T17:48:49.381470Z",
     "iopub.status.busy": "2020-12-15T17:48:49.381470Z",
     "iopub.status.idle": "2020-12-15T17:48:49.394470Z",
     "shell.execute_reply": "2020-12-15T17:48:49.394470Z"
    },
    "pycharm": {
     "is_executing": false,
     "name": "#%%\n"
    }
   },
   "outputs": [
    {
     "name": "stdout",
     "output_type": "stream",
     "text": [
      "((1, 2, 3), (4, 5, 6))\n",
      "[[1, 2, 3], [4, 5, 6]]\n"
     ]
    }
   ],
   "source": [
    "second_tuple = (tuple(second_list[0]), tuple(second_list[1]))\n",
    "print(second_tuple)\n",
    "second_list = [list(second_tuple[0]), list(second_tuple[1])]\n",
    "print(second_list)"
   ]
  },
  {
   "cell_type": "markdown",
   "metadata": {
    "collapsed": false
   },
   "source": [
    "## Problem: Create a dictionary\n",
    "\n",
    "1. Create a dictionary containing the key-value pairs `\"float\"` and 3.1415,\n",
    "   `\"int\"` and 31415, and `\"string\"` and `\"three-point-one-four-one-five\"`."
   ]
  },
  {
   "cell_type": "code",
   "execution_count": 7,
   "metadata": {
    "collapsed": false,
    "execution": {
     "iopub.execute_input": "2020-12-15T17:48:49.397470Z",
     "iopub.status.busy": "2020-12-15T17:48:49.396470Z",
     "iopub.status.idle": "2020-12-15T17:48:49.410472Z",
     "shell.execute_reply": "2020-12-15T17:48:49.410472Z"
    },
    "pycharm": {
     "is_executing": false,
     "name": "#%%\n"
    }
   },
   "outputs": [
    {
     "name": "stdout",
     "output_type": "stream",
     "text": [
      "{'float': 3.1415, 'int': 31415, 'string': 'three-point-one-four-one-five'}\n"
     ]
    }
   ],
   "source": [
    "a_dict = {\"float\": 3.1415,\n",
    "          \"int\": 31415,\n",
    "          \"string\": \"three-point-one-four-one-five\"}\n",
    " \n",
    "print(a_dict)"
   ]
  },
  {
   "cell_type": "markdown",
   "metadata": {
    "collapsed": false
   },
   "source": [
    "## Problem: Lookup and Change a value\n",
    "\n",
    "1. Look up the value of `\"float\"`.\n",
    "2. Change the value of `\"float\"` to `22 / 7`."
   ]
  },
  {
   "cell_type": "code",
   "execution_count": 8,
   "metadata": {
    "collapsed": false,
    "execution": {
     "iopub.execute_input": "2020-12-15T17:48:49.412470Z",
     "iopub.status.busy": "2020-12-15T17:48:49.412470Z",
     "iopub.status.idle": "2020-12-15T17:48:49.426471Z",
     "shell.execute_reply": "2020-12-15T17:48:49.426471Z"
    },
    "pycharm": {
     "is_executing": false,
     "name": "#%%\n"
    }
   },
   "outputs": [
    {
     "name": "stdout",
     "output_type": "stream",
     "text": [
      "3.1415\n",
      "3.142857142857143\n"
     ]
    }
   ],
   "source": [
    "print(a_dict[\"float\"])\n",
    "a_dict[\"float\"] = 22 / 7\n",
    "print(a_dict[\"float\"])"
   ]
  },
  {
   "cell_type": "markdown",
   "metadata": {
    "collapsed": false
   },
   "source": [
    "## Problem: Add and remove a key \n",
    "\n",
    "1. Add the new key \"better_float\" with the value 3.141592.\n",
    "2. Remove the key \"float\" and its value."
   ]
  },
  {
   "cell_type": "code",
   "execution_count": 9,
   "metadata": {
    "collapsed": false,
    "execution": {
     "iopub.execute_input": "2020-12-15T17:48:49.428470Z",
     "iopub.status.busy": "2020-12-15T17:48:49.428470Z",
     "iopub.status.idle": "2020-12-15T17:48:49.442471Z",
     "shell.execute_reply": "2020-12-15T17:48:49.442471Z"
    },
    "pycharm": {
     "is_executing": false,
     "name": "#%%\n"
    }
   },
   "outputs": [
    {
     "name": "stdout",
     "output_type": "stream",
     "text": [
      "{'float': 3.142857142857143, 'int': 31415, 'string': 'three-point-one-four-one-five', 'better_float': 3.141592}\n",
      "{'int': 31415, 'string': 'three-point-one-four-one-five', 'better_float': 3.141592}\n"
     ]
    }
   ],
   "source": [
    "a_dict[\"better_float\"] = 3.141592\n",
    "print(a_dict)\n",
    "\n",
    "del a_dict[\"float\"]\n",
    "print(a_dict)"
   ]
  },
  {
   "cell_type": "markdown",
   "metadata": {
    "collapsed": false,
    "pycharm": {
     "name": "#%% md\n"
    }
   },
   "source": [
    "## Exercises\n",
    "\n",
    "### Exercise: Manipulating lists\n",
    "\n",
    "1. Create an empty list called `lst`\n",
    "2. Add the elements `9`, `\"Eight\"` and `7.0` (in order) to the list.\n",
    "3. Extend the list with the list `[\"Six\", 5, 4.0]` using `extend`\n",
    "4. Select first 4 elements of `lst`\n",
    "5. Select last 3 elements of `lst`\n"
   ]
  },
  {
   "cell_type": "code",
   "execution_count": 10,
   "metadata": {
    "collapsed": false,
    "execution": {
     "iopub.execute_input": "2020-12-15T17:48:49.448471Z",
     "iopub.status.busy": "2020-12-15T17:48:49.448471Z",
     "iopub.status.idle": "2020-12-15T17:48:49.457470Z",
     "shell.execute_reply": "2020-12-15T17:48:49.457470Z"
    },
    "pycharm": {
     "is_executing": false,
     "name": "#%%\n"
    }
   },
   "outputs": [
    {
     "data": {
      "text/plain": [
       "[9, 'Eight', 7.0]"
      ]
     },
     "execution_count": 10,
     "metadata": {},
     "output_type": "execute_result"
    }
   ],
   "source": [
    "lst = []\n",
    "lst.append(9)\n",
    "lst.append(\"Eight\")\n",
    "lst.append(7.0)\n",
    "lst"
   ]
  },
  {
   "cell_type": "code",
   "execution_count": 11,
   "metadata": {
    "collapsed": false,
    "execution": {
     "iopub.execute_input": "2020-12-15T17:48:49.460473Z",
     "iopub.status.busy": "2020-12-15T17:48:49.460473Z",
     "iopub.status.idle": "2020-12-15T17:48:49.473473Z",
     "shell.execute_reply": "2020-12-15T17:48:49.473473Z"
    },
    "pycharm": {
     "is_executing": false,
     "name": "#%%\n"
    }
   },
   "outputs": [
    {
     "data": {
      "text/plain": [
       "[9, 'Eight', 7.0, 'Six', 5, 4.0]"
      ]
     },
     "execution_count": 11,
     "metadata": {},
     "output_type": "execute_result"
    }
   ],
   "source": [
    "lst.extend([\"Six\", 5, 4.0])\n",
    "lst"
   ]
  },
  {
   "cell_type": "code",
   "execution_count": 12,
   "metadata": {
    "collapsed": false,
    "execution": {
     "iopub.execute_input": "2020-12-15T17:48:49.476471Z",
     "iopub.status.busy": "2020-12-15T17:48:49.476471Z",
     "iopub.status.idle": "2020-12-15T17:48:49.489470Z",
     "shell.execute_reply": "2020-12-15T17:48:49.489470Z"
    },
    "pycharm": {
     "is_executing": false,
     "name": "#%%\n"
    }
   },
   "outputs": [
    {
     "data": {
      "text/plain": [
       "[9, 'Eight', 7.0, 'Six']"
      ]
     },
     "execution_count": 12,
     "metadata": {},
     "output_type": "execute_result"
    }
   ],
   "source": [
    "lst[0:4]"
   ]
  },
  {
   "cell_type": "code",
   "execution_count": 13,
   "metadata": {
    "collapsed": false,
    "execution": {
     "iopub.execute_input": "2020-12-15T17:48:49.492471Z",
     "iopub.status.busy": "2020-12-15T17:48:49.491473Z",
     "iopub.status.idle": "2020-12-15T17:48:49.504470Z",
     "shell.execute_reply": "2020-12-15T17:48:49.504470Z"
    },
    "pycharm": {
     "name": "#%%\n"
    }
   },
   "outputs": [
    {
     "data": {
      "text/plain": [
       "[9, 'Eight', 7.0, 'Six']"
      ]
     },
     "execution_count": 13,
     "metadata": {},
     "output_type": "execute_result"
    }
   ],
   "source": [
    "# Also works since selecting from the start of the list\n",
    "lst[:4]"
   ]
  },
  {
   "cell_type": "code",
   "execution_count": 14,
   "metadata": {
    "collapsed": false,
    "execution": {
     "iopub.execute_input": "2020-12-15T17:48:49.507471Z",
     "iopub.status.busy": "2020-12-15T17:48:49.506470Z",
     "iopub.status.idle": "2020-12-15T17:48:49.520470Z",
     "shell.execute_reply": "2020-12-15T17:48:49.520470Z"
    },
    "pycharm": {
     "is_executing": false,
     "name": "#%%\n"
    }
   },
   "outputs": [
    {
     "data": {
      "text/plain": [
       "['Six', 5, 4.0]"
      ]
     },
     "execution_count": 14,
     "metadata": {},
     "output_type": "execute_result"
    }
   ],
   "source": [
    "lst[3:6]"
   ]
  },
  {
   "cell_type": "code",
   "execution_count": 15,
   "metadata": {
    "collapsed": false,
    "execution": {
     "iopub.execute_input": "2020-12-15T17:48:49.523471Z",
     "iopub.status.busy": "2020-12-15T17:48:49.522470Z",
     "iopub.status.idle": "2020-12-15T17:48:49.536471Z",
     "shell.execute_reply": "2020-12-15T17:48:49.536471Z"
    },
    "pycharm": {
     "name": "#%%\n"
    }
   },
   "outputs": [
    {
     "data": {
      "text/plain": [
       "['Six', 5, 4.0]"
      ]
     },
     "execution_count": 15,
     "metadata": {},
     "output_type": "execute_result"
    }
   ],
   "source": [
    "# Also worse since selecting to end of the list \n",
    "lst[3:]"
   ]
  },
  {
   "cell_type": "code",
   "execution_count": 16,
   "metadata": {
    "collapsed": false,
    "execution": {
     "iopub.execute_input": "2020-12-15T17:48:49.539471Z",
     "iopub.status.busy": "2020-12-15T17:48:49.538470Z",
     "iopub.status.idle": "2020-12-15T17:48:49.552474Z",
     "shell.execute_reply": "2020-12-15T17:48:49.552474Z"
    },
    "pycharm": {
     "name": "#%%\n"
    }
   },
   "outputs": [
    {
     "data": {
      "text/plain": [
       "['Six', 5, 4.0]"
      ]
     },
     "execution_count": 16,
     "metadata": {},
     "output_type": "execute_result"
    }
   ],
   "source": [
    "# Also works with negative to select from the tail\n",
    "lst[-3:]"
   ]
  },
  {
   "cell_type": "markdown",
   "metadata": {
    "collapsed": false,
    "pycharm": {
     "name": "#%% md\n"
    }
   },
   "source": [
    "### Exercise: Dictionary Manipulation\n",
    "\n",
    "1. Create a empty dictionary called `dct`\n",
    "2. Add the pairs \"apple\" and 1, \"banana\" and 2.0, and \"cherry\" and \"iii\"\n",
    "3. Replace the value of \"apple\" with \"I\"\n",
    "4. Remove the entry for \"banana\"\n",
    "5. Add an entry \"date\" with the value 4"
   ]
  },
  {
   "cell_type": "code",
   "execution_count": 17,
   "metadata": {
    "collapsed": false,
    "execution": {
     "iopub.execute_input": "2020-12-15T17:48:49.555471Z",
     "iopub.status.busy": "2020-12-15T17:48:49.554473Z",
     "iopub.status.idle": "2020-12-15T17:48:49.568471Z",
     "shell.execute_reply": "2020-12-15T17:48:49.568471Z"
    },
    "pycharm": {
     "is_executing": false,
     "name": "#%%\n"
    }
   },
   "outputs": [
    {
     "data": {
      "text/plain": [
       "{}"
      ]
     },
     "execution_count": 17,
     "metadata": {},
     "output_type": "execute_result"
    }
   ],
   "source": [
    "dct = {}\n",
    "dct"
   ]
  },
  {
   "cell_type": "code",
   "execution_count": 18,
   "metadata": {
    "collapsed": false,
    "execution": {
     "iopub.execute_input": "2020-12-15T17:48:49.571470Z",
     "iopub.status.busy": "2020-12-15T17:48:49.571470Z",
     "iopub.status.idle": "2020-12-15T17:48:49.584471Z",
     "shell.execute_reply": "2020-12-15T17:48:49.584471Z"
    },
    "pycharm": {
     "is_executing": false,
     "name": "#%%\n"
    }
   },
   "outputs": [
    {
     "data": {
      "text/plain": [
       "{'apple': 1, 'banana': 2.0, 'cherry': 'iii'}"
      ]
     },
     "execution_count": 18,
     "metadata": {},
     "output_type": "execute_result"
    }
   ],
   "source": [
    "dct[\"apple\"] = 1\n",
    "dct[\"banana\"] = 2.0\n",
    "dct[\"cherry\"] = \"iii\"\n",
    "dct"
   ]
  },
  {
   "cell_type": "code",
   "execution_count": 19,
   "metadata": {
    "collapsed": false,
    "execution": {
     "iopub.execute_input": "2020-12-15T17:48:49.587487Z",
     "iopub.status.busy": "2020-12-15T17:48:49.587487Z",
     "iopub.status.idle": "2020-12-15T17:48:49.600485Z",
     "shell.execute_reply": "2020-12-15T17:48:49.600485Z"
    },
    "pycharm": {
     "is_executing": false,
     "name": "#%%\n"
    }
   },
   "outputs": [
    {
     "data": {
      "text/plain": [
       "{'apple': 'I', 'banana': 2.0, 'cherry': 'iii'}"
      ]
     },
     "execution_count": 19,
     "metadata": {},
     "output_type": "execute_result"
    }
   ],
   "source": [
    "dct[\"apple\"] = \"I\"\n",
    "dct"
   ]
  },
  {
   "cell_type": "code",
   "execution_count": 20,
   "metadata": {
    "collapsed": false,
    "execution": {
     "iopub.execute_input": "2020-12-15T17:48:49.603485Z",
     "iopub.status.busy": "2020-12-15T17:48:49.603485Z",
     "iopub.status.idle": "2020-12-15T17:48:49.616485Z",
     "shell.execute_reply": "2020-12-15T17:48:49.616485Z"
    },
    "pycharm": {
     "is_executing": false,
     "name": "#%%\n"
    }
   },
   "outputs": [
    {
     "data": {
      "text/plain": [
       "{'apple': 'I', 'cherry': 'iii'}"
      ]
     },
     "execution_count": 20,
     "metadata": {},
     "output_type": "execute_result"
    }
   ],
   "source": [
    "del dct[\"banana\"]\n",
    "dct"
   ]
  },
  {
   "cell_type": "code",
   "execution_count": 21,
   "metadata": {
    "collapsed": false,
    "execution": {
     "iopub.execute_input": "2020-12-15T17:48:49.619485Z",
     "iopub.status.busy": "2020-12-15T17:48:49.618485Z",
     "iopub.status.idle": "2020-12-15T17:48:49.632485Z",
     "shell.execute_reply": "2020-12-15T17:48:49.632485Z"
    },
    "pycharm": {
     "is_executing": false,
     "name": "#%%\n"
    }
   },
   "outputs": [
    {
     "data": {
      "text/plain": [
       "{'apple': 'I', 'cherry': 'iii', 'date': 4}"
      ]
     },
     "execution_count": 21,
     "metadata": {},
     "output_type": "execute_result"
    }
   ],
   "source": [
    "dct[\"date\"] = 4\n",
    "dct"
   ]
  },
  {
   "cell_type": "markdown",
   "metadata": {
    "collapsed": false,
    "pycharm": {
     "name": "#%% md\n"
    }
   },
   "source": [
    "### Exercise: Directly create a Dictionary\n",
    "\n",
    "Using the final version of `dct` from the previous exercise:\n",
    "\n",
    "1. Directly initialize a new dictionary called `other_dct`.\n",
    "2. Use an f-string to print the values associated with each key.\n",
    "\n",
    "**Hint** You must use both types of quotes. For example, to access a value in\n",
    "an f-string.\n",
    "\n",
    "```python\n",
    "f\"{other_dct['apple']}\"\n",
    "```"
   ]
  },
  {
   "cell_type": "code",
   "execution_count": 22,
   "metadata": {
    "collapsed": false,
    "execution": {
     "iopub.execute_input": "2020-12-15T17:48:49.635485Z",
     "iopub.status.busy": "2020-12-15T17:48:49.635485Z",
     "iopub.status.idle": "2020-12-15T17:48:49.648488Z",
     "shell.execute_reply": "2020-12-15T17:48:49.648488Z"
    },
    "pycharm": {
     "is_executing": false,
     "name": "#%%\n"
    }
   },
   "outputs": [
    {
     "data": {
      "text/plain": [
       "{'apple': 'I', 'cherry': 'iii', 'date': 4}"
      ]
     },
     "execution_count": 22,
     "metadata": {},
     "output_type": "execute_result"
    }
   ],
   "source": [
    "other_dct = {\"apple\": \"I\", \"cherry\": \"iii\", \"date\": 4}\n",
    "other_dct\n"
   ]
  },
  {
   "cell_type": "code",
   "execution_count": 23,
   "metadata": {
    "collapsed": false,
    "execution": {
     "iopub.execute_input": "2020-12-15T17:48:49.651485Z",
     "iopub.status.busy": "2020-12-15T17:48:49.650488Z",
     "iopub.status.idle": "2020-12-15T17:48:49.664485Z",
     "shell.execute_reply": "2020-12-15T17:48:49.664485Z"
    },
    "pycharm": {
     "is_executing": false,
     "name": "#%%\n"
    }
   },
   "outputs": [
    {
     "name": "stdout",
     "output_type": "stream",
     "text": [
      "apple: I, cherry: iii, date: 4\n"
     ]
    }
   ],
   "source": [
    "print(f\"apple: {other_dct['apple']}, cherry: {other_dct['cherry']}, date: {other_dct['date']}\")\n",
    " "
   ]
  },
  {
   "cell_type": "markdown",
   "metadata": {
    "collapsed": false
   },
   "source": [
    "### Exercise: Tuple Manipulation\n",
    "\n",
    "1. Create a tuple `tpl` containing 100 and 4\n",
    "2. Convert to a list, add the elements 101 and 5\n",
    "3. Convert back toa tuple"
   ]
  },
  {
   "cell_type": "code",
   "execution_count": 24,
   "metadata": {
    "collapsed": false,
    "execution": {
     "iopub.execute_input": "2020-12-15T17:48:49.666488Z",
     "iopub.status.busy": "2020-12-15T17:48:49.666488Z",
     "iopub.status.idle": "2020-12-15T17:48:49.679486Z",
     "shell.execute_reply": "2020-12-15T17:48:49.679486Z"
    },
    "pycharm": {
     "is_executing": false,
     "name": "#%%\n"
    }
   },
   "outputs": [
    {
     "data": {
      "text/plain": [
       "(100, 4)"
      ]
     },
     "execution_count": 24,
     "metadata": {},
     "output_type": "execute_result"
    }
   ],
   "source": [
    "tpl = (100, 4)\n",
    "tpl"
   ]
  },
  {
   "cell_type": "code",
   "execution_count": 25,
   "metadata": {
    "collapsed": false,
    "execution": {
     "iopub.execute_input": "2020-12-15T17:48:49.682487Z",
     "iopub.status.busy": "2020-12-15T17:48:49.682487Z",
     "iopub.status.idle": "2020-12-15T17:48:49.695484Z",
     "shell.execute_reply": "2020-12-15T17:48:49.695484Z"
    },
    "pycharm": {
     "is_executing": false,
     "name": "#%%\n"
    }
   },
   "outputs": [
    {
     "data": {
      "text/plain": [
       "[100, 4, 101, 5]"
      ]
     },
     "execution_count": 25,
     "metadata": {},
     "output_type": "execute_result"
    }
   ],
   "source": [
    "tpl = list(tpl)\n",
    "tpl.extend([101, 5])\n",
    "tpl"
   ]
  },
  {
   "cell_type": "code",
   "execution_count": 26,
   "metadata": {
    "collapsed": false,
    "execution": {
     "iopub.execute_input": "2020-12-15T17:48:49.698488Z",
     "iopub.status.busy": "2020-12-15T17:48:49.697483Z",
     "iopub.status.idle": "2020-12-15T17:48:49.710484Z",
     "shell.execute_reply": "2020-12-15T17:48:49.710484Z"
    },
    "pycharm": {
     "is_executing": false,
     "name": "#%%\n"
    }
   },
   "outputs": [
    {
     "data": {
      "text/plain": [
       "(100, 4, 101, 5)"
      ]
     },
     "execution_count": 26,
     "metadata": {},
     "output_type": "execute_result"
    }
   ],
   "source": [
    "tpl = tuple(tpl)\n",
    "tpl"
   ]
  }
 ],
 "metadata": {
  "kernelspec": {
   "display_name": "Python 3",
   "language": "python",
   "name": "python3"
  },
  "language_info": {
   "codemirror_mode": {
    "name": "ipython",
    "version": 3
   },
   "file_extension": ".py",
   "mimetype": "text/x-python",
   "name": "python",
   "nbconvert_exporter": "python",
   "pygments_lexer": "ipython3",
   "version": "3.8.5"
  },
  "pycharm": {
   "stem_cell": {
    "cell_type": "raw",
    "metadata": {
     "collapsed": false
    },
    "source": [
     "\n"
    ]
   }
  }
 },
 "nbformat": 4,
 "nbformat_minor": 1
}
