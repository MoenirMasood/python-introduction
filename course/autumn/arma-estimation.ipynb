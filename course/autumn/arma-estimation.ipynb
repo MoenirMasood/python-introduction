{
 "cells": [
  {
   "cell_type": "markdown",
   "metadata": {
    "collapsed": true
   },
   "source": [
    "## ARMA Modeling: Estimation\n",
    "\n",
    "**Functions**\n",
    "\n",
    "`tsa.SARIMAX`"
   ]
  },
  {
   "cell_type": "code",
   "execution_count": null,
   "metadata": {
    "execution": {
     "iopub.execute_input": "2020-12-15T17:32:50.628436Z",
     "iopub.status.busy": "2020-12-15T17:32:50.628436Z",
     "iopub.status.idle": "2020-12-15T17:32:51.133004Z",
     "shell.execute_reply": "2020-12-15T17:32:51.133004Z"
    }
   },
   "outputs": [],
   "source": []
  },
  {
   "cell_type": "markdown",
   "metadata": {},
   "source": [
    "### Exercise 65\n",
    "Estimate an AR(1) on the term premium, and compute standard errors for the parameters."
   ]
  },
  {
   "cell_type": "code",
   "execution_count": null,
   "metadata": {
    "execution": {
     "iopub.execute_input": "2020-12-15T17:32:51.975005Z",
     "iopub.status.busy": "2020-12-15T17:32:51.974000Z",
     "iopub.status.idle": "2020-12-15T17:32:52.350003Z",
     "shell.execute_reply": "2020-12-15T17:32:52.350003Z"
    }
   },
   "outputs": [],
   "source": []
  },
  {
   "cell_type": "markdown",
   "metadata": {},
   "source": [
    "### Exercise 66\n",
    "Estimate an MA(5) on the term premium, and compute standard errors for the parameters."
   ]
  },
  {
   "cell_type": "code",
   "execution_count": null,
   "metadata": {
    "execution": {
     "iopub.execute_input": "2020-12-15T17:32:52.386001Z",
     "iopub.status.busy": "2020-12-15T17:32:52.385001Z",
     "iopub.status.idle": "2020-12-15T17:32:52.912464Z",
     "shell.execute_reply": "2020-12-15T17:32:52.912464Z"
    }
   },
   "outputs": [],
   "source": []
  },
  {
   "cell_type": "markdown",
   "metadata": {},
   "source": [
    "### Exercise 67\n",
    "Estimate an ARMA(1,1) on the term premium, and compute standard errors for the parameters."
   ]
  },
  {
   "cell_type": "code",
   "execution_count": null,
   "metadata": {
    "execution": {
     "iopub.execute_input": "2020-12-15T17:32:52.933465Z",
     "iopub.status.busy": "2020-12-15T17:32:52.933465Z",
     "iopub.status.idle": "2020-12-15T17:32:53.196024Z",
     "shell.execute_reply": "2020-12-15T17:32:53.196024Z"
    }
   },
   "outputs": [],
   "source": []
  }
 ],
 "metadata": {
  "kernelspec": {
   "display_name": "Python 3",
   "language": "python",
   "name": "python3"
  },
  "language_info": {
   "codemirror_mode": {
    "name": "ipython",
    "version": 3
   },
   "file_extension": ".py",
   "mimetype": "text/x-python",
   "name": "python",
   "nbconvert_exporter": "python",
   "pygments_lexer": "ipython3",
   "version": "3.8.5"
  },
  "pycharm": {
   "stem_cell": {
    "cell_type": "raw",
    "metadata": {
     "collapsed": false
    },
    "source": []
   }
  }
 },
 "nbformat": 4,
 "nbformat_minor": 1
}
