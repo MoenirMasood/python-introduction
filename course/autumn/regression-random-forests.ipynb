{
 "cells": [
  {
   "cell_type": "markdown",
   "metadata": {},
   "source": [
    "## Regression: Tree-based Methods\n",
    "\n",
    "\n",
    "**Functions**\n",
    "\n",
    "`sklearn.ensemble.RandomForestRegressor`, `sklearn.model_selection.GridSearchCV`, `sklearn.ensemble.GradientBoostingRegressor`"
   ]
  },
  {
   "cell_type": "code",
   "execution_count": null,
   "metadata": {
    "execution": {
     "iopub.execute_input": "2020-12-07T13:44:55.539962Z",
     "iopub.status.busy": "2020-12-07T13:44:55.538962Z",
     "iopub.status.idle": "2020-12-07T13:44:56.975057Z",
     "shell.execute_reply": "2020-12-07T13:44:56.976057Z"
    }
   },
   "outputs": [],
   "source": []
  },
  {
   "cell_type": "markdown",
   "metadata": {},
   "source": [
    "### Exercise 59\n",
    "\n",
    "Load the portfolio tracking data and compute the in- and out-of-sample SSE for OLS."
   ]
  },
  {
   "cell_type": "code",
   "execution_count": null,
   "metadata": {
    "execution": {
     "iopub.execute_input": "2020-12-07T13:44:56.978057Z",
     "iopub.status.busy": "2020-12-07T13:44:56.978057Z",
     "iopub.status.idle": "2020-12-07T13:44:57.023059Z",
     "shell.execute_reply": "2020-12-07T13:44:57.024058Z"
    }
   },
   "outputs": [],
   "source": []
  },
  {
   "cell_type": "markdown",
   "metadata": {},
   "source": [
    "### Exercise 60\n",
    "\n",
    "Fit a default Random Forest in a reproducible manner to the portfolio tracking data and compute the in- and out-of-sample SSE.\n",
    "\n",
    "**Warning**: This exercise is simply an example of how to use these methods. In general tree-based models are terrible choices for tracking portfolio construction since the final model is not a weighted combination of the returns, but instead depends on non-linear transformation of the returns. This makes implementation of a tree-based estimator virtually impossible. "
   ]
  },
  {
   "cell_type": "code",
   "execution_count": null,
   "metadata": {
    "execution": {
     "iopub.execute_input": "2020-12-07T13:44:57.104574Z",
     "iopub.status.busy": "2020-12-07T13:44:57.104574Z",
     "iopub.status.idle": "2020-12-07T13:44:57.230575Z",
     "shell.execute_reply": "2020-12-07T13:44:57.229574Z"
    }
   },
   "outputs": [],
   "source": []
  },
  {
   "cell_type": "markdown",
   "metadata": {},
   "source": [
    "### Exercise 61\n",
    "\n",
    "Optimize the key tuning parameters of the Random Forest using cross-validation and compute the out-of-sample SSE of the preferred model."
   ]
  },
  {
   "cell_type": "code",
   "execution_count": null,
   "metadata": {
    "execution": {
     "iopub.execute_input": "2020-12-07T13:44:57.251572Z",
     "iopub.status.busy": "2020-12-07T13:44:57.250573Z",
     "iopub.status.idle": "2020-12-07T13:45:10.932029Z",
     "shell.execute_reply": "2020-12-07T13:45:10.932029Z"
    }
   },
   "outputs": [],
   "source": []
  },
  {
   "cell_type": "markdown",
   "metadata": {},
   "source": [
    "### Exercise 62\n",
    "\n",
    "Boosting is often a better alternative to Random Forests sine it limits tree depth, and in turn, variable interactions. Fit a default boosted regression tree to the portfolio tracking data, and compute the out-of-sample SSE."
   ]
  },
  {
   "cell_type": "code",
   "execution_count": null,
   "metadata": {
    "execution": {
     "iopub.execute_input": "2020-12-07T13:45:11.764026Z",
     "iopub.status.busy": "2020-12-07T13:45:11.764026Z",
     "iopub.status.idle": "2020-12-07T13:45:11.885028Z",
     "shell.execute_reply": "2020-12-07T13:45:11.886026Z"
    }
   },
   "outputs": [],
   "source": []
  },
  {
   "cell_type": "markdown",
   "metadata": {},
   "source": [
    "### Exercise 63\n",
    "\n",
    "Optimize the key parameters of the boosted regression tree using cross-validation."
   ]
  },
  {
   "cell_type": "code",
   "execution_count": null,
   "metadata": {
    "execution": {
     "iopub.execute_input": "2020-12-07T13:45:11.889026Z",
     "iopub.status.busy": "2020-12-07T13:45:11.889026Z",
     "iopub.status.idle": "2020-12-07T13:47:20.733418Z",
     "shell.execute_reply": "2020-12-07T13:47:20.733418Z"
    }
   },
   "outputs": [],
   "source": []
  },
  {
   "cell_type": "markdown",
   "metadata": {},
   "source": [
    "### Exercise 64\n",
    "\n",
    "Compute the out-of-sample SSE for the selected boosted regression tree."
   ]
  },
  {
   "cell_type": "code",
   "execution_count": null,
   "metadata": {
    "execution": {
     "iopub.execute_input": "2020-12-07T13:47:28.020230Z",
     "iopub.status.busy": "2020-12-07T13:47:28.019230Z",
     "iopub.status.idle": "2020-12-07T13:47:28.027232Z",
     "shell.execute_reply": "2020-12-07T13:47:28.027232Z"
    }
   },
   "outputs": [],
   "source": []
  }
 ],
 "metadata": {
  "kernelspec": {
   "display_name": "Python 3",
   "language": "python",
   "name": "python3"
  },
  "language_info": {
   "codemirror_mode": {
    "name": "ipython",
    "version": 3
   },
   "file_extension": ".py",
   "mimetype": "text/x-python",
   "name": "python",
   "nbconvert_exporter": "python",
   "pygments_lexer": "ipython3",
   "version": "3.8.5"
  }
 },
 "nbformat": 4,
 "nbformat_minor": 4
}
