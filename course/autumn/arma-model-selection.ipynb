{
 "cells": [
  {
   "cell_type": "markdown",
   "metadata": {
    "collapsed": true
   },
   "source": [
    "## ARMA Modeling: Model Selection\n",
    "\n",
    "**Functions**\n",
    "\n",
    "`sm.tsa.SARIMAX`\n",
    "\n",
    "### Exercise 68\n",
    "Perform a model selection exercise on the term premium using\n",
    "\n",
    "1. General-to-Specific\n",
    "2. Specific-to-General\n",
    "3. Minimizing an Information Criteria"
   ]
  },
  {
   "cell_type": "code",
   "execution_count": null,
   "metadata": {
    "execution": {
     "iopub.execute_input": "2020-12-07T13:44:15.295936Z",
     "iopub.status.busy": "2020-12-07T13:44:15.294936Z",
     "iopub.status.idle": "2020-12-07T13:44:15.762937Z",
     "shell.execute_reply": "2020-12-07T13:44:15.762937Z"
    }
   },
   "outputs": [],
   "source": []
  }
 ],
 "metadata": {
  "kernelspec": {
   "display_name": "Python 3",
   "language": "python",
   "name": "python3"
  },
  "language_info": {
   "codemirror_mode": {
    "name": "ipython",
    "version": 3
   },
   "file_extension": ".py",
   "mimetype": "text/x-python",
   "name": "python",
   "nbconvert_exporter": "python",
   "pygments_lexer": "ipython3",
   "version": "3.8.5"
  },
  "pycharm": {
   "stem_cell": {
    "cell_type": "raw",
    "metadata": {
     "collapsed": false
    },
    "source": []
   }
  }
 },
 "nbformat": 4,
 "nbformat_minor": 1
}
