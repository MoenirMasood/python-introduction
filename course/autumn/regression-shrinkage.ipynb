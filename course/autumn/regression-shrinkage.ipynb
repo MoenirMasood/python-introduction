{
 "cells": [
  {
   "cell_type": "markdown",
   "metadata": {},
   "source": [
    "## Linear Regression: Ridge Regression and LASSO\n",
    "\n",
    "**Functions**\n",
    "\n",
    "`sklearn.linear_model.RidgeCV`, `sklearn.linear_model.LassoCV`, `sklearn.preprocessing.StandardScaler`\n"
   ]
  },
  {
   "cell_type": "code",
   "execution_count": null,
   "metadata": {
    "execution": {
     "iopub.execute_input": "2020-12-07T13:47:29.809792Z",
     "iopub.status.busy": "2020-12-07T13:47:29.809792Z",
     "iopub.status.idle": "2020-12-07T13:47:30.538305Z",
     "shell.execute_reply": "2020-12-07T13:47:30.538305Z"
    }
   },
   "outputs": [],
   "source": []
  },
  {
   "cell_type": "markdown",
   "metadata": {},
   "source": [
    "### Exercise 49\n",
    "\n",
    "Standardize the value-weighted-market return data and the 12 industry portfolios by their standard deviation. You should _not_ remove the mean since we want to match the mean in the tracking portfolio."
   ]
  },
  {
   "cell_type": "code",
   "execution_count": null,
   "metadata": {
    "execution": {
     "iopub.execute_input": "2020-12-07T13:47:30.542305Z",
     "iopub.status.busy": "2020-12-07T13:47:30.541304Z",
     "iopub.status.idle": "2020-12-07T13:47:30.586305Z",
     "shell.execute_reply": "2020-12-07T13:47:30.587305Z"
    }
   },
   "outputs": [],
   "source": []
  },
  {
   "cell_type": "markdown",
   "metadata": {},
   "source": [
    "### Exercise 50\n",
    "\n",
    "Select the optimal tuning parameter in a LASSO and estimate model parameters for the tracking error minimizing portfolio using the standardized data."
   ]
  },
  {
   "cell_type": "code",
   "execution_count": null,
   "metadata": {
    "execution": {
     "iopub.execute_input": "2020-12-07T13:47:30.622304Z",
     "iopub.status.busy": "2020-12-07T13:47:30.621305Z",
     "iopub.status.idle": "2020-12-07T13:47:30.682305Z",
     "shell.execute_reply": "2020-12-07T13:47:30.682305Z"
    }
   },
   "outputs": [],
   "source": []
  },
  {
   "cell_type": "markdown",
   "metadata": {},
   "source": [
    "### Exercise 51\n",
    "\n",
    "Transform the estimated LASSO coefficients back to the scale of the original, non-standardized data."
   ]
  },
  {
   "cell_type": "code",
   "execution_count": null,
   "metadata": {
    "execution": {
     "iopub.execute_input": "2020-12-07T13:47:30.686304Z",
     "iopub.status.busy": "2020-12-07T13:47:30.686304Z",
     "iopub.status.idle": "2020-12-07T13:47:30.698306Z",
     "shell.execute_reply": "2020-12-07T13:47:30.698306Z"
    }
   },
   "outputs": [],
   "source": []
  },
  {
   "cell_type": "markdown",
   "metadata": {},
   "source": [
    "### Exercise 52\n",
    "\n",
    "Select the optimal tuning parameter in a Ridge regression and estimate model parameters for the tracking error minimizing portfolio using the standardized data."
   ]
  },
  {
   "cell_type": "code",
   "execution_count": null,
   "metadata": {
    "execution": {
     "iopub.execute_input": "2020-12-07T13:47:30.705306Z",
     "iopub.status.busy": "2020-12-07T13:47:30.702304Z",
     "iopub.status.idle": "2020-12-07T13:47:30.715306Z",
     "shell.execute_reply": "2020-12-07T13:47:30.714306Z"
    }
   },
   "outputs": [],
   "source": []
  },
  {
   "cell_type": "markdown",
   "metadata": {},
   "source": [
    "### Exercise 53\n",
    "\n",
    "Transform the estimated Ridge regression coefficients back to the scale of the original, non-standardized data."
   ]
  },
  {
   "cell_type": "code",
   "execution_count": null,
   "metadata": {
    "execution": {
     "iopub.execute_input": "2020-12-07T13:47:30.813305Z",
     "iopub.status.busy": "2020-12-07T13:47:30.813305Z",
     "iopub.status.idle": "2020-12-07T13:47:30.824308Z",
     "shell.execute_reply": "2020-12-07T13:47:30.824308Z"
    }
   },
   "outputs": [],
   "source": []
  },
  {
   "cell_type": "markdown",
   "metadata": {},
   "source": [
    "### Exercise 54\n",
    "\n",
    "Compare the parameter estimates from the LASSO and Ridge regression to those from OLS in a plot. Use the original, non-standardized data."
   ]
  },
  {
   "cell_type": "code",
   "execution_count": null,
   "metadata": {
    "execution": {
     "iopub.execute_input": "2020-12-07T13:47:30.828305Z",
     "iopub.status.busy": "2020-12-07T13:47:30.828305Z",
     "iopub.status.idle": "2020-12-07T13:47:31.917919Z",
     "shell.execute_reply": "2020-12-07T13:47:31.918918Z"
    }
   },
   "outputs": [],
   "source": []
  },
  {
   "cell_type": "markdown",
   "metadata": {},
   "source": [
    "### Exercise 55\n",
    "\n",
    "Use scikit-learn to scale the standardize the data by changing the scale but not the mean.\n"
   ]
  },
  {
   "cell_type": "code",
   "execution_count": null,
   "metadata": {
    "execution": {
     "iopub.execute_input": "2020-12-07T13:47:31.939918Z",
     "iopub.status.busy": "2020-12-07T13:47:31.939918Z",
     "iopub.status.idle": "2020-12-07T13:47:32.030922Z",
     "shell.execute_reply": "2020-12-07T13:47:32.030922Z"
    }
   },
   "outputs": [],
   "source": []
  },
  {
   "cell_type": "markdown",
   "metadata": {},
   "source": [
    "### Exercise 56\n",
    "\n",
    "Use the scikit-learn scaler to compute the predicted in-sample values using the Ridge ridge regression."
   ]
  },
  {
   "cell_type": "code",
   "execution_count": null,
   "metadata": {
    "execution": {
     "iopub.execute_input": "2020-12-07T13:47:32.035921Z",
     "iopub.status.busy": "2020-12-07T13:47:32.034922Z",
     "iopub.status.idle": "2020-12-07T13:47:32.045921Z",
     "shell.execute_reply": "2020-12-07T13:47:32.045921Z"
    }
   },
   "outputs": [],
   "source": []
  },
  {
   "cell_type": "markdown",
   "metadata": {},
   "source": [
    "### Exercise 57\n",
    "\n",
    "Use the scalar from scikit-learn to produce out-of-sample forecasts of the two shrinkage estimators and OLS and evaluate the out-of-sample SSE.\n"
   ]
  },
  {
   "cell_type": "code",
   "execution_count": null,
   "metadata": {
    "execution": {
     "iopub.execute_input": "2020-12-07T13:47:32.051920Z",
     "iopub.status.busy": "2020-12-07T13:47:32.050918Z",
     "iopub.status.idle": "2020-12-07T13:47:32.061920Z",
     "shell.execute_reply": "2020-12-07T13:47:32.061920Z"
    }
   },
   "outputs": [],
   "source": []
  },
  {
   "cell_type": "markdown",
   "metadata": {},
   "source": [
    "### Exercise 58\n",
    "\n",
    "Directly produce out-of-sample forecasts of the two shrinkage estimators and OLS and evaluate the out-of-sample SSE without using scikit-learn.\n"
   ]
  },
  {
   "cell_type": "code",
   "execution_count": null,
   "metadata": {
    "execution": {
     "iopub.execute_input": "2020-12-07T13:47:32.114918Z",
     "iopub.status.busy": "2020-12-07T13:47:32.113919Z",
     "iopub.status.idle": "2020-12-07T13:47:32.125920Z",
     "shell.execute_reply": "2020-12-07T13:47:32.125920Z"
    }
   },
   "outputs": [],
   "source": []
  }
 ],
 "metadata": {
  "kernelspec": {
   "display_name": "Python 3",
   "language": "python",
   "name": "python3"
  },
  "language_info": {
   "codemirror_mode": {
    "name": "ipython",
    "version": 3
   },
   "file_extension": ".py",
   "mimetype": "text/x-python",
   "name": "python",
   "nbconvert_exporter": "python",
   "pygments_lexer": "ipython3",
   "version": "3.8.5"
  }
 },
 "nbformat": 4,
 "nbformat_minor": 4
}
