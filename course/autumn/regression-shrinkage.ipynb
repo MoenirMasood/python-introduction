{
 "cells": [
  {
   "cell_type": "markdown",
   "metadata": {},
   "source": [
    "## Linear Regression: Ridge Regression and LASSO\n",
    "\n",
    "**Functions**\n",
    "\n",
    "`sklearn.linear_model.RidgeCV`, `sklearn.linear_model.LassoCV`, `sklearn.preprocessing.StandardScaler`\n"
   ]
  },
  {
   "cell_type": "code",
   "execution_count": null,
   "metadata": {
    "execution": {
     "iopub.execute_input": "2020-12-07T13:47:29.809792Z",
     "iopub.status.busy": "2020-12-07T13:47:29.809792Z",
     "iopub.status.idle": "2020-12-15T17:36:51.691735Z",
     "shell.execute_reply": "2020-12-15T17:36:51.692736Z"
    }
   },
   "outputs": [],
   "source": []
  },
  {
   "cell_type": "markdown",
   "metadata": {},
   "source": [
    "### Exercise 49\n",
    "\n",
    "Standardize the value-weighted-market return data and the 12 industry portfolios by their standard deviation. You should _not_ remove the mean since we want to match the mean in the tracking portfolio."
   ]
  },
  {
   "cell_type": "code",
   "execution_count": null,
   "metadata": {
    "execution": {
     "iopub.execute_input": "2020-12-15T17:36:51.696734Z",
     "iopub.status.busy": "2020-12-15T17:36:51.695735Z",
     "iopub.status.idle": "2020-12-15T17:36:51.738735Z",
     "shell.execute_reply": "2020-12-15T17:36:51.738735Z"
    }
   },
   "outputs": [],
   "source": []
  },
  {
   "cell_type": "markdown",
   "metadata": {},
   "source": [
    "### Exercise 50\n",
    "\n",
    "Select the optimal tuning parameter in a LASSO and estimate model parameters for the tracking error minimizing portfolio using the standardized data."
   ]
  },
  {
   "cell_type": "code",
   "execution_count": null,
   "metadata": {
    "execution": {
     "iopub.execute_input": "2020-12-15T17:36:51.774733Z",
     "iopub.status.busy": "2020-12-15T17:36:51.773735Z",
     "iopub.status.idle": "2020-12-15T17:36:51.831735Z",
     "shell.execute_reply": "2020-12-15T17:36:51.832736Z"
    }
   },
   "outputs": [],
   "source": []
  },
  {
   "cell_type": "markdown",
   "metadata": {},
   "source": [
    "### Exercise 51\n",
    "\n",
    "Transform the estimated LASSO coefficients back to the scale of the original, non-standardized data."
   ]
  },
  {
   "cell_type": "code",
   "execution_count": null,
   "metadata": {
    "execution": {
     "iopub.execute_input": "2020-12-15T17:36:51.836734Z",
     "iopub.status.busy": "2020-12-15T17:36:51.836734Z",
     "iopub.status.idle": "2020-12-15T17:36:51.847735Z",
     "shell.execute_reply": "2020-12-15T17:36:51.847735Z"
    }
   },
   "outputs": [],
   "source": []
  },
  {
   "cell_type": "markdown",
   "metadata": {},
   "source": [
    "### Exercise 52\n",
    "\n",
    "Select the optimal tuning parameter in a Ridge regression and estimate model parameters for the tracking error minimizing portfolio using the standardized data."
   ]
  },
  {
   "cell_type": "code",
   "execution_count": null,
   "metadata": {
    "execution": {
     "iopub.execute_input": "2020-12-15T17:36:51.869735Z",
     "iopub.status.busy": "2020-12-15T17:36:51.851734Z",
     "iopub.status.idle": "2020-12-15T17:36:51.878734Z",
     "shell.execute_reply": "2020-12-15T17:36:51.878734Z"
    }
   },
   "outputs": [],
   "source": []
  },
  {
   "cell_type": "markdown",
   "metadata": {},
   "source": [
    "### Exercise 53\n",
    "\n",
    "Transform the estimated Ridge regression coefficients back to the scale of the original, non-standardized data."
   ]
  },
  {
   "cell_type": "code",
   "execution_count": null,
   "metadata": {
    "execution": {
     "iopub.execute_input": "2020-12-15T17:36:51.961735Z",
     "iopub.status.busy": "2020-12-15T17:36:51.961735Z",
     "iopub.status.idle": "2020-12-15T17:36:51.973734Z",
     "shell.execute_reply": "2020-12-15T17:36:51.974734Z"
    }
   },
   "outputs": [],
   "source": []
  },
  {
   "cell_type": "markdown",
   "metadata": {},
   "source": [
    "### Exercise 54\n",
    "\n",
    "Compare the parameter estimates from the LASSO and Ridge regression to those from OLS in a plot. Use the original, non-standardized data."
   ]
  },
  {
   "cell_type": "code",
   "execution_count": null,
   "metadata": {
    "execution": {
     "iopub.execute_input": "2020-12-15T17:36:51.978735Z",
     "iopub.status.busy": "2020-12-15T17:36:51.977734Z",
     "iopub.status.idle": "2020-12-15T17:36:53.012008Z",
     "shell.execute_reply": "2020-12-15T17:36:53.012008Z"
    }
   },
   "outputs": [],
   "source": []
  },
  {
   "cell_type": "markdown",
   "metadata": {},
   "source": [
    "### Exercise 55\n",
    "\n",
    "Use scikit-learn to scale the standardize the data by changing the scale but not the mean.\n"
   ]
  },
  {
   "cell_type": "code",
   "execution_count": null,
   "metadata": {
    "execution": {
     "iopub.execute_input": "2020-12-15T17:36:53.037008Z",
     "iopub.status.busy": "2020-12-15T17:36:53.034011Z",
     "iopub.status.idle": "2020-12-15T17:36:53.106532Z",
     "shell.execute_reply": "2020-12-15T17:36:53.106532Z"
    }
   },
   "outputs": [],
   "source": []
  },
  {
   "cell_type": "markdown",
   "metadata": {},
   "source": [
    "### Exercise 56\n",
    "\n",
    "Use the scikit-learn scaler to compute the predicted in-sample values using the Ridge ridge regression."
   ]
  },
  {
   "cell_type": "code",
   "execution_count": null,
   "metadata": {
    "execution": {
     "iopub.execute_input": "2020-12-15T17:36:53.110529Z",
     "iopub.status.busy": "2020-12-15T17:36:53.110529Z",
     "iopub.status.idle": "2020-12-15T17:36:53.122529Z",
     "shell.execute_reply": "2020-12-15T17:36:53.122529Z"
    }
   },
   "outputs": [],
   "source": []
  },
  {
   "cell_type": "markdown",
   "metadata": {},
   "source": [
    "### Exercise 57\n",
    "\n",
    "Use the scalar from scikit-learn to produce out-of-sample forecasts of the two shrinkage estimators and OLS and evaluate the out-of-sample SSE.\n"
   ]
  },
  {
   "cell_type": "code",
   "execution_count": null,
   "metadata": {
    "execution": {
     "iopub.execute_input": "2020-12-15T17:36:53.127529Z",
     "iopub.status.busy": "2020-12-15T17:36:53.127529Z",
     "iopub.status.idle": "2020-12-15T17:36:53.138529Z",
     "shell.execute_reply": "2020-12-15T17:36:53.138529Z"
    }
   },
   "outputs": [],
   "source": []
  },
  {
   "cell_type": "markdown",
   "metadata": {},
   "source": [
    "### Exercise 58\n",
    "\n",
    "Directly produce out-of-sample forecasts of the two shrinkage estimators and OLS and evaluate the out-of-sample SSE without using scikit-learn.\n"
   ]
  },
  {
   "cell_type": "code",
   "execution_count": null,
   "metadata": {
    "execution": {
     "iopub.execute_input": "2020-12-15T17:36:53.238544Z",
     "iopub.status.busy": "2020-12-15T17:36:53.238544Z",
     "iopub.status.idle": "2020-12-15T17:36:53.250545Z",
     "shell.execute_reply": "2020-12-15T17:36:53.250545Z"
    }
   },
   "outputs": [],
   "source": []
  }
 ],
 "metadata": {
  "kernelspec": {
   "display_name": "Python 3",
   "language": "python",
   "name": "python3"
  },
  "language_info": {
   "codemirror_mode": {
    "name": "ipython",
    "version": 3
   },
   "file_extension": ".py",
   "mimetype": "text/x-python",
   "name": "python",
   "nbconvert_exporter": "python",
   "pygments_lexer": "ipython3",
   "version": "3.8.5"
  }
 },
 "nbformat": 4,
 "nbformat_minor": 4
}
