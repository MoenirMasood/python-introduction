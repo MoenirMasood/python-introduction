{
 "cells": [
  {
   "cell_type": "markdown",
   "metadata": {},
   "source": [
    "# Boolean Arrays \n",
    "\n",
    "This lesson covers:\n",
    "\n",
    "* Creating Boolean arrays\n",
    "* Combining Boolean arrays\n",
    "* `all` and `any`\n",
    "\n",
    "Begin by loading the data in momentum.csv.\n"
   ]
  },
  {
   "cell_type": "code",
   "execution_count": null,
   "metadata": {
    "execution": {
     "iopub.execute_input": "2020-12-07T13:04:04.137252Z",
     "iopub.status.busy": "2020-12-07T13:04:04.136251Z",
     "iopub.status.idle": "2020-12-15T17:49:16.162852Z",
     "shell.execute_reply": "2020-12-15T17:49:16.162852Z"
    },
    "pycharm": {
     "name": "#%%\n"
    }
   },
   "outputs": [],
   "source": [
    "# Setup: Load the momentum data\n",
    "\n",
    "import numpy as np\n",
    "import pandas as pd\n",
    "\n",
    "momentum = pd.read_csv(\"data/momentum.csv\", index_col=\"date\", parse_dates=True)\n",
    "\n",
    "print(momentum.head())\n",
    "\n",
    "mom_01 = momentum[\"mom_01\"]\n",
    "mom_10 = momentum[\"mom_10\"]\n",
    "mom_05 = momentum[\"mom_05\"]\n"
   ]
  },
  {
   "cell_type": "markdown",
   "metadata": {},
   "source": [
    "## Problem: Boolean arrays\n",
    "For portfolios 1 and 10, determine whether each return is $<0$ (separately)."
   ]
  },
  {
   "cell_type": "code",
   "execution_count": null,
   "metadata": {
    "execution": {
     "iopub.execute_input": "2020-12-15T17:49:16.165849Z",
     "iopub.status.busy": "2020-12-15T17:49:16.165849Z",
     "iopub.status.idle": "2020-12-15T17:49:16.178849Z",
     "shell.execute_reply": "2020-12-15T17:49:16.178849Z"
    }
   },
   "outputs": [],
   "source": []
  },
  {
   "cell_type": "markdown",
   "metadata": {},
   "source": [
    "## Problem: Combining boolean arrays\n",
    "Count the number of times that the returns in both portfolio 1 and portfolio\n",
    "10 are negative. Next count the number of times that the returns in portfolios\n",
    "1 and 10 are both greater, in absolute value, that 2 times their respective\n",
    "standard deviations. "
   ]
  },
  {
   "cell_type": "code",
   "execution_count": null,
   "metadata": {
    "execution": {
     "iopub.execute_input": "2020-12-15T17:49:16.181849Z",
     "iopub.status.busy": "2020-12-15T17:49:16.180849Z",
     "iopub.status.idle": "2020-12-15T17:49:16.194849Z",
     "shell.execute_reply": "2020-12-15T17:49:16.194849Z"
    }
   },
   "outputs": [],
   "source": []
  },
  {
   "cell_type": "code",
   "execution_count": null,
   "metadata": {
    "execution": {
     "iopub.execute_input": "2020-12-15T17:49:16.197851Z",
     "iopub.status.busy": "2020-12-15T17:49:16.197851Z",
     "iopub.status.idle": "2020-12-15T17:49:16.210851Z",
     "shell.execute_reply": "2020-12-15T17:49:16.210851Z"
    }
   },
   "outputs": [],
   "source": []
  },
  {
   "cell_type": "markdown",
   "metadata": {},
   "source": [
    "## Problem: Combining boolean arrays\n",
    "For portfolios 1 and 10, count the number of times either of the returns is $<0$.\n"
   ]
  },
  {
   "cell_type": "code",
   "execution_count": null,
   "metadata": {
    "execution": {
     "iopub.execute_input": "2020-12-15T17:49:16.213850Z",
     "iopub.status.busy": "2020-12-15T17:49:16.213850Z",
     "iopub.status.idle": "2020-12-15T17:49:16.226849Z",
     "shell.execute_reply": "2020-12-15T17:49:16.226849Z"
    }
   },
   "outputs": [],
   "source": []
  },
  {
   "cell_type": "markdown",
   "metadata": {},
   "source": [
    "## Problem: Count the frequency of negative returns\n",
    "\n",
    "What percent of returns are negative for each of the 10 momentum portfolios?"
   ]
  },
  {
   "cell_type": "code",
   "execution_count": null,
   "metadata": {
    "execution": {
     "iopub.execute_input": "2020-12-15T17:49:16.234852Z",
     "iopub.status.busy": "2020-12-15T17:49:16.234852Z",
     "iopub.status.idle": "2020-12-15T17:49:16.242850Z",
     "shell.execute_reply": "2020-12-15T17:49:16.242850Z"
    }
   },
   "outputs": [],
   "source": []
  },
  {
   "cell_type": "markdown",
   "metadata": {},
   "source": [
    "## Problem: Use `any` to find large losses\n",
    "\n",
    "Use any to determine if any of the 10 portfolios experienced a loss\n",
    "greater than -5%."
   ]
  },
  {
   "cell_type": "code",
   "execution_count": null,
   "metadata": {
    "execution": {
     "iopub.execute_input": "2020-12-15T17:49:16.245849Z",
     "iopub.status.busy": "2020-12-15T17:49:16.245849Z",
     "iopub.status.idle": "2020-12-15T17:49:16.258850Z",
     "shell.execute_reply": "2020-12-15T17:49:16.258850Z"
    }
   },
   "outputs": [],
   "source": []
  },
  {
   "cell_type": "code",
   "execution_count": null,
   "metadata": {
    "execution": {
     "iopub.execute_input": "2020-12-15T17:49:16.261849Z",
     "iopub.status.busy": "2020-12-15T17:49:16.261849Z",
     "iopub.status.idle": "2020-12-15T17:49:16.274849Z",
     "shell.execute_reply": "2020-12-15T17:49:16.274849Z"
    }
   },
   "outputs": [],
   "source": []
  },
  {
   "cell_type": "code",
   "execution_count": null,
   "metadata": {
    "execution": {
     "iopub.execute_input": "2020-12-15T17:49:16.278850Z",
     "iopub.status.busy": "2020-12-15T17:49:16.276852Z",
     "iopub.status.idle": "2020-12-15T17:49:16.290849Z",
     "shell.execute_reply": "2020-12-15T17:49:16.290849Z"
    }
   },
   "outputs": [],
   "source": []
  },
  {
   "cell_type": "markdown",
   "metadata": {},
   "source": [
    "Use `all` and negation to do the same check as `any`."
   ]
  },
  {
   "cell_type": "code",
   "execution_count": null,
   "metadata": {
    "execution": {
     "iopub.execute_input": "2020-12-15T17:49:16.294852Z",
     "iopub.status.busy": "2020-12-15T17:49:16.294852Z",
     "iopub.status.idle": "2020-12-15T17:49:16.306849Z",
     "shell.execute_reply": "2020-12-15T17:49:16.306849Z"
    }
   },
   "outputs": [],
   "source": []
  },
  {
   "cell_type": "markdown",
   "metadata": {},
   "source": [
    "## Exercises\n",
    "\n",
    "### Exercise: all and any\n",
    "Use `all` and `sum` to count the number of days where all of the portfolio returns\n",
    "were negative. Use `any` to compute the number of days with at least 1 negative\n",
    "return and with no negative returns (Hint: use negation (~ or `logical_not`)). "
   ]
  },
  {
   "cell_type": "code",
   "execution_count": null,
   "metadata": {
    "execution": {
     "iopub.execute_input": "2020-12-15T17:49:16.309851Z",
     "iopub.status.busy": "2020-12-15T17:49:16.309851Z",
     "iopub.status.idle": "2020-12-15T17:49:16.322851Z",
     "shell.execute_reply": "2020-12-15T17:49:16.322851Z"
    }
   },
   "outputs": [],
   "source": []
  },
  {
   "cell_type": "code",
   "execution_count": null,
   "metadata": {
    "execution": {
     "iopub.execute_input": "2020-12-15T17:49:16.325851Z",
     "iopub.status.busy": "2020-12-15T17:49:16.325851Z",
     "iopub.status.idle": "2020-12-15T17:49:16.338849Z",
     "shell.execute_reply": "2020-12-15T17:49:16.338849Z"
    }
   },
   "outputs": [],
   "source": []
  },
  {
   "cell_type": "code",
   "execution_count": null,
   "metadata": {
    "execution": {
     "iopub.execute_input": "2020-12-15T17:49:16.341848Z",
     "iopub.status.busy": "2020-12-15T17:49:16.340848Z",
     "iopub.status.idle": "2020-12-15T17:49:16.353849Z",
     "shell.execute_reply": "2020-12-15T17:49:16.353849Z"
    }
   },
   "outputs": [],
   "source": []
  },
  {
   "cell_type": "markdown",
   "metadata": {
    "pycharm": {
     "name": "#%% md\n"
    }
   },
   "source": [
    "### Exercise: Count Extreme Days\n",
    "\n",
    "Count the number of days where each of the portfolio returns is less than the \n",
    "5% quantile for the portfolio. Also report the fraction of days where all are in their\n",
    "lower 5% tail."
   ]
  },
  {
   "cell_type": "code",
   "execution_count": null,
   "metadata": {
    "execution": {
     "iopub.execute_input": "2020-12-15T17:49:16.356852Z",
     "iopub.status.busy": "2020-12-15T17:49:16.356852Z",
     "iopub.status.idle": "2020-12-15T17:49:16.369850Z",
     "shell.execute_reply": "2020-12-15T17:49:16.369850Z"
    }
   },
   "outputs": [],
   "source": []
  },
  {
   "cell_type": "code",
   "execution_count": null,
   "metadata": {
    "execution": {
     "iopub.execute_input": "2020-12-15T17:49:16.372853Z",
     "iopub.status.busy": "2020-12-15T17:49:16.372853Z",
     "iopub.status.idle": "2020-12-15T17:49:16.385849Z",
     "shell.execute_reply": "2020-12-15T17:49:16.385849Z"
    }
   },
   "outputs": [],
   "source": []
  }
 ],
 "metadata": {
  "kernelspec": {
   "display_name": "Python 3",
   "language": "python",
   "name": "python3"
  },
  "language_info": {
   "codemirror_mode": {
    "name": "ipython",
    "version": 3
   },
   "file_extension": ".py",
   "mimetype": "text/x-python",
   "name": "python",
   "nbconvert_exporter": "python",
   "pygments_lexer": "ipython3",
   "version": "3.8.5"
  },
  "pycharm": {
   "stem_cell": {
    "cell_type": "raw",
    "metadata": {
     "collapsed": false
    },
    "source": []
   }
  }
 },
 "nbformat": 4,
 "nbformat_minor": 1
}
