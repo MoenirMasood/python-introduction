{
 "cells": [
  {
   "cell_type": "markdown",
   "metadata": {},
   "source": [
    "# Accessing Elements in NumPy Arrays\n",
    "\n",
    "This lesson covers:\n",
    "\n",
    "* Accessing specific elements in NumPy arrays\n",
    "\n",
    "Accessing elements in an array or a DataFrame is a common task. To begin this lesson, clear the\n",
    "workspace set up some vectors and a $5\\times5$ array. These vectors and matrix will make it easy\n",
    "to determine which elements are selected by a command.\n",
    "\n",
    "\n",
    "Using `arange` and `reshape` to create 3 arrays:\n",
    "\n",
    "* 5-by-5 array `x` containing the values 0,1,...,24 \n",
    "* 5-element, 1-dimensional array `y` containing 0,1,...,4\n",
    "* 5-by-1 array `z` containing 0,1,...,4\n"
   ]
  },
  {
   "cell_type": "code",
   "execution_count": null,
   "metadata": {
    "execution": {
     "iopub.execute_input": "2020-12-15T17:49:07.141215Z",
     "iopub.status.busy": "2020-12-15T17:49:07.141215Z",
     "iopub.status.idle": "2020-12-15T17:49:07.232215Z",
     "shell.execute_reply": "2020-12-15T17:49:07.232215Z"
    }
   },
   "outputs": [],
   "source": []
  },
  {
   "cell_type": "code",
   "execution_count": null,
   "metadata": {
    "execution": {
     "iopub.execute_input": "2020-12-15T17:49:07.235215Z",
     "iopub.status.busy": "2020-12-15T17:49:07.235215Z",
     "iopub.status.idle": "2020-12-15T17:49:07.248215Z",
     "shell.execute_reply": "2020-12-15T17:49:07.248215Z"
    }
   },
   "outputs": [],
   "source": []
  },
  {
   "cell_type": "code",
   "execution_count": null,
   "metadata": {
    "execution": {
     "iopub.execute_input": "2020-12-15T17:49:07.252216Z",
     "iopub.status.busy": "2020-12-15T17:49:07.251215Z",
     "iopub.status.idle": "2020-12-15T17:49:07.263216Z",
     "shell.execute_reply": "2020-12-15T17:49:07.263216Z"
    }
   },
   "outputs": [],
   "source": []
  },
  {
   "cell_type": "markdown",
   "metadata": {},
   "source": [
    "## Zero-based indexing\n",
    "Python indexing is 0 based so that the first element has position `0`, the second has position `1`\n",
    "and so on until the last element has position `n-1` in an array that contains `n` elements in\n",
    "total.\n",
    "\n",
    "## Problem: Scalar selection\n",
    "Select the number 2 in all three, `x`, `y`, and `z`.\n",
    "\n",
    "\n",
    "**Question**:  Which index is rows and which index is columns?"
   ]
  },
  {
   "cell_type": "code",
   "execution_count": null,
   "metadata": {
    "execution": {
     "iopub.execute_input": "2020-12-15T17:49:07.266216Z",
     "iopub.status.busy": "2020-12-15T17:49:07.266216Z",
     "iopub.status.idle": "2020-12-15T17:49:07.279218Z",
     "shell.execute_reply": "2020-12-15T17:49:07.279218Z"
    }
   },
   "outputs": [],
   "source": []
  },
  {
   "cell_type": "code",
   "execution_count": null,
   "metadata": {
    "execution": {
     "iopub.execute_input": "2020-12-15T17:49:07.282218Z",
     "iopub.status.busy": "2020-12-15T17:49:07.282218Z",
     "iopub.status.idle": "2020-12-15T17:49:07.295215Z",
     "shell.execute_reply": "2020-12-15T17:49:07.295215Z"
    }
   },
   "outputs": [],
   "source": []
  },
  {
   "cell_type": "code",
   "execution_count": null,
   "metadata": {
    "execution": {
     "iopub.execute_input": "2020-12-15T17:49:07.298218Z",
     "iopub.status.busy": "2020-12-15T17:49:07.298218Z",
     "iopub.status.idle": "2020-12-15T17:49:07.311598Z",
     "shell.execute_reply": "2020-12-15T17:49:07.312217Z"
    }
   },
   "outputs": [],
   "source": []
  },
  {
   "cell_type": "markdown",
   "metadata": {
    "pycharm": {
     "name": "#%% md\n"
    }
   },
   "source": [
    "## Problem: Scalar selection of a single row\n",
    "\n",
    "Select the 2nd row in `x` and `z` using a single integer value.\n",
    " \n",
    "**Question**: What is the dimension of `x` and the second row of `x`"
   ]
  },
  {
   "cell_type": "code",
   "execution_count": null,
   "metadata": {
    "execution": {
     "iopub.execute_input": "2020-12-15T17:49:07.314215Z",
     "iopub.status.busy": "2020-12-15T17:49:07.314215Z",
     "iopub.status.idle": "2020-12-15T17:49:07.327216Z",
     "shell.execute_reply": "2020-12-15T17:49:07.327216Z"
    }
   },
   "outputs": [],
   "source": []
  },
  {
   "cell_type": "code",
   "execution_count": null,
   "metadata": {
    "execution": {
     "iopub.execute_input": "2020-12-15T17:49:07.329215Z",
     "iopub.status.busy": "2020-12-15T17:49:07.329215Z",
     "iopub.status.idle": "2020-12-15T17:49:07.343215Z",
     "shell.execute_reply": "2020-12-15T17:49:07.343215Z"
    }
   },
   "outputs": [],
   "source": []
  },
  {
   "cell_type": "code",
   "execution_count": null,
   "metadata": {
    "execution": {
     "iopub.execute_input": "2020-12-15T17:49:07.346218Z",
     "iopub.status.busy": "2020-12-15T17:49:07.345214Z",
     "iopub.status.idle": "2020-12-15T17:49:07.359216Z",
     "shell.execute_reply": "2020-12-15T17:49:07.359216Z"
    }
   },
   "outputs": [],
   "source": []
  },
  {
   "cell_type": "code",
   "execution_count": null,
   "metadata": {
    "execution": {
     "iopub.execute_input": "2020-12-15T17:49:07.361217Z",
     "iopub.status.busy": "2020-12-15T17:49:07.361217Z",
     "iopub.status.idle": "2020-12-15T17:49:07.375216Z",
     "shell.execute_reply": "2020-12-15T17:49:07.375216Z"
    }
   },
   "outputs": [],
   "source": []
  },
  {
   "cell_type": "markdown",
   "metadata": {
    "pycharm": {
     "name": "#%% md\n"
    }
   },
   "source": [
    "## Problem: Slice selection of a single row\n",
    "\n",
    "Use a slice to select the 2nd row of `x` and the 2nd element of `y` and `z`.\n",
    "\n",
    "**Question**: What are the dimension selections?"
   ]
  },
  {
   "cell_type": "code",
   "execution_count": null,
   "metadata": {
    "execution": {
     "iopub.execute_input": "2020-12-15T17:49:07.378215Z",
     "iopub.status.busy": "2020-12-15T17:49:07.377214Z",
     "iopub.status.idle": "2020-12-15T17:49:07.391217Z",
     "shell.execute_reply": "2020-12-15T17:49:07.391217Z"
    }
   },
   "outputs": [],
   "source": []
  },
  {
   "cell_type": "code",
   "execution_count": null,
   "metadata": {
    "execution": {
     "iopub.execute_input": "2020-12-15T17:49:07.394218Z",
     "iopub.status.busy": "2020-12-15T17:49:07.393214Z",
     "iopub.status.idle": "2020-12-15T17:49:07.407215Z",
     "shell.execute_reply": "2020-12-15T17:49:07.407215Z"
    }
   },
   "outputs": [],
   "source": []
  },
  {
   "cell_type": "code",
   "execution_count": null,
   "metadata": {
    "execution": {
     "iopub.execute_input": "2020-12-15T17:49:07.410217Z",
     "iopub.status.busy": "2020-12-15T17:49:07.409219Z",
     "iopub.status.idle": "2020-12-15T17:49:07.423219Z",
     "shell.execute_reply": "2020-12-15T17:49:07.423219Z"
    }
   },
   "outputs": [],
   "source": []
  },
  {
   "cell_type": "markdown",
   "metadata": {},
   "source": [
    "## Problem: List selection of a single row\n",
    "\n",
    "Use a list to select the 2nd row of `x` and the 2nd element of `y` and `z`.\n",
    "\n",
    "**Question**: What are the dimension selections?"
   ]
  },
  {
   "cell_type": "code",
   "execution_count": null,
   "metadata": {
    "execution": {
     "iopub.execute_input": "2020-12-15T17:49:07.426217Z",
     "iopub.status.busy": "2020-12-15T17:49:07.425214Z",
     "iopub.status.idle": "2020-12-15T17:49:07.438217Z",
     "shell.execute_reply": "2020-12-15T17:49:07.438217Z"
    }
   },
   "outputs": [],
   "source": []
  },
  {
   "cell_type": "code",
   "execution_count": null,
   "metadata": {
    "execution": {
     "iopub.execute_input": "2020-12-15T17:49:07.441216Z",
     "iopub.status.busy": "2020-12-15T17:49:07.440214Z",
     "iopub.status.idle": "2020-12-15T17:49:07.454215Z",
     "shell.execute_reply": "2020-12-15T17:49:07.454215Z"
    }
   },
   "outputs": [],
   "source": []
  },
  {
   "cell_type": "code",
   "execution_count": null,
   "metadata": {
    "execution": {
     "iopub.execute_input": "2020-12-15T17:49:07.457219Z",
     "iopub.status.busy": "2020-12-15T17:49:07.456218Z",
     "iopub.status.idle": "2020-12-15T17:49:07.470219Z",
     "shell.execute_reply": "2020-12-15T17:49:07.470219Z"
    }
   },
   "outputs": [],
   "source": []
  },
  {
   "cell_type": "markdown",
   "metadata": {},
   "source": [
    "## Problem: Selecting a single Column\n",
    "Select the 2nd column of x using a scalar integer, a slice and a list.\n",
    "\n",
    "**Question**: What the the dimensions of the selected elements?"
   ]
  },
  {
   "cell_type": "code",
   "execution_count": null,
   "metadata": {
    "execution": {
     "iopub.execute_input": "2020-12-15T17:49:07.472219Z",
     "iopub.status.busy": "2020-12-15T17:49:07.472219Z",
     "iopub.status.idle": "2020-12-15T17:49:07.486215Z",
     "shell.execute_reply": "2020-12-15T17:49:07.486215Z"
    }
   },
   "outputs": [],
   "source": []
  },
  {
   "cell_type": "code",
   "execution_count": null,
   "metadata": {
    "execution": {
     "iopub.execute_input": "2020-12-15T17:49:07.489217Z",
     "iopub.status.busy": "2020-12-15T17:49:07.488214Z",
     "iopub.status.idle": "2020-12-15T17:49:07.502215Z",
     "shell.execute_reply": "2020-12-15T17:49:07.502215Z"
    }
   },
   "outputs": [],
   "source": []
  },
  {
   "cell_type": "markdown",
   "metadata": {},
   "source": [
    "## Problem: Selecting a block of specific columns\n",
    "Select the 2nd and 3rd columns of x using a slice."
   ]
  },
  {
   "cell_type": "code",
   "execution_count": null,
   "metadata": {
    "execution": {
     "iopub.execute_input": "2020-12-15T17:49:07.504215Z",
     "iopub.status.busy": "2020-12-15T17:49:07.504215Z",
     "iopub.status.idle": "2020-12-15T17:49:07.518215Z",
     "shell.execute_reply": "2020-12-15T17:49:07.517218Z"
    }
   },
   "outputs": [],
   "source": []
  },
  {
   "cell_type": "markdown",
   "metadata": {},
   "source": [
    "## Problem: Selecting a block of specific rows\n",
    "Select the 2nd and 4th rows of x using both a slice and a list. \n"
   ]
  },
  {
   "cell_type": "code",
   "execution_count": null,
   "metadata": {
    "execution": {
     "iopub.execute_input": "2020-12-15T17:49:07.520215Z",
     "iopub.status.busy": "2020-12-15T17:49:07.520215Z",
     "iopub.status.idle": "2020-12-15T17:49:07.532215Z",
     "shell.execute_reply": "2020-12-15T17:49:07.532215Z"
    }
   },
   "outputs": [],
   "source": []
  },
  {
   "cell_type": "markdown",
   "metadata": {},
   "source": [
    "## Problem: Selecting a block of specific rows and columns\n",
    "Combine these be combined to select the 2nd and 3rd columns and 2nd and 4th rows."
   ]
  },
  {
   "cell_type": "code",
   "execution_count": null,
   "metadata": {
    "execution": {
     "iopub.execute_input": "2020-12-15T17:49:07.535214Z",
     "iopub.status.busy": "2020-12-15T17:49:07.535214Z",
     "iopub.status.idle": "2020-12-15T17:49:07.548217Z",
     "shell.execute_reply": "2020-12-15T17:49:07.548217Z"
    }
   },
   "outputs": [],
   "source": []
  },
  {
   "cell_type": "code",
   "execution_count": null,
   "metadata": {
    "execution": {
     "iopub.execute_input": "2020-12-15T17:49:07.551215Z",
     "iopub.status.busy": "2020-12-15T17:49:07.550214Z",
     "iopub.status.idle": "2020-12-15T17:49:07.564215Z",
     "shell.execute_reply": "2020-12-15T17:49:07.564215Z"
    }
   },
   "outputs": [],
   "source": []
  },
  {
   "cell_type": "markdown",
   "metadata": {},
   "source": [
    "## Problem: Use `ix_` to select rows and columns using lists\n",
    "Use `ix_` to select the 2nd and 4th rows and 1st and 3rd columns of `x`."
   ]
  },
  {
   "cell_type": "code",
   "execution_count": null,
   "metadata": {
    "execution": {
     "iopub.execute_input": "2020-12-15T17:49:07.567216Z",
     "iopub.status.busy": "2020-12-15T17:49:07.567216Z",
     "iopub.status.idle": "2020-12-15T17:49:07.580216Z",
     "shell.execute_reply": "2020-12-15T17:49:07.580216Z"
    }
   },
   "outputs": [],
   "source": []
  },
  {
   "cell_type": "code",
   "execution_count": null,
   "metadata": {
    "execution": {
     "iopub.execute_input": "2020-12-15T17:49:07.583219Z",
     "iopub.status.busy": "2020-12-15T17:49:07.583219Z",
     "iopub.status.idle": "2020-12-15T17:49:07.595218Z",
     "shell.execute_reply": "2020-12-15T17:49:07.595218Z"
    }
   },
   "outputs": [],
   "source": []
  },
  {
   "cell_type": "markdown",
   "metadata": {
    "pycharm": {
     "name": "#%% md\n"
    }
   },
   "source": [
    "## Problem: Convert a DataFrame to a NumPy array\n",
    "\n",
    "Use  `.to_numpy` to convert a DataFrame to a NumPy array."
   ]
  },
  {
   "cell_type": "code",
   "execution_count": null,
   "metadata": {
    "execution": {
     "iopub.execute_input": "2020-12-15T17:49:07.598218Z",
     "iopub.status.busy": "2020-12-15T17:49:07.598218Z",
     "iopub.status.idle": "2020-12-15T17:49:07.803216Z",
     "shell.execute_reply": "2020-12-15T17:49:07.803216Z"
    }
   },
   "outputs": [],
   "source": [
    "# Setup: Create a DataFrame\n",
    "import pandas as pd\n",
    "import numpy as np\n",
    "\n",
    "names = [\"a\", \"b\", \"c\", \"d\", \"e\"]\n",
    "x = np.arange(25).reshape((5,5))\n",
    "x_df = pd.DataFrame(x, index=names, columns=names)\n",
    "print(x_df)\n"
   ]
  },
  {
   "cell_type": "code",
   "execution_count": null,
   "metadata": {
    "execution": {
     "iopub.execute_input": "2020-12-15T17:49:07.806214Z",
     "iopub.status.busy": "2020-12-15T17:49:07.806214Z",
     "iopub.status.idle": "2020-12-15T17:49:07.818215Z",
     "shell.execute_reply": "2020-12-15T17:49:07.818215Z"
    }
   },
   "outputs": [],
   "source": []
  },
  {
   "cell_type": "markdown",
   "metadata": {
    "pycharm": {
     "name": "#%% md\n"
    }
   },
   "source": [
    "## Problem: Use `np.asarray` to convert to an array\n",
    "\n",
    "Use  `np.asarray` to convert a DataFrame to a NumPy array."
   ]
  },
  {
   "cell_type": "code",
   "execution_count": null,
   "metadata": {
    "execution": {
     "iopub.execute_input": "2020-12-15T17:49:07.821214Z",
     "iopub.status.busy": "2020-12-15T17:49:07.820214Z",
     "iopub.status.idle": "2020-12-15T17:49:07.834215Z",
     "shell.execute_reply": "2020-12-15T17:49:07.834215Z"
    }
   },
   "outputs": [],
   "source": []
  },
  {
   "cell_type": "markdown",
   "metadata": {
    "collapsed": false,
    "pycharm": {
     "name": "#%% md\n"
    }
   },
   "source": [
    "## Exercises\n",
    "\n",
    "### Exercise: Block selection\n",
    "\n",
    "Select the second and third rows of `a` and the first and last column.\n",
    "Use at least three different methods including all slices, `np.ix_`, and\n",
    "mixed slice-list selection."
   ]
  },
  {
   "cell_type": "code",
   "execution_count": null,
   "metadata": {
    "execution": {
     "iopub.execute_input": "2020-12-15T17:49:07.838214Z",
     "iopub.status.busy": "2020-12-15T17:49:07.837214Z",
     "iopub.status.idle": "2020-12-15T17:49:07.850215Z",
     "shell.execute_reply": "2020-12-15T17:49:07.850215Z"
    },
    "pycharm": {
     "is_executing": false,
     "name": "#%%\n"
    }
   },
   "outputs": [],
   "source": [
    "# Setup: Data for Exercises\n",
    "\n",
    "import numpy as np\n",
    "rs = np.random.RandomState(20000214)\n",
    "a = rs.randint(1, 10, (4,3))\n",
    "b = rs.randint(1, 10, (6,4))\n",
    "\n",
    "print(f\"a = \\n {a}\")\n",
    "print()\n",
    "print(f\"b = \\n {b}\")"
   ]
  },
  {
   "cell_type": "code",
   "execution_count": null,
   "metadata": {
    "execution": {
     "iopub.execute_input": "2020-12-15T17:49:07.853215Z",
     "iopub.status.busy": "2020-12-15T17:49:07.853215Z",
     "iopub.status.idle": "2020-12-15T17:49:07.866217Z",
     "shell.execute_reply": "2020-12-15T17:49:07.866217Z"
    }
   },
   "outputs": [],
   "source": []
  },
  {
   "cell_type": "code",
   "execution_count": null,
   "metadata": {
    "execution": {
     "iopub.execute_input": "2020-12-15T17:49:07.869215Z",
     "iopub.status.busy": "2020-12-15T17:49:07.869215Z",
     "iopub.status.idle": "2020-12-15T17:49:07.882215Z",
     "shell.execute_reply": "2020-12-15T17:49:07.882215Z"
    }
   },
   "outputs": [],
   "source": []
  },
  {
   "cell_type": "code",
   "execution_count": null,
   "metadata": {
    "execution": {
     "iopub.execute_input": "2020-12-15T17:49:07.885215Z",
     "iopub.status.busy": "2020-12-15T17:49:07.885215Z",
     "iopub.status.idle": "2020-12-15T17:49:07.897215Z",
     "shell.execute_reply": "2020-12-15T17:49:07.897215Z"
    }
   },
   "outputs": [],
   "source": []
  },
  {
   "cell_type": "markdown",
   "metadata": {
    "collapsed": false
   },
   "source": [
    "### Exercise: Row Assign\n",
    "\n",
    "Assign the first three elements of the first row of `b` to `a`.\n",
    "\n",
    "**Note** Assignment sets one selected block in one array equal to another \n",
    "block.\n",
    "\n",
    "```python\n",
    "x[0:2,0:3] = y[1:3,1:4]\n",
    "```"
   ]
  },
  {
   "cell_type": "code",
   "execution_count": null,
   "metadata": {
    "execution": {
     "iopub.execute_input": "2020-12-15T17:49:07.900216Z",
     "iopub.status.busy": "2020-12-15T17:49:07.900216Z",
     "iopub.status.idle": "2020-12-15T17:49:07.914231Z",
     "shell.execute_reply": "2020-12-15T17:49:07.914231Z"
    }
   },
   "outputs": [],
   "source": []
  },
  {
   "cell_type": "markdown",
   "metadata": {
    "collapsed": false,
    "pycharm": {
     "name": "#%% md\n"
    }
   },
   "source": [
    "### Exercise: Block Assign\n",
    "\n",
    "Assign the block consisting the first and third columns and the second and last rows of `b`\n",
    "to the last two rows and last two columns of `a`"
   ]
  },
  {
   "cell_type": "code",
   "execution_count": null,
   "metadata": {
    "execution": {
     "iopub.execute_input": "2020-12-15T17:49:07.917226Z",
     "iopub.status.busy": "2020-12-15T17:49:07.917226Z",
     "iopub.status.idle": "2020-12-15T17:49:07.930229Z",
     "shell.execute_reply": "2020-12-15T17:49:07.930229Z"
    }
   },
   "outputs": [],
   "source": []
  }
 ],
 "metadata": {
  "file_extension": ".py",
  "kernelspec": {
   "display_name": "Python 3",
   "language": "python",
   "name": "python3"
  },
  "language_info": {
   "codemirror_mode": {
    "name": "ipython",
    "version": 3
   },
   "file_extension": ".py",
   "mimetype": "text/x-python",
   "name": "python",
   "nbconvert_exporter": "python",
   "pygments_lexer": "ipython3",
   "version": "3.8.5"
  },
  "mimetype": "text/x-python",
  "name": "python",
  "npconvert_exporter": "python",
  "pycharm": {
   "stem_cell": {
    "cell_type": "raw",
    "metadata": {
     "collapsed": false
    },
    "source": []
   }
  },
  "pygments_lexer": "ipython3",
  "version": 3
 },
 "nbformat": 4,
 "nbformat_minor": 2
}
