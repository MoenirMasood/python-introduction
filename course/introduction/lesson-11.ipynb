{
 "cells": [
  {
   "cell_type": "markdown",
   "metadata": {},
   "source": [
    "# Accessing Elements in NumPy Arrays\n",
    "\n",
    "This lesson covers:\n",
    "\n",
    "* Accessing specific elements in NumPy arrays\n",
    "\n",
    "Accessing elements in an array or a DataFrame is a common task. To begin this lesson, clear the\n",
    "workspace set up some vectors and a $5\\times5$ array. These vectors and matrix will make it easy\n",
    "to determine which elements are selected by a command.\n",
    "\n",
    "\n",
    "Using `arange` and `reshape` to create 3 arrays:\n",
    "\n",
    "* 5-by-5 array `x` containing the values 0,1,...,24 \n",
    "* 5-element, 1-dimensional array `y` containing 0,1,...,4\n",
    "* 5-by-1 array `z` containing 0,1,...,4\n"
   ]
  },
  {
   "cell_type": "code",
   "execution_count": null,
   "metadata": {
    "execution": {
     "iopub.execute_input": "2020-12-07T13:03:55.307777Z",
     "iopub.status.busy": "2020-12-07T13:03:55.306777Z",
     "iopub.status.idle": "2020-12-07T13:03:55.398778Z",
     "shell.execute_reply": "2020-12-07T13:03:55.398778Z"
    }
   },
   "outputs": [],
   "source": []
  },
  {
   "cell_type": "code",
   "execution_count": null,
   "metadata": {
    "execution": {
     "iopub.execute_input": "2020-12-07T13:03:55.401777Z",
     "iopub.status.busy": "2020-12-07T13:03:55.400777Z",
     "iopub.status.idle": "2020-12-07T13:03:55.414777Z",
     "shell.execute_reply": "2020-12-07T13:03:55.414777Z"
    }
   },
   "outputs": [],
   "source": []
  },
  {
   "cell_type": "code",
   "execution_count": null,
   "metadata": {
    "execution": {
     "iopub.execute_input": "2020-12-07T13:03:55.417777Z",
     "iopub.status.busy": "2020-12-07T13:03:55.416777Z",
     "iopub.status.idle": "2020-12-07T13:03:55.430777Z",
     "shell.execute_reply": "2020-12-07T13:03:55.430777Z"
    }
   },
   "outputs": [],
   "source": []
  },
  {
   "cell_type": "markdown",
   "metadata": {},
   "source": [
    "## Zero-based indexing\n",
    "Python indexing is 0 based so that the first element has position `0`, the second has position `1`\n",
    "and so on until the last element has position `n-1` in an array that contains `n` elements in\n",
    "total.\n",
    "\n",
    "## Problem: Scalar selection\n",
    "Select the number 2 in all three, `x`, `y`, and `z`.\n",
    "\n",
    "\n",
    "**Question**:  Which index is rows and which index is columns?"
   ]
  },
  {
   "cell_type": "code",
   "execution_count": null,
   "metadata": {
    "execution": {
     "iopub.execute_input": "2020-12-07T13:03:55.433777Z",
     "iopub.status.busy": "2020-12-07T13:03:55.432777Z",
     "iopub.status.idle": "2020-12-07T13:03:55.446777Z",
     "shell.execute_reply": "2020-12-07T13:03:55.446777Z"
    }
   },
   "outputs": [],
   "source": []
  },
  {
   "cell_type": "code",
   "execution_count": null,
   "metadata": {
    "execution": {
     "iopub.execute_input": "2020-12-07T13:03:55.448777Z",
     "iopub.status.busy": "2020-12-07T13:03:55.448777Z",
     "iopub.status.idle": "2020-12-07T13:03:55.462777Z",
     "shell.execute_reply": "2020-12-07T13:03:55.462777Z"
    }
   },
   "outputs": [],
   "source": []
  },
  {
   "cell_type": "code",
   "execution_count": null,
   "metadata": {
    "execution": {
     "iopub.execute_input": "2020-12-07T13:03:55.464777Z",
     "iopub.status.busy": "2020-12-07T13:03:55.464777Z",
     "iopub.status.idle": "2020-12-07T13:03:55.478779Z",
     "shell.execute_reply": "2020-12-07T13:03:55.478779Z"
    }
   },
   "outputs": [],
   "source": []
  },
  {
   "cell_type": "markdown",
   "metadata": {
    "pycharm": {
     "name": "#%% md\n"
    }
   },
   "source": [
    "## Problem: Scalar selection of a single row\n",
    "\n",
    "Select the 2nd row in `x` and `z` using a single integer value.\n",
    " \n",
    "**Question**: What is the dimension of `x` and the second row of `x`"
   ]
  },
  {
   "cell_type": "code",
   "execution_count": null,
   "metadata": {
    "execution": {
     "iopub.execute_input": "2020-12-07T13:03:55.481777Z",
     "iopub.status.busy": "2020-12-07T13:03:55.480777Z",
     "iopub.status.idle": "2020-12-07T13:03:55.494777Z",
     "shell.execute_reply": "2020-12-07T13:03:55.494777Z"
    }
   },
   "outputs": [],
   "source": []
  },
  {
   "cell_type": "code",
   "execution_count": null,
   "metadata": {
    "execution": {
     "iopub.execute_input": "2020-12-07T13:03:55.496777Z",
     "iopub.status.busy": "2020-12-07T13:03:55.496777Z",
     "iopub.status.idle": "2020-12-07T13:03:55.510778Z",
     "shell.execute_reply": "2020-12-07T13:03:55.510778Z"
    }
   },
   "outputs": [],
   "source": []
  },
  {
   "cell_type": "code",
   "execution_count": null,
   "metadata": {
    "execution": {
     "iopub.execute_input": "2020-12-07T13:03:55.513777Z",
     "iopub.status.busy": "2020-12-07T13:03:55.512777Z",
     "iopub.status.idle": "2020-12-07T13:03:55.526777Z",
     "shell.execute_reply": "2020-12-07T13:03:55.526777Z"
    }
   },
   "outputs": [],
   "source": []
  },
  {
   "cell_type": "code",
   "execution_count": null,
   "metadata": {
    "execution": {
     "iopub.execute_input": "2020-12-07T13:03:55.528777Z",
     "iopub.status.busy": "2020-12-07T13:03:55.528777Z",
     "iopub.status.idle": "2020-12-07T13:03:55.542777Z",
     "shell.execute_reply": "2020-12-07T13:03:55.542777Z"
    }
   },
   "outputs": [],
   "source": []
  },
  {
   "cell_type": "markdown",
   "metadata": {
    "pycharm": {
     "name": "#%% md\n"
    }
   },
   "source": [
    "## Problem: Slice selection of a single row\n",
    "\n",
    "Use a slice to select the 2nd row of `x` and the 2nd element of `y` and `z`.\n",
    "\n",
    "**Question**: What are the dimension selections?"
   ]
  },
  {
   "cell_type": "code",
   "execution_count": null,
   "metadata": {
    "execution": {
     "iopub.execute_input": "2020-12-07T13:03:55.544777Z",
     "iopub.status.busy": "2020-12-07T13:03:55.544777Z",
     "iopub.status.idle": "2020-12-07T13:03:55.558778Z",
     "shell.execute_reply": "2020-12-07T13:03:55.558778Z"
    }
   },
   "outputs": [],
   "source": []
  },
  {
   "cell_type": "code",
   "execution_count": null,
   "metadata": {
    "execution": {
     "iopub.execute_input": "2020-12-07T13:03:55.560777Z",
     "iopub.status.busy": "2020-12-07T13:03:55.560777Z",
     "iopub.status.idle": "2020-12-07T13:03:55.574777Z",
     "shell.execute_reply": "2020-12-07T13:03:55.574777Z"
    }
   },
   "outputs": [],
   "source": []
  },
  {
   "cell_type": "code",
   "execution_count": null,
   "metadata": {
    "execution": {
     "iopub.execute_input": "2020-12-07T13:03:55.576777Z",
     "iopub.status.busy": "2020-12-07T13:03:55.576777Z",
     "iopub.status.idle": "2020-12-07T13:03:55.590779Z",
     "shell.execute_reply": "2020-12-07T13:03:55.590779Z"
    }
   },
   "outputs": [],
   "source": []
  },
  {
   "cell_type": "markdown",
   "metadata": {},
   "source": [
    "## Problem: List selection of a single row\n",
    "\n",
    "Use a list to select the 2nd row of `x` and the 2nd element of `y` and `z`.\n",
    "\n",
    "**Question**: What are the dimension selections?"
   ]
  },
  {
   "cell_type": "code",
   "execution_count": null,
   "metadata": {
    "execution": {
     "iopub.execute_input": "2020-12-07T13:03:55.592777Z",
     "iopub.status.busy": "2020-12-07T13:03:55.592777Z",
     "iopub.status.idle": "2020-12-07T13:03:55.606779Z",
     "shell.execute_reply": "2020-12-07T13:03:55.606779Z"
    }
   },
   "outputs": [],
   "source": []
  },
  {
   "cell_type": "code",
   "execution_count": null,
   "metadata": {
    "execution": {
     "iopub.execute_input": "2020-12-07T13:03:55.608777Z",
     "iopub.status.busy": "2020-12-07T13:03:55.608777Z",
     "iopub.status.idle": "2020-12-07T13:03:55.622777Z",
     "shell.execute_reply": "2020-12-07T13:03:55.622777Z"
    }
   },
   "outputs": [],
   "source": []
  },
  {
   "cell_type": "code",
   "execution_count": null,
   "metadata": {
    "execution": {
     "iopub.execute_input": "2020-12-07T13:03:55.624777Z",
     "iopub.status.busy": "2020-12-07T13:03:55.624777Z",
     "iopub.status.idle": "2020-12-07T13:03:55.638777Z",
     "shell.execute_reply": "2020-12-07T13:03:55.638777Z"
    }
   },
   "outputs": [],
   "source": []
  },
  {
   "cell_type": "markdown",
   "metadata": {},
   "source": [
    "## Problem: Selecting a single Column\n",
    "Select the 2nd column of x using a scalar integer, a slice and a list.\n",
    "\n",
    "**Question**: What the the dimensions of the selected elements?"
   ]
  },
  {
   "cell_type": "code",
   "execution_count": null,
   "metadata": {
    "execution": {
     "iopub.execute_input": "2020-12-07T13:03:55.640777Z",
     "iopub.status.busy": "2020-12-07T13:03:55.640777Z",
     "iopub.status.idle": "2020-12-07T13:03:55.654778Z",
     "shell.execute_reply": "2020-12-07T13:03:55.654778Z"
    }
   },
   "outputs": [],
   "source": []
  },
  {
   "cell_type": "code",
   "execution_count": null,
   "metadata": {
    "execution": {
     "iopub.execute_input": "2020-12-07T13:03:55.656777Z",
     "iopub.status.busy": "2020-12-07T13:03:55.656777Z",
     "iopub.status.idle": "2020-12-07T13:03:55.670777Z",
     "shell.execute_reply": "2020-12-07T13:03:55.670777Z"
    }
   },
   "outputs": [],
   "source": []
  },
  {
   "cell_type": "markdown",
   "metadata": {},
   "source": [
    "## Problem: Selecting a block of specific columns\n",
    "Select the 2nd and 3rd columns of x using a slice."
   ]
  },
  {
   "cell_type": "code",
   "execution_count": null,
   "metadata": {
    "execution": {
     "iopub.execute_input": "2020-12-07T13:03:55.672777Z",
     "iopub.status.busy": "2020-12-07T13:03:55.672777Z",
     "iopub.status.idle": "2020-12-07T13:03:55.686777Z",
     "shell.execute_reply": "2020-12-07T13:03:55.686777Z"
    }
   },
   "outputs": [],
   "source": []
  },
  {
   "cell_type": "markdown",
   "metadata": {},
   "source": [
    "## Problem: Selecting a block of specific rows\n",
    "Select the 2nd and 4th rows of x using both a slice and a list. \n"
   ]
  },
  {
   "cell_type": "code",
   "execution_count": null,
   "metadata": {
    "execution": {
     "iopub.execute_input": "2020-12-07T13:03:55.689778Z",
     "iopub.status.busy": "2020-12-07T13:03:55.689778Z",
     "iopub.status.idle": "2020-12-07T13:03:55.701778Z",
     "shell.execute_reply": "2020-12-07T13:03:55.701778Z"
    }
   },
   "outputs": [],
   "source": []
  },
  {
   "cell_type": "markdown",
   "metadata": {},
   "source": [
    "## Problem: Selecting a block of specific rows and columns\n",
    "Combine these be combined to select the 2nd and 3rd columns and 2nd and 4th rows."
   ]
  },
  {
   "cell_type": "code",
   "execution_count": null,
   "metadata": {
    "execution": {
     "iopub.execute_input": "2020-12-07T13:03:55.704777Z",
     "iopub.status.busy": "2020-12-07T13:03:55.704777Z",
     "iopub.status.idle": "2020-12-07T13:03:55.716777Z",
     "shell.execute_reply": "2020-12-07T13:03:55.716777Z"
    }
   },
   "outputs": [],
   "source": []
  },
  {
   "cell_type": "code",
   "execution_count": null,
   "metadata": {
    "execution": {
     "iopub.execute_input": "2020-12-07T13:03:55.718777Z",
     "iopub.status.busy": "2020-12-07T13:03:55.718777Z",
     "iopub.status.idle": "2020-12-07T13:03:55.732779Z",
     "shell.execute_reply": "2020-12-07T13:03:55.732779Z"
    }
   },
   "outputs": [],
   "source": []
  },
  {
   "cell_type": "markdown",
   "metadata": {},
   "source": [
    "## Problem: Use `ix_` to select rows and columns using lists\n",
    "Use `ix_` to select the 2nd and 4th rows and 1st and 3rd columns of `x`."
   ]
  },
  {
   "cell_type": "code",
   "execution_count": null,
   "metadata": {
    "execution": {
     "iopub.execute_input": "2020-12-07T13:03:55.735777Z",
     "iopub.status.busy": "2020-12-07T13:03:55.734777Z",
     "iopub.status.idle": "2020-12-07T13:03:55.748777Z",
     "shell.execute_reply": "2020-12-07T13:03:55.748777Z"
    }
   },
   "outputs": [],
   "source": []
  },
  {
   "cell_type": "code",
   "execution_count": null,
   "metadata": {
    "execution": {
     "iopub.execute_input": "2020-12-07T13:03:55.750777Z",
     "iopub.status.busy": "2020-12-07T13:03:55.750777Z",
     "iopub.status.idle": "2020-12-07T13:03:55.764778Z",
     "shell.execute_reply": "2020-12-07T13:03:55.764778Z"
    }
   },
   "outputs": [],
   "source": []
  },
  {
   "cell_type": "markdown",
   "metadata": {
    "pycharm": {
     "name": "#%% md\n"
    }
   },
   "source": [
    "## Problem: Convert a DataFrame to a NumPy array\n",
    "\n",
    "Use  `.to_numpy` to convert a DataFrame to a NumPy array."
   ]
  },
  {
   "cell_type": "code",
   "execution_count": null,
   "metadata": {
    "execution": {
     "iopub.execute_input": "2020-12-07T13:03:55.767777Z",
     "iopub.status.busy": "2020-12-07T13:03:55.766777Z",
     "iopub.status.idle": "2020-12-07T13:03:55.955778Z",
     "shell.execute_reply": "2020-12-07T13:03:55.955778Z"
    }
   },
   "outputs": [],
   "source": [
    "# Setup: Create a DataFrame\n",
    "import pandas as pd\n",
    "import numpy as np\n",
    "\n",
    "names = [\"a\", \"b\", \"c\", \"d\", \"e\"]\n",
    "x = np.arange(25).reshape((5,5))\n",
    "x_df = pd.DataFrame(x, index=names, columns=names)\n",
    "print(x_df)\n"
   ]
  },
  {
   "cell_type": "code",
   "execution_count": null,
   "metadata": {
    "execution": {
     "iopub.execute_input": "2020-12-07T13:03:55.957777Z",
     "iopub.status.busy": "2020-12-07T13:03:55.957777Z",
     "iopub.status.idle": "2020-12-07T13:03:55.971778Z",
     "shell.execute_reply": "2020-12-07T13:03:55.972293Z"
    }
   },
   "outputs": [],
   "source": []
  },
  {
   "cell_type": "markdown",
   "metadata": {
    "pycharm": {
     "name": "#%% md\n"
    }
   },
   "source": [
    "## Problem: Use `np.asarray` to convert to an array\n",
    "\n",
    "Use  `np.asarray` to convert a DataFrame to a NumPy array."
   ]
  },
  {
   "cell_type": "code",
   "execution_count": null,
   "metadata": {
    "execution": {
     "iopub.execute_input": "2020-12-07T13:03:55.973805Z",
     "iopub.status.busy": "2020-12-07T13:03:55.973805Z",
     "iopub.status.idle": "2020-12-07T13:03:55.987805Z",
     "shell.execute_reply": "2020-12-07T13:03:55.987805Z"
    }
   },
   "outputs": [],
   "source": []
  },
  {
   "cell_type": "markdown",
   "metadata": {
    "collapsed": false,
    "pycharm": {
     "name": "#%% md\n"
    }
   },
   "source": [
    "## Exercises\n",
    "\n",
    "### Exercise: Block selection\n",
    "\n",
    "Select the second and third rows of `a` and the first and last column.\n",
    "Use at least three different methods including all slices, `np.ix_`, and\n",
    "mixed slice-list selection."
   ]
  },
  {
   "cell_type": "code",
   "execution_count": null,
   "metadata": {
    "execution": {
     "iopub.execute_input": "2020-12-07T13:03:55.990805Z",
     "iopub.status.busy": "2020-12-07T13:03:55.990805Z",
     "iopub.status.idle": "2020-12-07T13:03:56.003806Z",
     "shell.execute_reply": "2020-12-07T13:03:56.003806Z"
    },
    "pycharm": {
     "is_executing": false,
     "name": "#%%\n"
    }
   },
   "outputs": [],
   "source": [
    "# Setup: Data for Exercises\n",
    "\n",
    "import numpy as np\n",
    "rs = np.random.RandomState(20000214)\n",
    "a = rs.randint(1, 10, (4,3))\n",
    "b = rs.randint(1, 10, (6,4))\n",
    "\n",
    "print(f\"a = \\n {a}\")\n",
    "print()\n",
    "print(f\"b = \\n {b}\")"
   ]
  },
  {
   "cell_type": "code",
   "execution_count": null,
   "metadata": {
    "execution": {
     "iopub.execute_input": "2020-12-07T13:03:56.005805Z",
     "iopub.status.busy": "2020-12-07T13:03:56.005805Z",
     "iopub.status.idle": "2020-12-07T13:03:56.018806Z",
     "shell.execute_reply": "2020-12-07T13:03:56.018806Z"
    }
   },
   "outputs": [],
   "source": []
  },
  {
   "cell_type": "code",
   "execution_count": null,
   "metadata": {
    "execution": {
     "iopub.execute_input": "2020-12-07T13:03:56.020805Z",
     "iopub.status.busy": "2020-12-07T13:03:56.020805Z",
     "iopub.status.idle": "2020-12-07T13:03:56.033805Z",
     "shell.execute_reply": "2020-12-07T13:03:56.033805Z"
    }
   },
   "outputs": [],
   "source": []
  },
  {
   "cell_type": "code",
   "execution_count": null,
   "metadata": {
    "execution": {
     "iopub.execute_input": "2020-12-07T13:03:56.035805Z",
     "iopub.status.busy": "2020-12-07T13:03:56.035805Z",
     "iopub.status.idle": "2020-12-07T13:03:56.048805Z",
     "shell.execute_reply": "2020-12-07T13:03:56.048805Z"
    }
   },
   "outputs": [],
   "source": []
  },
  {
   "cell_type": "markdown",
   "metadata": {
    "collapsed": false
   },
   "source": [
    "### Exercise: Row Assign\n",
    "\n",
    "Assign the first three elements of the first row of `b` to `a`.\n",
    "\n",
    "**Note** Assignment sets one selected block in one array equal to another \n",
    "block.\n",
    "\n",
    "```python\n",
    "x[0:2,0:3] = y[1:3,1:4]\n",
    "```"
   ]
  },
  {
   "cell_type": "code",
   "execution_count": null,
   "metadata": {
    "execution": {
     "iopub.execute_input": "2020-12-07T13:03:56.050805Z",
     "iopub.status.busy": "2020-12-07T13:03:56.050805Z",
     "iopub.status.idle": "2020-12-07T13:03:56.063805Z",
     "shell.execute_reply": "2020-12-07T13:03:56.063805Z"
    }
   },
   "outputs": [],
   "source": []
  },
  {
   "cell_type": "markdown",
   "metadata": {
    "collapsed": false,
    "pycharm": {
     "name": "#%% md\n"
    }
   },
   "source": [
    "### Exercise: Block Assign\n",
    "\n",
    "Assign the block consisting the first and third columns and the second and last rows of `b`\n",
    "to the last two rows and last two columns of `a`"
   ]
  },
  {
   "cell_type": "code",
   "execution_count": null,
   "metadata": {
    "execution": {
     "iopub.execute_input": "2020-12-07T13:03:56.066805Z",
     "iopub.status.busy": "2020-12-07T13:03:56.066805Z",
     "iopub.status.idle": "2020-12-07T13:03:56.079805Z",
     "shell.execute_reply": "2020-12-07T13:03:56.079805Z"
    }
   },
   "outputs": [],
   "source": []
  }
 ],
 "metadata": {
  "file_extension": ".py",
  "kernelspec": {
   "display_name": "Python 3",
   "language": "python",
   "name": "python3"
  },
  "language_info": {
   "codemirror_mode": {
    "name": "ipython",
    "version": 3
   },
   "file_extension": ".py",
   "mimetype": "text/x-python",
   "name": "python",
   "nbconvert_exporter": "python",
   "pygments_lexer": "ipython3",
   "version": "3.8.5"
  },
  "mimetype": "text/x-python",
  "name": "python",
  "npconvert_exporter": "python",
  "pycharm": {
   "stem_cell": {
    "cell_type": "raw",
    "metadata": {
     "collapsed": false
    },
    "source": []
   }
  },
  "pygments_lexer": "ipython3",
  "version": 3
 },
 "nbformat": 4,
 "nbformat_minor": 2
}
