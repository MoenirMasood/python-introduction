{
 "cells": [
  {
   "cell_type": "markdown",
   "metadata": {
    "pycharm": {
     "name": "#%% md\n"
    }
   },
   "source": [
    "# Importing Data\n",
    "\n",
    "This lesson covers:\n",
    "\n",
    "* Importing data \n",
    "* Converting dates "
   ]
  },
  {
   "cell_type": "markdown",
   "metadata": {},
   "source": [
    "## Problem: Reading in data with Dates\n",
    "\n",
    "Read in the files `GS10.csv` and `GS10.xls` which have both been downloaded\n",
    "from [FRED](https://fred.stlouisfed.org/)."
   ]
  },
  {
   "cell_type": "code",
   "execution_count": null,
   "metadata": {
    "execution": {
     "iopub.execute_input": "2020-12-07T13:04:13.117029Z",
     "iopub.status.busy": "2020-12-07T13:04:13.117029Z",
     "iopub.status.idle": "2020-12-07T13:04:13.427081Z",
     "shell.execute_reply": "2020-12-07T13:04:13.428082Z"
    }
   },
   "outputs": [],
   "source": []
  },
  {
   "cell_type": "markdown",
   "metadata": {},
   "source": [
    "## Problem: Converting Dates\n",
    "\n",
    "1. Load the CSV file without converting the dates in `read_csv`.\n",
    "2. Convert the date column, remove it from the DataFrame, and set it as the\n",
    "   index. "
   ]
  },
  {
   "cell_type": "code",
   "execution_count": null,
   "metadata": {
    "execution": {
     "iopub.execute_input": "2020-12-07T13:04:13.431081Z",
     "iopub.status.busy": "2020-12-07T13:04:13.431081Z",
     "iopub.status.idle": "2020-12-07T13:04:13.443081Z",
     "shell.execute_reply": "2020-12-07T13:04:13.443081Z"
    }
   },
   "outputs": [],
   "source": []
  },
  {
   "cell_type": "markdown",
   "metadata": {
    "collapsed": false,
    "pycharm": {
     "name": "#%% md\n"
    }
   },
   "source": [
    "## Exercises\n",
    "\n",
    "### Exercise: Selectively Load Columns\n",
    "\n",
    "1. Load the data in `data/fred-md.csv` in the columns sasdate,\n",
    "   RPI and INDPRO using the `usecols` keyword.\n",
    "2. Remove the first row by selecting the second to the end.\n",
    "3. Convert sasdate to dates\n",
    "4. Set sasdate as the index and remove it from the `DataFrame`."
   ]
  },
  {
   "cell_type": "code",
   "execution_count": null,
   "metadata": {
    "execution": {
     "iopub.execute_input": "2020-12-07T13:04:13.447082Z",
     "iopub.status.busy": "2020-12-07T13:04:13.447082Z",
     "iopub.status.idle": "2020-12-07T13:04:13.521082Z",
     "shell.execute_reply": "2020-12-07T13:04:13.522081Z"
    }
   },
   "outputs": [],
   "source": []
  },
  {
   "cell_type": "markdown",
   "metadata": {
    "collapsed": false,
    "pycharm": {
     "name": "#%% md\n"
    }
   },
   "source": [
    "### Exercise: Load and Merge multiple Sheets\n",
    "\n",
    "1. Load the data on the sheet \"Long Mat\" in the Excel file \"data/exercise.xlsx\". \n",
    "   These are 10 and 20 year constant maturity yields.\n",
    "2. Load the data on the sheet \"Short Mat\" in the Excel file \"data/exercise.xlsx\".\n",
    "   These are 1 and 3 year constant maturity yields.\n",
    "3. Combine the columns in the two `DataFrame`s by creating a dictionary of the keys in\n",
    "   each with the values equal to the column names."
   ]
  },
  {
   "cell_type": "code",
   "execution_count": null,
   "metadata": {
    "execution": {
     "iopub.execute_input": "2020-12-07T13:04:13.525079Z",
     "iopub.status.busy": "2020-12-07T13:04:13.525079Z",
     "iopub.status.idle": "2020-12-07T13:04:13.696080Z",
     "shell.execute_reply": "2020-12-07T13:04:13.696080Z"
    }
   },
   "outputs": [],
   "source": []
  }
 ],
 "metadata": {
  "kernelspec": {
   "display_name": "Python 3",
   "language": "python",
   "name": "python3"
  },
  "language_info": {
   "codemirror_mode": {
    "name": "ipython",
    "version": 3
   },
   "file_extension": ".py",
   "mimetype": "text/x-python",
   "name": "python",
   "nbconvert_exporter": "python",
   "pygments_lexer": "ipython3",
   "version": "3.8.5"
  },
  "pycharm": {
   "stem_cell": {
    "cell_type": "raw",
    "metadata": {
     "collapsed": false
    },
    "source": []
   }
  }
 },
 "nbformat": 4,
 "nbformat_minor": 1
}
