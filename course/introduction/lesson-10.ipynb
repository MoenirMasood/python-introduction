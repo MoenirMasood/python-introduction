{
 "cells": [
  {
   "cell_type": "markdown",
   "metadata": {},
   "source": [
    "# Accessing Elements in DataFrames\n",
    "\n",
    "This lesson covers:\n",
    "\n",
    "* Assessing specific elements in Pandas Series and DataFrames \n",
    "\n",
    "Accessing elements in an array or a DataFrame is a common task. To begin this\n",
    "lesson, clear the workspace set up some vectors and a $5\\times5$ array. These\n",
    "vectors and matrix will make it easy to determine which elements are selected\n",
    "by a command.\n",
    "\n",
    "Start by creating 2 DataFrame and 2 Series. Define `x=np.arange(24).reshape(5,5)` \n",
    "which is a 5 by 5 array and `y=np.arange(5)` which is a 5-element 1-d array.\n",
    "We need:\n",
    "\n",
    "* `x_df`: A default `DataFrame` containing `x`\n",
    "* `x_named`: A `DataFrame` containing `x` with index `\"r0\"`, `\"r1\"`, ..., `\"r4\"` and\n",
    "  columns `\"c0\"`, `\"c1\"`, ... `\"c4\"`.\n",
    "* `y_s`: A default `Series` containing `y`\n",
    "* `y_named`: A `Series` containing `y` that has the index `\"r0\"`, `\"r1\"`, ..., `\"r4\"`"
   ]
  },
  {
   "cell_type": "code",
   "execution_count": null,
   "metadata": {
    "execution": {
     "iopub.execute_input": "2020-12-07T13:03:53.570192Z",
     "iopub.status.busy": "2020-12-07T13:03:53.570192Z",
     "iopub.status.idle": "2020-12-07T13:03:53.835192Z",
     "shell.execute_reply": "2020-12-07T13:03:53.835192Z"
    }
   },
   "outputs": [],
   "source": []
  },
  {
   "cell_type": "markdown",
   "metadata": {},
   "source": [
    "## Problem: Selecting a row by name\n",
    "\n",
    "Select the 2nd row of `x_name` using `.loc`.\n"
   ]
  },
  {
   "cell_type": "code",
   "execution_count": null,
   "metadata": {
    "execution": {
     "iopub.execute_input": "2020-12-07T13:03:53.843192Z",
     "iopub.status.busy": "2020-12-07T13:03:53.842192Z",
     "iopub.status.idle": "2020-12-07T13:03:53.850192Z",
     "shell.execute_reply": "2020-12-07T13:03:53.850192Z"
    }
   },
   "outputs": [],
   "source": []
  },
  {
   "cell_type": "markdown",
   "metadata": {},
   "source": [
    "## Problem: Selecting a column by name\n",
    "\n",
    "Select the 2nd columns of `x_name` using  both `[]` and `.loc`."
   ]
  },
  {
   "cell_type": "code",
   "execution_count": null,
   "metadata": {
    "execution": {
     "iopub.execute_input": "2020-12-07T13:03:53.853192Z",
     "iopub.status.busy": "2020-12-07T13:03:53.852192Z",
     "iopub.status.idle": "2020-12-07T13:03:53.866192Z",
     "shell.execute_reply": "2020-12-07T13:03:53.866192Z"
    }
   },
   "outputs": [],
   "source": []
  },
  {
   "cell_type": "code",
   "execution_count": null,
   "metadata": {
    "execution": {
     "iopub.execute_input": "2020-12-07T13:03:53.869192Z",
     "iopub.status.busy": "2020-12-07T13:03:53.868192Z",
     "iopub.status.idle": "2020-12-07T13:03:53.881192Z",
     "shell.execute_reply": "2020-12-07T13:03:53.881192Z"
    }
   },
   "outputs": [],
   "source": []
  },
  {
   "cell_type": "code",
   "execution_count": null,
   "metadata": {
    "execution": {
     "iopub.execute_input": "2020-12-07T13:03:53.883192Z",
     "iopub.status.busy": "2020-12-07T13:03:53.883192Z",
     "iopub.status.idle": "2020-12-07T13:03:53.897192Z",
     "shell.execute_reply": "2020-12-07T13:03:53.897192Z"
    }
   },
   "outputs": [],
   "source": []
  },
  {
   "cell_type": "markdown",
   "metadata": {},
   "source": [
    "## Problem: Selecting a elements of a Series by name\n",
    "\n",
    "Select the 2nd element of `y_name` using both `[]` and `loc`.\n"
   ]
  },
  {
   "cell_type": "code",
   "execution_count": null,
   "metadata": {
    "execution": {
     "iopub.execute_input": "2020-12-07T13:03:53.899192Z",
     "iopub.status.busy": "2020-12-07T13:03:53.899192Z",
     "iopub.status.idle": "2020-12-07T13:03:53.913192Z",
     "shell.execute_reply": "2020-12-07T13:03:53.913192Z"
    }
   },
   "outputs": [],
   "source": []
  },
  {
   "cell_type": "code",
   "execution_count": null,
   "metadata": {
    "execution": {
     "iopub.execute_input": "2020-12-07T13:03:53.915192Z",
     "iopub.status.busy": "2020-12-07T13:03:53.915192Z",
     "iopub.status.idle": "2020-12-07T13:03:53.928192Z",
     "shell.execute_reply": "2020-12-07T13:03:53.928192Z"
    }
   },
   "outputs": [],
   "source": []
  },
  {
   "cell_type": "code",
   "execution_count": null,
   "metadata": {
    "execution": {
     "iopub.execute_input": "2020-12-07T13:03:53.930192Z",
     "iopub.status.busy": "2020-12-07T13:03:53.930192Z",
     "iopub.status.idle": "2020-12-07T13:03:53.943192Z",
     "shell.execute_reply": "2020-12-07T13:03:53.943192Z"
    }
   },
   "outputs": [],
   "source": []
  },
  {
   "cell_type": "markdown",
   "metadata": {},
   "source": [
    "## Problem: Selecting rows and columns by name\n",
    "\n",
    "Select the 2nd and 4th rows and 1st and 3rd columns of `x_name`."
   ]
  },
  {
   "cell_type": "code",
   "execution_count": null,
   "metadata": {
    "execution": {
     "iopub.execute_input": "2020-12-07T13:03:53.947192Z",
     "iopub.status.busy": "2020-12-07T13:03:53.947192Z",
     "iopub.status.idle": "2020-12-07T13:03:53.959192Z",
     "shell.execute_reply": "2020-12-07T13:03:53.959192Z"
    }
   },
   "outputs": [],
   "source": []
  },
  {
   "cell_type": "code",
   "execution_count": null,
   "metadata": {
    "execution": {
     "iopub.execute_input": "2020-12-07T13:03:53.964192Z",
     "iopub.status.busy": "2020-12-07T13:03:53.964192Z",
     "iopub.status.idle": "2020-12-07T13:03:53.975192Z",
     "shell.execute_reply": "2020-12-07T13:03:53.975192Z"
    }
   },
   "outputs": [],
   "source": []
  },
  {
   "cell_type": "code",
   "execution_count": null,
   "metadata": {
    "execution": {
     "iopub.execute_input": "2020-12-07T13:03:53.979192Z",
     "iopub.status.busy": "2020-12-07T13:03:53.979192Z",
     "iopub.status.idle": "2020-12-07T13:03:53.991192Z",
     "shell.execute_reply": "2020-12-07T13:03:53.991192Z"
    }
   },
   "outputs": [],
   "source": []
  },
  {
   "cell_type": "markdown",
   "metadata": {},
   "source": [
    "## Problem: DataFrame selection with default index and column names\n",
    "\n",
    "Select the 2nd and 4th rows and 1st and 3rd columns of `x_df`.\n"
   ]
  },
  {
   "cell_type": "code",
   "execution_count": null,
   "metadata": {
    "execution": {
     "iopub.execute_input": "2020-12-07T13:03:53.995192Z",
     "iopub.status.busy": "2020-12-07T13:03:53.995192Z",
     "iopub.status.idle": "2020-12-07T13:03:54.007192Z",
     "shell.execute_reply": "2020-12-07T13:03:54.007192Z"
    }
   },
   "outputs": [],
   "source": []
  },
  {
   "cell_type": "markdown",
   "metadata": {},
   "source": [
    "## Problem: Series selection with the default index\n",
    "\n",
    "Select the final element in `y_s`"
   ]
  },
  {
   "cell_type": "code",
   "execution_count": null,
   "metadata": {
    "execution": {
     "iopub.execute_input": "2020-12-07T13:03:54.009192Z",
     "iopub.status.busy": "2020-12-07T13:03:54.009192Z",
     "iopub.status.idle": "2020-12-07T13:03:54.023192Z",
     "shell.execute_reply": "2020-12-07T13:03:54.023192Z"
    }
   },
   "outputs": [],
   "source": []
  },
  {
   "cell_type": "code",
   "execution_count": null,
   "metadata": {
    "execution": {
     "iopub.execute_input": "2020-12-07T13:03:54.025192Z",
     "iopub.status.busy": "2020-12-07T13:03:54.025192Z",
     "iopub.status.idle": "2020-12-07T13:03:54.039192Z",
     "shell.execute_reply": "2020-12-07T13:03:54.039192Z"
    }
   },
   "outputs": [],
   "source": []
  },
  {
   "cell_type": "markdown",
   "metadata": {},
   "source": [
    "## Problem: Subseries selection\n",
    "Select the subseries of `y_named` and `y_s` containing the first, fourth and fifth element."
   ]
  },
  {
   "cell_type": "code",
   "execution_count": null,
   "metadata": {
    "execution": {
     "iopub.execute_input": "2020-12-07T13:03:54.042192Z",
     "iopub.status.busy": "2020-12-07T13:03:54.042192Z",
     "iopub.status.idle": "2020-12-07T13:03:54.055192Z",
     "shell.execute_reply": "2020-12-07T13:03:54.055192Z"
    }
   },
   "outputs": [],
   "source": []
  },
  {
   "cell_type": "code",
   "execution_count": null,
   "metadata": {
    "execution": {
     "iopub.execute_input": "2020-12-07T13:03:54.058192Z",
     "iopub.status.busy": "2020-12-07T13:03:54.058192Z",
     "iopub.status.idle": "2020-12-07T13:03:54.070192Z",
     "shell.execute_reply": "2020-12-07T13:03:54.070192Z"
    }
   },
   "outputs": [],
   "source": []
  },
  {
   "cell_type": "markdown",
   "metadata": {},
   "source": [
    "Load the data in momentum.csv."
   ]
  },
  {
   "cell_type": "code",
   "execution_count": null,
   "metadata": {
    "execution": {
     "iopub.execute_input": "2020-12-07T13:03:54.073192Z",
     "iopub.status.busy": "2020-12-07T13:03:54.072192Z",
     "iopub.status.idle": "2020-12-07T13:03:54.086192Z",
     "shell.execute_reply": "2020-12-07T13:03:54.086192Z"
    },
    "pycharm": {
     "is_executing": false
    }
   },
   "outputs": [],
   "source": [
    "# Setup: Load the momentum data\n",
    "\n",
    "import pandas as pd\n",
    "\n",
    "momentum = pd.read_csv(\"data/momentum.csv\", index_col=\"date\", parse_dates=True)\n",
    "momentum.head()"
   ]
  },
  {
   "cell_type": "markdown",
   "metadata": {
    "pycharm": {
     "name": "#%% md\n"
    }
   },
   "source": [
    "## Problem: Selecting data on a single day\n",
    "\n",
    "Select returns on February 16, 2016.\n"
   ]
  },
  {
   "cell_type": "code",
   "execution_count": null,
   "metadata": {
    "execution": {
     "iopub.execute_input": "2020-12-07T13:03:54.089192Z",
     "iopub.status.busy": "2020-12-07T13:03:54.088192Z",
     "iopub.status.idle": "2020-12-07T13:03:54.102192Z",
     "shell.execute_reply": "2020-12-07T13:03:54.102192Z"
    }
   },
   "outputs": [],
   "source": []
  },
  {
   "cell_type": "markdown",
   "metadata": {},
   "source": [
    "## Problem: Selecting data in a single month\n",
    "\n",
    "Select return in March 2016."
   ]
  },
  {
   "cell_type": "code",
   "execution_count": null,
   "metadata": {
    "execution": {
     "iopub.execute_input": "2020-12-07T13:03:54.111192Z",
     "iopub.status.busy": "2020-12-07T13:03:54.111192Z",
     "iopub.status.idle": "2020-12-07T13:03:54.118192Z",
     "shell.execute_reply": "2020-12-07T13:03:54.118192Z"
    }
   },
   "outputs": [],
   "source": []
  },
  {
   "cell_type": "markdown",
   "metadata": {},
   "source": [
    "## Problem: Selecting data in a single year\n",
    "\n",
    "Select return in 2016.\n"
   ]
  },
  {
   "cell_type": "code",
   "execution_count": null,
   "metadata": {
    "execution": {
     "iopub.execute_input": "2020-12-07T13:03:54.127192Z",
     "iopub.status.busy": "2020-12-07T13:03:54.127192Z",
     "iopub.status.idle": "2020-12-07T13:03:54.133192Z",
     "shell.execute_reply": "2020-12-07T13:03:54.133192Z"
    }
   },
   "outputs": [],
   "source": []
  },
  {
   "cell_type": "markdown",
   "metadata": {},
   "source": [
    "## Problem: Selecting data in a date range\n",
    "\n",
    "Select returns between May 1, 2016, and June 15, 2016."
   ]
  },
  {
   "cell_type": "code",
   "execution_count": null,
   "metadata": {
    "execution": {
     "iopub.execute_input": "2020-12-07T13:03:54.142192Z",
     "iopub.status.busy": "2020-12-07T13:03:54.142192Z",
     "iopub.status.idle": "2020-12-07T13:03:54.149192Z",
     "shell.execute_reply": "2020-12-07T13:03:54.149192Z"
    }
   },
   "outputs": [],
   "source": []
  },
  {
   "cell_type": "markdown",
   "metadata": {
    "collapsed": false,
    "pycharm": {
     "name": "#%% md\n"
    }
   },
   "source": [
    "## Exercises\n",
    "\n",
    "### Exercise: Subset time-series\n",
    "\n",
    "Select the data for May 2017 for momentum portfolios 1 and 10."
   ]
  },
  {
   "cell_type": "code",
   "execution_count": null,
   "metadata": {
    "execution": {
     "iopub.execute_input": "2020-12-07T13:03:54.156192Z",
     "iopub.status.busy": "2020-12-07T13:03:54.156192Z",
     "iopub.status.idle": "2020-12-07T13:03:54.164192Z",
     "shell.execute_reply": "2020-12-07T13:03:54.164192Z"
    }
   },
   "outputs": [],
   "source": []
  },
  {
   "cell_type": "markdown",
   "metadata": {
    "collapsed": false,
    "pycharm": {
     "name": "#%% md\n"
    }
   },
   "source": [
    "### Exercise: Select using Months\n",
    "\n",
    "Using a slice of YYYY-MM, select the returns for momentum portfolio\n",
    "5 in the final 6 months of 2016 as `Series`"
   ]
  },
  {
   "cell_type": "code",
   "execution_count": null,
   "metadata": {
    "execution": {
     "iopub.execute_input": "2020-12-07T13:03:54.170192Z",
     "iopub.status.busy": "2020-12-07T13:03:54.169192Z",
     "iopub.status.idle": "2020-12-07T13:03:54.180192Z",
     "shell.execute_reply": "2020-12-07T13:03:54.180192Z"
    }
   },
   "outputs": [],
   "source": []
  },
  {
   "cell_type": "markdown",
   "metadata": {
    "collapsed": false
   },
   "source": [
    "### Exercise: Ensure DataFrame\n",
    "\n",
    "Repeat the previous problem but ensure the selection is a DataFrame."
   ]
  },
  {
   "cell_type": "code",
   "execution_count": null,
   "metadata": {
    "execution": {
     "iopub.execute_input": "2020-12-07T13:03:54.188192Z",
     "iopub.status.busy": "2020-12-07T13:03:54.187192Z",
     "iopub.status.idle": "2020-12-07T13:03:54.195698Z",
     "shell.execute_reply": "2020-12-07T13:03:54.195698Z"
    }
   },
   "outputs": [],
   "source": []
  }
 ],
 "metadata": {
  "file_extension": ".py",
  "kernelspec": {
   "display_name": "Python 3",
   "language": "python",
   "name": "python3"
  },
  "language_info": {
   "codemirror_mode": {
    "name": "ipython",
    "version": 3
   },
   "file_extension": ".py",
   "mimetype": "text/x-python",
   "name": "python",
   "nbconvert_exporter": "python",
   "pygments_lexer": "ipython3",
   "version": "3.8.5"
  },
  "mimetype": "text/x-python",
  "name": "python",
  "npconvert_exporter": "python",
  "pycharm": {
   "stem_cell": {
    "cell_type": "raw",
    "metadata": {
     "collapsed": false
    },
    "source": []
   }
  },
  "pygments_lexer": "ipython3",
  "version": 3
 },
 "nbformat": 4,
 "nbformat_minor": 2
}
