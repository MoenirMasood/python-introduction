{
 "cells": [
  {
   "cell_type": "markdown",
   "metadata": {},
   "source": [
    "# Accessing Elements in DataFrames\n",
    "\n",
    "This lesson covers:\n",
    "\n",
    "* Assessing specific elements in Pandas Series and DataFrames \n",
    "\n",
    "Accessing elements in an array or a DataFrame is a common task. To begin this\n",
    "lesson, clear the workspace set up some vectors and a $5\\times5$ array. These\n",
    "vectors and matrix will make it easy to determine which elements are selected\n",
    "by a command.\n",
    "\n",
    "Start by creating 2 DataFrame and 2 Series. Define `x=np.arange(24).reshape(5,5)` \n",
    "which is a 5 by 5 array and `y=np.arange(5)` which is a 5-element 1-d array.\n",
    "We need:\n",
    "\n",
    "* `x_df`: A default `DataFrame` containing `x`\n",
    "* `x_named`: A `DataFrame` containing `x` with index `\"r0\"`, `\"r1\"`, ..., `\"r4\"` and\n",
    "  columns `\"c0\"`, `\"c1\"`, ... `\"c4\"`.\n",
    "* `y_s`: A default `Series` containing `y`\n",
    "* `y_named`: A `Series` containing `y` that has the index `\"r0\"`, `\"r1\"`, ..., `\"r4\"`"
   ]
  },
  {
   "cell_type": "code",
   "execution_count": null,
   "metadata": {
    "execution": {
     "iopub.execute_input": "2020-12-07T13:03:53.570192Z",
     "iopub.status.busy": "2020-12-07T13:03:53.570192Z",
     "iopub.status.idle": "2020-12-15T17:49:05.624214Z",
     "shell.execute_reply": "2020-12-15T17:49:05.624214Z"
    }
   },
   "outputs": [],
   "source": []
  },
  {
   "cell_type": "markdown",
   "metadata": {},
   "source": [
    "## Problem: Selecting a row by name\n",
    "\n",
    "Select the 2nd row of `x_name` using `.loc`.\n"
   ]
  },
  {
   "cell_type": "code",
   "execution_count": null,
   "metadata": {
    "execution": {
     "iopub.execute_input": "2020-12-15T17:49:05.631214Z",
     "iopub.status.busy": "2020-12-15T17:49:05.631214Z",
     "iopub.status.idle": "2020-12-15T17:49:05.640216Z",
     "shell.execute_reply": "2020-12-15T17:49:05.640216Z"
    }
   },
   "outputs": [],
   "source": []
  },
  {
   "cell_type": "markdown",
   "metadata": {},
   "source": [
    "## Problem: Selecting a column by name\n",
    "\n",
    "Select the 2nd columns of `x_name` using  both `[]` and `.loc`."
   ]
  },
  {
   "cell_type": "code",
   "execution_count": null,
   "metadata": {
    "execution": {
     "iopub.execute_input": "2020-12-15T17:49:05.644214Z",
     "iopub.status.busy": "2020-12-15T17:49:05.644214Z",
     "iopub.status.idle": "2020-12-15T17:49:05.654215Z",
     "shell.execute_reply": "2020-12-15T17:49:05.654215Z"
    }
   },
   "outputs": [],
   "source": []
  },
  {
   "cell_type": "code",
   "execution_count": null,
   "metadata": {
    "execution": {
     "iopub.execute_input": "2020-12-15T17:49:05.657218Z",
     "iopub.status.busy": "2020-12-15T17:49:05.657218Z",
     "iopub.status.idle": "2020-12-15T17:49:05.670216Z",
     "shell.execute_reply": "2020-12-15T17:49:05.670216Z"
    }
   },
   "outputs": [],
   "source": []
  },
  {
   "cell_type": "code",
   "execution_count": null,
   "metadata": {
    "execution": {
     "iopub.execute_input": "2020-12-15T17:49:05.673215Z",
     "iopub.status.busy": "2020-12-15T17:49:05.673215Z",
     "iopub.status.idle": "2020-12-15T17:49:05.686215Z",
     "shell.execute_reply": "2020-12-15T17:49:05.687215Z"
    }
   },
   "outputs": [],
   "source": []
  },
  {
   "cell_type": "markdown",
   "metadata": {},
   "source": [
    "## Problem: Selecting a elements of a Series by name\n",
    "\n",
    "Select the 2nd element of `y_name` using both `[]` and `loc`.\n"
   ]
  },
  {
   "cell_type": "code",
   "execution_count": null,
   "metadata": {
    "execution": {
     "iopub.execute_input": "2020-12-15T17:49:05.689216Z",
     "iopub.status.busy": "2020-12-15T17:49:05.689216Z",
     "iopub.status.idle": "2020-12-15T17:49:05.702216Z",
     "shell.execute_reply": "2020-12-15T17:49:05.702216Z"
    }
   },
   "outputs": [],
   "source": []
  },
  {
   "cell_type": "code",
   "execution_count": null,
   "metadata": {
    "execution": {
     "iopub.execute_input": "2020-12-15T17:49:05.705217Z",
     "iopub.status.busy": "2020-12-15T17:49:05.704218Z",
     "iopub.status.idle": "2020-12-15T17:49:05.717218Z",
     "shell.execute_reply": "2020-12-15T17:49:05.717218Z"
    }
   },
   "outputs": [],
   "source": []
  },
  {
   "cell_type": "code",
   "execution_count": null,
   "metadata": {
    "execution": {
     "iopub.execute_input": "2020-12-15T17:49:05.719215Z",
     "iopub.status.busy": "2020-12-15T17:49:05.719215Z",
     "iopub.status.idle": "2020-12-15T17:49:05.733215Z",
     "shell.execute_reply": "2020-12-15T17:49:05.733215Z"
    }
   },
   "outputs": [],
   "source": []
  },
  {
   "cell_type": "markdown",
   "metadata": {},
   "source": [
    "## Problem: Selecting rows and columns by name\n",
    "\n",
    "Select the 2nd and 4th rows and 1st and 3rd columns of `x_name`."
   ]
  },
  {
   "cell_type": "code",
   "execution_count": null,
   "metadata": {
    "execution": {
     "iopub.execute_input": "2020-12-15T17:49:05.738218Z",
     "iopub.status.busy": "2020-12-15T17:49:05.737218Z",
     "iopub.status.idle": "2020-12-15T17:49:05.749216Z",
     "shell.execute_reply": "2020-12-15T17:49:05.749216Z"
    }
   },
   "outputs": [],
   "source": []
  },
  {
   "cell_type": "code",
   "execution_count": null,
   "metadata": {
    "execution": {
     "iopub.execute_input": "2020-12-15T17:49:05.755216Z",
     "iopub.status.busy": "2020-12-15T17:49:05.754219Z",
     "iopub.status.idle": "2020-12-15T17:49:05.765215Z",
     "shell.execute_reply": "2020-12-15T17:49:05.764215Z"
    }
   },
   "outputs": [],
   "source": []
  },
  {
   "cell_type": "code",
   "execution_count": null,
   "metadata": {
    "execution": {
     "iopub.execute_input": "2020-12-15T17:49:05.770219Z",
     "iopub.status.busy": "2020-12-15T17:49:05.769218Z",
     "iopub.status.idle": "2020-12-15T17:49:05.780218Z",
     "shell.execute_reply": "2020-12-15T17:49:05.780218Z"
    }
   },
   "outputs": [],
   "source": []
  },
  {
   "cell_type": "markdown",
   "metadata": {},
   "source": [
    "## Problem: DataFrame selection with default index and column names\n",
    "\n",
    "Select the 2nd and 4th rows and 1st and 3rd columns of `x_df`.\n"
   ]
  },
  {
   "cell_type": "code",
   "execution_count": null,
   "metadata": {
    "execution": {
     "iopub.execute_input": "2020-12-15T17:49:05.785218Z",
     "iopub.status.busy": "2020-12-15T17:49:05.785218Z",
     "iopub.status.idle": "2020-12-15T17:49:05.795215Z",
     "shell.execute_reply": "2020-12-15T17:49:05.795215Z"
    }
   },
   "outputs": [],
   "source": []
  },
  {
   "cell_type": "markdown",
   "metadata": {},
   "source": [
    "## Problem: Series selection with the default index\n",
    "\n",
    "Select the final element in `y_s`"
   ]
  },
  {
   "cell_type": "code",
   "execution_count": null,
   "metadata": {
    "execution": {
     "iopub.execute_input": "2020-12-15T17:49:05.798215Z",
     "iopub.status.busy": "2020-12-15T17:49:05.798215Z",
     "iopub.status.idle": "2020-12-15T17:49:05.811215Z",
     "shell.execute_reply": "2020-12-15T17:49:05.811215Z"
    }
   },
   "outputs": [],
   "source": []
  },
  {
   "cell_type": "code",
   "execution_count": null,
   "metadata": {
    "execution": {
     "iopub.execute_input": "2020-12-15T17:49:05.814218Z",
     "iopub.status.busy": "2020-12-15T17:49:05.813215Z",
     "iopub.status.idle": "2020-12-15T17:49:05.827216Z",
     "shell.execute_reply": "2020-12-15T17:49:05.828216Z"
    }
   },
   "outputs": [],
   "source": []
  },
  {
   "cell_type": "markdown",
   "metadata": {},
   "source": [
    "## Problem: Subseries selection\n",
    "Select the subseries of `y_named` and `y_s` containing the first, fourth and fifth element."
   ]
  },
  {
   "cell_type": "code",
   "execution_count": null,
   "metadata": {
    "execution": {
     "iopub.execute_input": "2020-12-15T17:49:05.831217Z",
     "iopub.status.busy": "2020-12-15T17:49:05.831217Z",
     "iopub.status.idle": "2020-12-15T17:49:05.842220Z",
     "shell.execute_reply": "2020-12-15T17:49:05.842220Z"
    }
   },
   "outputs": [],
   "source": []
  },
  {
   "cell_type": "code",
   "execution_count": null,
   "metadata": {
    "execution": {
     "iopub.execute_input": "2020-12-15T17:49:05.845217Z",
     "iopub.status.busy": "2020-12-15T17:49:05.845217Z",
     "iopub.status.idle": "2020-12-15T17:49:05.857217Z",
     "shell.execute_reply": "2020-12-15T17:49:05.857217Z"
    }
   },
   "outputs": [],
   "source": []
  },
  {
   "cell_type": "markdown",
   "metadata": {},
   "source": [
    "Load the data in momentum.csv."
   ]
  },
  {
   "cell_type": "code",
   "execution_count": null,
   "metadata": {
    "execution": {
     "iopub.execute_input": "2020-12-15T17:49:05.860217Z",
     "iopub.status.busy": "2020-12-15T17:49:05.859217Z",
     "iopub.status.idle": "2020-12-15T17:49:05.873216Z",
     "shell.execute_reply": "2020-12-15T17:49:05.873216Z"
    },
    "pycharm": {
     "is_executing": false
    }
   },
   "outputs": [],
   "source": [
    "# Setup: Load the momentum data\n",
    "\n",
    "import pandas as pd\n",
    "\n",
    "momentum = pd.read_csv(\"data/momentum.csv\", index_col=\"date\", parse_dates=True)\n",
    "momentum.head()"
   ]
  },
  {
   "cell_type": "markdown",
   "metadata": {
    "pycharm": {
     "name": "#%% md\n"
    }
   },
   "source": [
    "## Problem: Selecting data on a single day\n",
    "\n",
    "Select returns on February 16, 2016.\n"
   ]
  },
  {
   "cell_type": "code",
   "execution_count": null,
   "metadata": {
    "execution": {
     "iopub.execute_input": "2020-12-15T17:49:05.879215Z",
     "iopub.status.busy": "2020-12-15T17:49:05.878218Z",
     "iopub.status.idle": "2020-12-15T17:49:05.889216Z",
     "shell.execute_reply": "2020-12-15T17:49:05.889216Z"
    }
   },
   "outputs": [],
   "source": []
  },
  {
   "cell_type": "markdown",
   "metadata": {},
   "source": [
    "## Problem: Selecting data in a single month\n",
    "\n",
    "Select return in March 2016."
   ]
  },
  {
   "cell_type": "code",
   "execution_count": null,
   "metadata": {
    "execution": {
     "iopub.execute_input": "2020-12-15T17:49:05.899215Z",
     "iopub.status.busy": "2020-12-15T17:49:05.898218Z",
     "iopub.status.idle": "2020-12-15T17:49:05.905215Z",
     "shell.execute_reply": "2020-12-15T17:49:05.905215Z"
    }
   },
   "outputs": [],
   "source": []
  },
  {
   "cell_type": "markdown",
   "metadata": {},
   "source": [
    "## Problem: Selecting data in a single year\n",
    "\n",
    "Select return in 2016.\n"
   ]
  },
  {
   "cell_type": "code",
   "execution_count": null,
   "metadata": {
    "execution": {
     "iopub.execute_input": "2020-12-15T17:49:05.914214Z",
     "iopub.status.busy": "2020-12-15T17:49:05.914214Z",
     "iopub.status.idle": "2020-12-15T17:49:05.922218Z",
     "shell.execute_reply": "2020-12-15T17:49:05.922218Z"
    }
   },
   "outputs": [],
   "source": []
  },
  {
   "cell_type": "markdown",
   "metadata": {},
   "source": [
    "## Problem: Selecting data in a date range\n",
    "\n",
    "Select returns between May 1, 2016, and June 15, 2016."
   ]
  },
  {
   "cell_type": "code",
   "execution_count": null,
   "metadata": {
    "execution": {
     "iopub.execute_input": "2020-12-15T17:49:05.934215Z",
     "iopub.status.busy": "2020-12-15T17:49:05.933216Z",
     "iopub.status.idle": "2020-12-15T17:49:05.937218Z",
     "shell.execute_reply": "2020-12-15T17:49:05.937218Z"
    }
   },
   "outputs": [],
   "source": []
  },
  {
   "cell_type": "markdown",
   "metadata": {
    "collapsed": false,
    "pycharm": {
     "name": "#%% md\n"
    }
   },
   "source": [
    "## Exercises\n",
    "\n",
    "### Exercise: Subset time-series\n",
    "\n",
    "Select the data for May 2017 for momentum portfolios 1 and 10."
   ]
  },
  {
   "cell_type": "code",
   "execution_count": null,
   "metadata": {
    "execution": {
     "iopub.execute_input": "2020-12-15T17:49:05.945215Z",
     "iopub.status.busy": "2020-12-15T17:49:05.944218Z",
     "iopub.status.idle": "2020-12-15T17:49:05.953215Z",
     "shell.execute_reply": "2020-12-15T17:49:05.954216Z"
    }
   },
   "outputs": [],
   "source": []
  },
  {
   "cell_type": "markdown",
   "metadata": {
    "collapsed": false,
    "pycharm": {
     "name": "#%% md\n"
    }
   },
   "source": [
    "### Exercise: Select using Months\n",
    "\n",
    "Using a slice of YYYY-MM, select the returns for momentum portfolio\n",
    "5 in the final 6 months of 2016 as `Series`"
   ]
  },
  {
   "cell_type": "code",
   "execution_count": null,
   "metadata": {
    "execution": {
     "iopub.execute_input": "2020-12-15T17:49:05.959214Z",
     "iopub.status.busy": "2020-12-15T17:49:05.959214Z",
     "iopub.status.idle": "2020-12-15T17:49:05.969217Z",
     "shell.execute_reply": "2020-12-15T17:49:05.969217Z"
    }
   },
   "outputs": [],
   "source": []
  },
  {
   "cell_type": "markdown",
   "metadata": {
    "collapsed": false
   },
   "source": [
    "### Exercise: Ensure DataFrame\n",
    "\n",
    "Repeat the previous problem but ensure the selection is a DataFrame."
   ]
  },
  {
   "cell_type": "code",
   "execution_count": null,
   "metadata": {
    "execution": {
     "iopub.execute_input": "2020-12-15T17:49:05.977214Z",
     "iopub.status.busy": "2020-12-15T17:49:05.977214Z",
     "iopub.status.idle": "2020-12-15T17:49:05.986216Z",
     "shell.execute_reply": "2020-12-15T17:49:05.985217Z"
    }
   },
   "outputs": [],
   "source": []
  }
 ],
 "metadata": {
  "file_extension": ".py",
  "kernelspec": {
   "display_name": "Python 3",
   "language": "python",
   "name": "python3"
  },
  "language_info": {
   "codemirror_mode": {
    "name": "ipython",
    "version": 3
   },
   "file_extension": ".py",
   "mimetype": "text/x-python",
   "name": "python",
   "nbconvert_exporter": "python",
   "pygments_lexer": "ipython3",
   "version": "3.8.5"
  },
  "mimetype": "text/x-python",
  "name": "python",
  "npconvert_exporter": "python",
  "pycharm": {
   "stem_cell": {
    "cell_type": "raw",
    "metadata": {
     "collapsed": false
    },
    "source": []
   }
  },
  "pygments_lexer": "ipython3",
  "version": 3
 },
 "nbformat": 4,
 "nbformat_minor": 2
}
