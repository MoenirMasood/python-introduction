{
 "cells": [
  {
   "cell_type": "markdown",
   "metadata": {},
   "source": [
    "# Common DataFrame methods\n",
    "\n",
    "This lesson introduces the common `DataFrame` methods that\n",
    "we will repeatedly use in the course. \n",
    "\n",
    "This first cell load data for use in this lesson."
   ]
  },
  {
   "cell_type": "code",
   "execution_count": null,
   "metadata": {
    "execution": {
     "iopub.execute_input": "2020-12-15T17:49:03.151854Z",
     "iopub.status.busy": "2020-12-15T17:49:03.151854Z",
     "iopub.status.idle": "2020-12-15T17:49:03.641852Z",
     "shell.execute_reply": "2020-12-15T17:49:03.642853Z"
    },
    "pycharm": {
     "is_executing": false,
     "name": "#%%\n"
    }
   },
   "outputs": [],
   "source": [
    "# Setup: Load prices\n",
    "import pandas as pd\n",
    "prices = pd.read_hdf(\"data/dataframes.h5\", \"prices\")\n",
    "sep_04 = pd.read_hdf(\"data/dataframes.h5\", \"sep_04\")\n",
    "goog = pd.read_hdf(\"data/dataframes.h5\", \"goog\")\n",
    "returns = prices.pct_change().dropna()\n",
    "spy_returns = returns.SPY\n",
    "aapl_returns = returns.AAPL\n",
    "goog_returns = returns.GOOG"
   ]
  },
  {
   "cell_type": "markdown",
   "metadata": {},
   "source": [
    "## Problem: Constructing portfolio returns\n",
    "\n",
    "Compute the return of a portfolio with weight $\\frac{1}{3}$ in each security using\n",
    "multiplication (`*`) and `.sum()`.\n",
    "\n",
    "**Note**: You need to use the `axis` keyword for the sum."
   ]
  },
  {
   "cell_type": "code",
   "execution_count": null,
   "metadata": {
    "execution": {
     "iopub.execute_input": "2020-12-15T17:49:03.651854Z",
     "iopub.status.busy": "2020-12-15T17:49:03.651854Z",
     "iopub.status.idle": "2020-12-15T17:49:03.657856Z",
     "shell.execute_reply": "2020-12-15T17:49:03.657856Z"
    }
   },
   "outputs": [],
   "source": []
  },
  {
   "cell_type": "markdown",
   "metadata": {},
   "source": [
    "## Problem: Compute the Mean and Standard Deviation\n",
    "\n",
    "Using the function mean, compute the mean of the three returns series one at a time. For example  \n",
    "```python\n",
    "goog_mean = goog_returns.mean()\n",
    "```\n",
    "Next, compute the mean of the matrix of returns using  \n",
    "\n",
    "```python\n",
    "retmean = returns.mean()\n",
    "```\n",
    "\n",
    "What is the relationship between these two? Repeat this exercise for the standard deviation (`std()`).\n"
   ]
  },
  {
   "cell_type": "code",
   "execution_count": null,
   "metadata": {
    "execution": {
     "iopub.execute_input": "2020-12-15T17:49:03.660857Z",
     "iopub.status.busy": "2020-12-15T17:49:03.660857Z",
     "iopub.status.idle": "2020-12-15T17:49:03.672852Z",
     "shell.execute_reply": "2020-12-15T17:49:03.673852Z"
    }
   },
   "outputs": [],
   "source": []
  },
  {
   "cell_type": "code",
   "execution_count": null,
   "metadata": {
    "execution": {
     "iopub.execute_input": "2020-12-15T17:49:03.676854Z",
     "iopub.status.busy": "2020-12-15T17:49:03.676854Z",
     "iopub.status.idle": "2020-12-15T17:49:03.687853Z",
     "shell.execute_reply": "2020-12-15T17:49:03.687853Z"
    }
   },
   "outputs": [],
   "source": []
  },
  {
   "cell_type": "code",
   "execution_count": null,
   "metadata": {
    "execution": {
     "iopub.execute_input": "2020-12-15T17:49:03.691853Z",
     "iopub.status.busy": "2020-12-15T17:49:03.691853Z",
     "iopub.status.idle": "2020-12-15T17:49:03.702854Z",
     "shell.execute_reply": "2020-12-15T17:49:03.702854Z"
    }
   },
   "outputs": [],
   "source": []
  },
  {
   "cell_type": "markdown",
   "metadata": {
    "pycharm": {
     "name": "#%% md\n"
    }
   },
   "source": [
    "## Problem: Compute Correlation\n",
    "Compute the correlation of the matrix of returns (`corr()`). "
   ]
  },
  {
   "cell_type": "code",
   "execution_count": null,
   "metadata": {
    "execution": {
     "iopub.execute_input": "2020-12-15T17:49:03.706854Z",
     "iopub.status.busy": "2020-12-15T17:49:03.705854Z",
     "iopub.status.idle": "2020-12-15T17:49:03.717854Z",
     "shell.execute_reply": "2020-12-15T17:49:03.718853Z"
    }
   },
   "outputs": [],
   "source": []
  },
  {
   "cell_type": "markdown",
   "metadata": {},
   "source": [
    "## Problem: Summing all elements\n",
    "\n",
    "Compute the sum of the columns of returns using `.sum()`. How is this related to the mean computed \n",
    "in the previous step? "
   ]
  },
  {
   "cell_type": "code",
   "execution_count": null,
   "metadata": {
    "execution": {
     "iopub.execute_input": "2020-12-15T17:49:03.721855Z",
     "iopub.status.busy": "2020-12-15T17:49:03.721855Z",
     "iopub.status.idle": "2020-12-15T17:49:03.733855Z",
     "shell.execute_reply": "2020-12-15T17:49:03.733855Z"
    }
   },
   "outputs": [],
   "source": []
  },
  {
   "cell_type": "code",
   "execution_count": null,
   "metadata": {
    "execution": {
     "iopub.execute_input": "2020-12-15T17:49:03.737854Z",
     "iopub.status.busy": "2020-12-15T17:49:03.737854Z",
     "iopub.status.idle": "2020-12-15T17:49:03.749855Z",
     "shell.execute_reply": "2020-12-15T17:49:03.749855Z"
    }
   },
   "outputs": [],
   "source": []
  },
  {
   "cell_type": "markdown",
   "metadata": {},
   "source": [
    "## Problem: Maximum and Minimum Values\n",
    "Compute the minimum and maximum values of the columns of returns using the `min()` and `max()` commands. "
   ]
  },
  {
   "cell_type": "code",
   "execution_count": null,
   "metadata": {
    "execution": {
     "iopub.execute_input": "2020-12-15T17:49:03.753854Z",
     "iopub.status.busy": "2020-12-15T17:49:03.753854Z",
     "iopub.status.idle": "2020-12-15T17:49:03.765852Z",
     "shell.execute_reply": "2020-12-15T17:49:03.765852Z"
    }
   },
   "outputs": [],
   "source": []
  },
  {
   "cell_type": "code",
   "execution_count": null,
   "metadata": {
    "execution": {
     "iopub.execute_input": "2020-12-15T17:49:03.769856Z",
     "iopub.status.busy": "2020-12-15T17:49:03.768856Z",
     "iopub.status.idle": "2020-12-15T17:49:03.781853Z",
     "shell.execute_reply": "2020-12-15T17:49:03.782854Z"
    }
   },
   "outputs": [],
   "source": []
  },
  {
   "cell_type": "markdown",
   "metadata": {},
   "source": [
    "## Problem: Rounding Up, Down and to the Closest Integer\n",
    "\n",
    "Rounding up is handled by ceil, rounding down is handled by floor and rounding to the closest \n",
    "integer is handled by round. Try all of these commands on 100 times returns. For example,  \n",
    "```python\n",
    "rounded = (100*returns).round()\n",
    "``` \n",
    "\n",
    "Use `ceil` and `floor` to round up and down, respectively."
   ]
  },
  {
   "cell_type": "code",
   "execution_count": null,
   "metadata": {
    "execution": {
     "iopub.execute_input": "2020-12-15T17:49:03.790854Z",
     "iopub.status.busy": "2020-12-15T17:49:03.789852Z",
     "iopub.status.idle": "2020-12-15T17:49:03.797855Z",
     "shell.execute_reply": "2020-12-15T17:49:03.798856Z"
    }
   },
   "outputs": [],
   "source": []
  },
  {
   "cell_type": "code",
   "execution_count": null,
   "metadata": {
    "execution": {
     "iopub.execute_input": "2020-12-15T17:49:03.805852Z",
     "iopub.status.busy": "2020-12-15T17:49:03.804855Z",
     "iopub.status.idle": "2020-12-15T17:49:03.813854Z",
     "shell.execute_reply": "2020-12-15T17:49:03.813854Z"
    }
   },
   "outputs": [],
   "source": []
  },
  {
   "cell_type": "code",
   "execution_count": null,
   "metadata": {
    "execution": {
     "iopub.execute_input": "2020-12-15T17:49:03.820854Z",
     "iopub.status.busy": "2020-12-15T17:49:03.820854Z",
     "iopub.status.idle": "2020-12-15T17:49:03.829855Z",
     "shell.execute_reply": "2020-12-15T17:49:03.829855Z"
    }
   },
   "outputs": [],
   "source": []
  },
  {
   "cell_type": "markdown",
   "metadata": {
    "pycharm": {
     "name": "#%% md\n"
    }
   },
   "source": [
    "## Exercises\n",
    "\n",
    "### Exercise: Compute Quantiles\n",
    "\n",
    "Compute the 5%, 25%, 50%, 75% and 95% quantiles of momentum using the `quantile`\n",
    "method.\n"
   ]
  },
  {
   "cell_type": "code",
   "execution_count": null,
   "metadata": {
    "execution": {
     "iopub.execute_input": "2020-12-15T17:49:03.832853Z",
     "iopub.status.busy": "2020-12-15T17:49:03.831852Z",
     "iopub.status.idle": "2020-12-15T17:49:03.844853Z",
     "shell.execute_reply": "2020-12-15T17:49:03.844853Z"
    },
    "pycharm": {
     "name": "#%%\n"
    }
   },
   "outputs": [],
   "source": [
    "# Setup: Load data\n",
    "import pandas as pd\n",
    "momentum = pd.read_csv(\"data/momentum.csv\", index_col=\"date\", parse_dates=True)\n",
    "mom_10 = momentum.mom_10"
   ]
  },
  {
   "cell_type": "code",
   "execution_count": null,
   "metadata": {
    "execution": {
     "iopub.execute_input": "2020-12-15T17:49:03.847852Z",
     "iopub.status.busy": "2020-12-15T17:49:03.847852Z",
     "iopub.status.idle": "2020-12-15T17:49:03.860852Z",
     "shell.execute_reply": "2020-12-15T17:49:03.860852Z"
    }
   },
   "outputs": [],
   "source": []
  },
  {
   "cell_type": "markdown",
   "metadata": {
    "pycharm": {
     "name": "#%% md\n"
    }
   },
   "source": [
    "### Exercise: Sorting\n",
    "\n",
    "Use `sort_values` to sort momentum by the column `mom_10`. Verify that the\n",
    "sort was successful by looking at the minimum of a diff."
   ]
  },
  {
   "cell_type": "code",
   "execution_count": null,
   "metadata": {
    "execution": {
     "iopub.execute_input": "2020-12-15T17:49:03.862852Z",
     "iopub.status.busy": "2020-12-15T17:49:03.862852Z",
     "iopub.status.idle": "2020-12-15T17:49:03.876856Z",
     "shell.execute_reply": "2020-12-15T17:49:03.876856Z"
    }
   },
   "outputs": [],
   "source": []
  },
  {
   "cell_type": "code",
   "execution_count": null,
   "metadata": {
    "execution": {
     "iopub.execute_input": "2020-12-15T17:49:03.879856Z",
     "iopub.status.busy": "2020-12-15T17:49:03.878856Z",
     "iopub.status.idle": "2020-12-15T17:49:03.892856Z",
     "shell.execute_reply": "2020-12-15T17:49:03.892856Z"
    }
   },
   "outputs": [],
   "source": []
  },
  {
   "cell_type": "markdown",
   "metadata": {},
   "source": [
    "### Exercise: Sort Descending\n",
    "\n",
    "Use `sort_values` to sort momentum by by the column `mom_10` using a descending\n",
    "sort (see the help for `sort_values`). Verify the sort worked by looking at the maximum of\n",
    "a diff."
   ]
  },
  {
   "cell_type": "code",
   "execution_count": null,
   "metadata": {
    "execution": {
     "iopub.execute_input": "2020-12-15T17:49:03.899853Z",
     "iopub.status.busy": "2020-12-15T17:49:03.899853Z",
     "iopub.status.idle": "2020-12-15T17:49:03.956854Z",
     "shell.execute_reply": "2020-12-15T17:49:03.956854Z"
    }
   },
   "outputs": [],
   "source": []
  },
  {
   "cell_type": "code",
   "execution_count": null,
   "metadata": {
    "execution": {
     "iopub.execute_input": "2020-12-15T17:49:03.959856Z",
     "iopub.status.busy": "2020-12-15T17:49:03.959856Z",
     "iopub.status.idle": "2020-12-15T17:49:03.971856Z",
     "shell.execute_reply": "2020-12-15T17:49:03.972853Z"
    }
   },
   "outputs": [],
   "source": []
  },
  {
   "cell_type": "code",
   "execution_count": null,
   "metadata": {
    "execution": {
     "iopub.execute_input": "2020-12-15T17:49:03.974854Z",
     "iopub.status.busy": "2020-12-15T17:49:03.974854Z",
     "iopub.status.idle": "2020-12-15T17:49:03.987852Z",
     "shell.execute_reply": "2020-12-15T17:49:03.988852Z"
    }
   },
   "outputs": [],
   "source": []
  },
  {
   "cell_type": "code",
   "execution_count": null,
   "metadata": {
    "execution": {
     "iopub.execute_input": "2020-12-15T17:49:03.990854Z",
     "iopub.status.busy": "2020-12-15T17:49:03.990854Z",
     "iopub.status.idle": "2020-12-15T17:49:04.003853Z",
     "shell.execute_reply": "2020-12-15T17:49:04.004853Z"
    }
   },
   "outputs": [],
   "source": []
  },
  {
   "cell_type": "markdown",
   "metadata": {
    "pycharm": {
     "name": "#%% md\n"
    }
   },
   "source": [
    "### Exercise: Get Number of Elements\n",
    "\n",
    "Use the `shape` property to get the number of observations in momentum. Use it\n",
    "again to get the number of columns."
   ]
  },
  {
   "cell_type": "code",
   "execution_count": null,
   "metadata": {
    "execution": {
     "iopub.execute_input": "2020-12-15T17:49:04.006852Z",
     "iopub.status.busy": "2020-12-15T17:49:04.006852Z",
     "iopub.status.idle": "2020-12-15T17:49:04.019856Z",
     "shell.execute_reply": "2020-12-15T17:49:04.020856Z"
    }
   },
   "outputs": [],
   "source": []
  },
  {
   "cell_type": "code",
   "execution_count": null,
   "metadata": {
    "execution": {
     "iopub.execute_input": "2020-12-15T17:49:04.022857Z",
     "iopub.status.busy": "2020-12-15T17:49:04.022857Z",
     "iopub.status.idle": "2020-12-15T17:49:04.035854Z",
     "shell.execute_reply": "2020-12-15T17:49:04.036856Z"
    }
   },
   "outputs": [],
   "source": []
  },
  {
   "cell_type": "markdown",
   "metadata": {},
   "source": [
    "### Exercise: Use `shift` to Compute Returns\n",
    "\n",
    "Compute the percentage change using only `shift`, division (`/`) and\n",
    "subtraction (`-`) on the `Series` `mom_10`. Verify that your result matches what `pct_change` produces."
   ]
  },
  {
   "cell_type": "code",
   "execution_count": null,
   "metadata": {
    "execution": {
     "iopub.execute_input": "2020-12-15T17:49:04.041853Z",
     "iopub.status.busy": "2020-12-15T17:49:04.041853Z",
     "iopub.status.idle": "2020-12-15T17:49:04.051853Z",
     "shell.execute_reply": "2020-12-15T17:49:04.051853Z"
    }
   },
   "outputs": [],
   "source": []
  }
 ],
 "metadata": {
  "kernelspec": {
   "display_name": "Python 3",
   "language": "python",
   "name": "python3"
  },
  "language_info": {
   "codemirror_mode": {
    "name": "ipython",
    "version": 3
   },
   "file_extension": ".py",
   "mimetype": "text/x-python",
   "name": "python",
   "nbconvert_exporter": "python",
   "pygments_lexer": "ipython3",
   "version": "3.8.5"
  },
  "pycharm": {
   "stem_cell": {
    "cell_type": "raw",
    "metadata": {
     "collapsed": false
    },
    "source": []
   }
  }
 },
 "nbformat": 4,
 "nbformat_minor": 1
}
