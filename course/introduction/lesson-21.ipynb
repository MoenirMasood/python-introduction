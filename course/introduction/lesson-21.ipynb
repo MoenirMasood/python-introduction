{
 "cells": [
  {
   "cell_type": "markdown",
   "metadata": {
    "collapsed": false
   },
   "source": [
    "# Graphics: Line Plots\n",
    "\n",
    "This lesson covers:\n",
    "\n",
    "* Basic plotting \n",
    "* Subplots \n",
    "* Histograms \n",
    "* Scatter Plots"
   ]
  },
  {
   "cell_type": "markdown",
   "metadata": {
    "collapsed": false
   },
   "source": [
    "Plotting in notebooks requires using a magic command, which starts with\n",
    "`%`, to initialize the plotting backend."
   ]
  },
  {
   "cell_type": "code",
   "execution_count": null,
   "metadata": {
    "execution": {
     "iopub.status.idle": "2020-12-07T13:04:17.924794Z",
     "shell.execute_reply": "2020-12-07T13:04:17.924794Z"
    },
    "pycharm": {
     "is_executing": false,
     "name": "#%%\n"
    }
   },
   "outputs": [],
   "source": [
    "# Setup\n",
    "%matplotlib inline"
   ]
  },
  {
   "cell_type": "markdown",
   "metadata": {
    "collapsed": false
   },
   "source": [
    "Begin by loading the data in hf.h5. This data set contains high-frequency\n",
    "price data for IBM and MSFT on a single day stored as two Series. IBM is\n",
    "stored as \"IBM\" in the HDF file, and MSFT is stored as \"MSFT."
   ]
  },
  {
   "cell_type": "code",
   "execution_count": null,
   "metadata": {
    "execution": {
     "iopub.execute_input": "2020-12-07T13:04:17.927794Z",
     "iopub.status.busy": "2020-12-07T13:04:17.927794Z",
     "iopub.status.idle": "2020-12-07T13:04:18.302792Z",
     "shell.execute_reply": "2020-12-07T13:04:18.302792Z"
    }
   },
   "outputs": [],
   "source": []
  },
  {
   "cell_type": "markdown",
   "metadata": {
    "collapsed": false
   },
   "source": [
    "## Problem: Basic Plotting\n",
    "\n",
    "1. Plot the `ibm` series which contains the price of IBM. \n",
    "2. Add a title and label the axes. \n",
    "3. Add markers and remove the line. "
   ]
  },
  {
   "cell_type": "code",
   "execution_count": null,
   "metadata": {
    "execution": {
     "iopub.execute_input": "2020-12-07T13:04:18.305792Z",
     "iopub.status.busy": "2020-12-07T13:04:18.304792Z",
     "iopub.status.idle": "2020-12-07T13:04:18.460792Z",
     "shell.execute_reply": "2020-12-07T13:04:18.460792Z"
    }
   },
   "outputs": [],
   "source": []
  },
  {
   "cell_type": "code",
   "execution_count": null,
   "metadata": {
    "execution": {
     "iopub.execute_input": "2020-12-07T13:04:18.477792Z",
     "iopub.status.busy": "2020-12-07T13:04:18.464793Z",
     "iopub.status.idle": "2020-12-07T13:04:18.617795Z",
     "shell.execute_reply": "2020-12-07T13:04:18.617795Z"
    }
   },
   "outputs": [],
   "source": []
  },
  {
   "cell_type": "code",
   "execution_count": null,
   "metadata": {
    "execution": {
     "iopub.execute_input": "2020-12-07T13:04:18.633313Z",
     "iopub.status.busy": "2020-12-07T13:04:18.630314Z",
     "iopub.status.idle": "2020-12-07T13:04:18.758311Z",
     "shell.execute_reply": "2020-12-07T13:04:18.757313Z"
    }
   },
   "outputs": [],
   "source": []
  },
  {
   "cell_type": "markdown",
   "metadata": {
    "collapsed": false
   },
   "source": [
    "## Problem: Subplot\n",
    "\n",
    "Create a 2 by 1 subplot with the price of IBM in the top subplot and the\n",
    "price of MSFT in the bottom subplot. "
   ]
  },
  {
   "cell_type": "code",
   "execution_count": null,
   "metadata": {
    "execution": {
     "iopub.execute_input": "2020-12-07T13:04:18.761311Z",
     "iopub.status.busy": "2020-12-07T13:04:18.761311Z",
     "iopub.status.idle": "2020-12-07T13:04:19.642826Z",
     "shell.execute_reply": "2020-12-07T13:04:19.643826Z"
    }
   },
   "outputs": [],
   "source": []
  },
  {
   "cell_type": "markdown",
   "metadata": {
    "collapsed": false
   },
   "source": [
    "## Problem: Plot with Dates\n",
    "\n",
    "Use `matplotlib` to directly plot `ibm` against its `index`. This is a\n",
    "repeat of a previous plot but shows how to use the `plot` command directly. "
   ]
  },
  {
   "cell_type": "code",
   "execution_count": null,
   "metadata": {
    "execution": {
     "iopub.execute_input": "2020-12-07T13:04:19.657825Z",
     "iopub.status.busy": "2020-12-07T13:04:19.655826Z",
     "iopub.status.idle": "2020-12-07T13:04:19.879345Z",
     "shell.execute_reply": "2020-12-07T13:04:19.879345Z"
    }
   },
   "outputs": [],
   "source": []
  },
  {
   "cell_type": "markdown",
   "metadata": {
    "collapsed": false,
    "pycharm": {
     "name": "#%% md\n"
    }
   },
   "source": [
    "## Exercises\n",
    "\n",
    "### Exercise: Change seaborn\n",
    "\n",
    "Produce a line plot of MSFT's price using seaborn's \"whitegrid\" style."
   ]
  },
  {
   "cell_type": "code",
   "execution_count": null,
   "metadata": {
    "execution": {
     "iopub.execute_input": "2020-12-07T13:04:19.883345Z",
     "iopub.status.busy": "2020-12-07T13:04:19.882345Z",
     "iopub.status.idle": "2020-12-07T13:04:20.098394Z",
     "shell.execute_reply": "2020-12-07T13:04:20.099397Z"
    }
   },
   "outputs": [],
   "source": []
  },
  {
   "cell_type": "markdown",
   "metadata": {
    "collapsed": false,
    "pycharm": {
     "name": "#%% md\n"
    }
   },
   "source": [
    "### Exercise: HLOC plot\n",
    "\n",
    "Use the HLOC data to produce a plot of MSFT's 5 minute HLOC\n",
    "where the there are no lines, high is demarcated using a green triangle,\n",
    "low is demarcated using a red downward pointing triangle, open is demarcated \n",
    "using a light grey leftward facing triangle and close is demarcated using\n",
    "a right facing triangle.\n",
    "\n",
    "**Note** Get the axes from the first, plot, and reuse this when plotting \n",
    "the other series."
   ]
  },
  {
   "cell_type": "code",
   "execution_count": null,
   "metadata": {
    "execution": {
     "iopub.execute_input": "2020-12-07T13:04:20.102395Z",
     "iopub.status.busy": "2020-12-07T13:04:20.102395Z",
     "iopub.status.idle": "2020-12-07T13:04:20.129394Z",
     "shell.execute_reply": "2020-12-07T13:04:20.129394Z"
    },
    "pycharm": {
     "is_executing": false,
     "name": "#%%\n"
    }
   },
   "outputs": [],
   "source": [
    "# Setup: Load data and create values\n",
    "import pandas as pd\n",
    "\n",
    "msft = pd.read_hdf(\"data/hf.h5\", \"MSFT\")\n",
    "msft_5min = msft.resample(\"300S\")\n",
    "high = msft_5min.max()\n",
    "low = msft_5min.min()\n",
    "open = msft_5min.first()\n",
    "close = msft_5min.last()"
   ]
  },
  {
   "cell_type": "code",
   "execution_count": null,
   "metadata": {
    "execution": {
     "iopub.execute_input": "2020-12-07T13:04:20.147394Z",
     "iopub.status.busy": "2020-12-07T13:04:20.143394Z",
     "iopub.status.idle": "2020-12-07T13:04:20.367394Z",
     "shell.execute_reply": "2020-12-07T13:04:20.367394Z"
    }
   },
   "outputs": [],
   "source": []
  }
 ],
 "metadata": {
  "kernelspec": {
   "display_name": "Python 3",
   "language": "python",
   "name": "python3"
  },
  "language_info": {
   "codemirror_mode": {
    "name": "ipython",
    "version": 3
   },
   "file_extension": ".py",
   "mimetype": "text/x-python",
   "name": "python",
   "nbconvert_exporter": "python",
   "pygments_lexer": "ipython3",
   "version": "3.8.5"
  },
  "pycharm": {
   "stem_cell": {
    "cell_type": "raw",
    "metadata": {
     "collapsed": false
    },
    "source": []
   }
  }
 },
 "nbformat": 4,
 "nbformat_minor": 0
}
