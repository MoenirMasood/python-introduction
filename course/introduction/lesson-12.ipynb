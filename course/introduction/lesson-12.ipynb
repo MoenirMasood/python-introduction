{
 "cells": [
  {
   "cell_type": "markdown",
   "metadata": {
    "collapsed": true,
    "pycharm": {
     "name": "#%% md\n"
    }
   },
   "source": [
    "# Numeric Indexing of DataFrames\n",
    "\n",
    "This lesson covers:\n",
    "\n",
    "* Accessing specific elements in DataFrames using numeric indices\n",
    "\n",
    "Accessing elements in a DataFrame is a common task. To begin this lesson,\n",
    "clear the workspace set up some vectors and a $5\\times5$ array. These vectors\n",
    "and matrix will make it easy to determine which elements are selected by a\n",
    "command.\n",
    "\n",
    "Begin by creating:\n",
    "\n",
    "* A 5-by-5 DataFrame `x_df` containing `np.arange(25).reshape((5,5))`.\n",
    "* A 5-element Series `y_s` containing `np.arange(5)`.\n",
    "* A 5-by-5 DataFrame `x_named` that is `x_df` with columns \"c0\", \"c1\", ...,\n",
    "  \"c4\" and rows \"r0\", \"r1\", ..., \"r4\".\n",
    "* A 5-element Series `y_named` with index \"r0\", \"r1\", ..., \"r4\". "
   ]
  },
  {
   "cell_type": "code",
   "execution_count": null,
   "metadata": {
    "execution": {
     "iopub.execute_input": "2020-12-15T17:49:09.081597Z",
     "iopub.status.busy": "2020-12-15T17:49:09.081597Z",
     "iopub.status.idle": "2020-12-15T17:49:09.358609Z",
     "shell.execute_reply": "2020-12-15T17:49:09.358609Z"
    }
   },
   "outputs": [],
   "source": []
  },
  {
   "cell_type": "markdown",
   "metadata": {
    "pycharm": {
     "name": "#%% md\n"
    }
   },
   "source": [
    "## Problem: Picking an Element out of a DataFrame\n",
    "\n",
    "Using double index notation, select the (0,2) and the (2,0) element of\n",
    "`x_named`."
   ]
  },
  {
   "cell_type": "code",
   "execution_count": null,
   "metadata": {
    "execution": {
     "iopub.execute_input": "2020-12-15T17:49:09.365611Z",
     "iopub.status.busy": "2020-12-15T17:49:09.364610Z",
     "iopub.status.idle": "2020-12-15T17:49:09.373610Z",
     "shell.execute_reply": "2020-12-15T17:49:09.373610Z"
    }
   },
   "outputs": [],
   "source": []
  },
  {
   "cell_type": "code",
   "execution_count": null,
   "metadata": {
    "execution": {
     "iopub.execute_input": "2020-12-15T17:49:09.376613Z",
     "iopub.status.busy": "2020-12-15T17:49:09.375608Z",
     "iopub.status.idle": "2020-12-15T17:49:09.389609Z",
     "shell.execute_reply": "2020-12-15T17:49:09.389609Z"
    }
   },
   "outputs": [],
   "source": []
  },
  {
   "cell_type": "markdown",
   "metadata": {
    "pycharm": {
     "name": "#%% md\n"
    }
   },
   "source": [
    "## Problem: Select Elements from Series\n",
    "\n",
    "Select the 2nd element of `y_named`."
   ]
  },
  {
   "cell_type": "code",
   "execution_count": null,
   "metadata": {
    "execution": {
     "iopub.execute_input": "2020-12-15T17:49:09.392612Z",
     "iopub.status.busy": "2020-12-15T17:49:09.392612Z",
     "iopub.status.idle": "2020-12-15T17:49:09.405608Z",
     "shell.execute_reply": "2020-12-15T17:49:09.405608Z"
    }
   },
   "outputs": [],
   "source": []
  },
  {
   "cell_type": "markdown",
   "metadata": {},
   "source": [
    "## Problem: Selecting Rows as Series\n",
    "\n",
    "Select the 2nd row of `x_named` using the colon (:) operator.\n"
   ]
  },
  {
   "cell_type": "code",
   "execution_count": null,
   "metadata": {
    "execution": {
     "iopub.execute_input": "2020-12-15T17:49:09.408611Z",
     "iopub.status.busy": "2020-12-15T17:49:09.408611Z",
     "iopub.status.idle": "2020-12-15T17:49:09.421609Z",
     "shell.execute_reply": "2020-12-15T17:49:09.421609Z"
    }
   },
   "outputs": [],
   "source": []
  },
  {
   "cell_type": "markdown",
   "metadata": {
    "pycharm": {
     "name": "#%% md\n"
    }
   },
   "source": [
    "## Problem: Selecting Rows as DataFrames\n",
    "\n",
    "1. Select the 2nd row of `x_named` using a slice so that the selection\n",
    "   remains a DataFrame.\n",
    "2. Repeat using a list of indices to retain the DataFrame. \n"
   ]
  },
  {
   "cell_type": "code",
   "execution_count": null,
   "metadata": {
    "execution": {
     "iopub.execute_input": "2020-12-15T17:49:09.425611Z",
     "iopub.status.busy": "2020-12-15T17:49:09.425611Z",
     "iopub.status.idle": "2020-12-15T17:49:09.437609Z",
     "shell.execute_reply": "2020-12-15T17:49:09.437609Z"
    }
   },
   "outputs": [],
   "source": []
  },
  {
   "cell_type": "code",
   "execution_count": null,
   "metadata": {
    "execution": {
     "iopub.execute_input": "2020-12-15T17:49:09.442612Z",
     "iopub.status.busy": "2020-12-15T17:49:09.442612Z",
     "iopub.status.idle": "2020-12-15T17:49:09.452612Z",
     "shell.execute_reply": "2020-12-15T17:49:09.452612Z"
    }
   },
   "outputs": [],
   "source": []
  },
  {
   "cell_type": "markdown",
   "metadata": {},
   "source": [
    "## Problem: Selecting Entire Columns as Series\n",
    "Select the 2nd column of `x_named` using the colon (:) operator. "
   ]
  },
  {
   "cell_type": "code",
   "execution_count": null,
   "metadata": {
    "execution": {
     "iopub.execute_input": "2020-12-15T17:49:09.455609Z",
     "iopub.status.busy": "2020-12-15T17:49:09.455609Z",
     "iopub.status.idle": "2020-12-15T17:49:09.468610Z",
     "shell.execute_reply": "2020-12-15T17:49:09.468610Z"
    }
   },
   "outputs": [],
   "source": []
  },
  {
   "cell_type": "markdown",
   "metadata": {
    "pycharm": {
     "name": "#%% md\n"
    }
   },
   "source": [
    "## Problem: Selecting Single Columns as DataFrames\n",
    "Select the 2nd column of `x_named`  so that the selection remains a DataFrame. \n"
   ]
  },
  {
   "cell_type": "code",
   "execution_count": null,
   "metadata": {
    "execution": {
     "iopub.execute_input": "2020-12-15T17:49:09.472609Z",
     "iopub.status.busy": "2020-12-15T17:49:09.472609Z",
     "iopub.status.idle": "2020-12-15T17:49:09.484610Z",
     "shell.execute_reply": "2020-12-15T17:49:09.484610Z"
    }
   },
   "outputs": [],
   "source": []
  },
  {
   "cell_type": "code",
   "execution_count": null,
   "metadata": {
    "execution": {
     "iopub.execute_input": "2020-12-15T17:49:09.489611Z",
     "iopub.status.busy": "2020-12-15T17:49:09.489611Z",
     "iopub.status.idle": "2020-12-15T17:49:09.500608Z",
     "shell.execute_reply": "2020-12-15T17:49:09.500608Z"
    }
   },
   "outputs": [],
   "source": []
  },
  {
   "cell_type": "markdown",
   "metadata": {},
   "source": [
    "## Problem: Selecting Specific Columns\n",
    "Select the 2nd and 3rd columns of `x_named` using a slice."
   ]
  },
  {
   "cell_type": "code",
   "execution_count": null,
   "metadata": {
    "execution": {
     "iopub.execute_input": "2020-12-15T17:49:09.505610Z",
     "iopub.status.busy": "2020-12-15T17:49:09.505610Z",
     "iopub.status.idle": "2020-12-15T17:49:09.516610Z",
     "shell.execute_reply": "2020-12-15T17:49:09.516610Z"
    }
   },
   "outputs": [],
   "source": []
  },
  {
   "cell_type": "markdown",
   "metadata": {
    "pycharm": {
     "name": "#%% md\n"
    }
   },
   "source": [
    "## Problem: Select Specific Rows\n",
    "\n",
    "Select the 2nd and 4th rows of `x_named` using a slice.  Repeat the \n",
    "selection using a list of integers."
   ]
  },
  {
   "cell_type": "code",
   "execution_count": null,
   "metadata": {
    "execution": {
     "iopub.execute_input": "2020-12-15T17:49:09.521611Z",
     "iopub.status.busy": "2020-12-15T17:49:09.521611Z",
     "iopub.status.idle": "2020-12-15T17:49:09.532612Z",
     "shell.execute_reply": "2020-12-15T17:49:09.533608Z"
    }
   },
   "outputs": [],
   "source": []
  },
  {
   "cell_type": "code",
   "execution_count": null,
   "metadata": {
    "execution": {
     "iopub.execute_input": "2020-12-15T17:49:09.538611Z",
     "iopub.status.busy": "2020-12-15T17:49:09.538611Z",
     "iopub.status.idle": "2020-12-15T17:49:09.547609Z",
     "shell.execute_reply": "2020-12-15T17:49:09.547609Z"
    }
   },
   "outputs": [],
   "source": []
  },
  {
   "cell_type": "markdown",
   "metadata": {},
   "source": [
    "## Problem: Select arbitrary rows and columns\n",
    "\n",
    "Combine the previous selections to the 2nd and 3rd columns and the 2nd and 4th rows\n",
    "of `x_named`. \n",
    "\n",
    "**Note**: This is the only important difference with NumPy.  Arbitrary\n",
    "row/column selection using `DataFrame.iloc` is simpler but less flexible."
   ]
  },
  {
   "cell_type": "code",
   "execution_count": null,
   "metadata": {
    "execution": {
     "iopub.execute_input": "2020-12-15T17:49:09.552611Z",
     "iopub.status.busy": "2020-12-15T17:49:09.551613Z",
     "iopub.status.idle": "2020-12-15T17:49:09.562608Z",
     "shell.execute_reply": "2020-12-15T17:49:09.562608Z"
    }
   },
   "outputs": [],
   "source": []
  },
  {
   "cell_type": "code",
   "execution_count": null,
   "metadata": {
    "execution": {
     "iopub.execute_input": "2020-12-15T17:49:09.567611Z",
     "iopub.status.busy": "2020-12-15T17:49:09.567611Z",
     "iopub.status.idle": "2020-12-15T17:49:09.578610Z",
     "shell.execute_reply": "2020-12-15T17:49:09.578610Z"
    }
   },
   "outputs": [],
   "source": []
  },
  {
   "cell_type": "code",
   "execution_count": null,
   "metadata": {
    "execution": {
     "iopub.execute_input": "2020-12-15T17:49:09.583612Z",
     "iopub.status.busy": "2020-12-15T17:49:09.583612Z",
     "iopub.status.idle": "2020-12-15T17:49:09.594608Z",
     "shell.execute_reply": "2020-12-15T17:49:09.594608Z"
    }
   },
   "outputs": [],
   "source": []
  },
  {
   "cell_type": "markdown",
   "metadata": {
    "pycharm": {
     "name": "#%% md\n"
    }
   },
   "source": [
    "## Problem: Mixed selection\n",
    "\n",
    "Select the columns c1 and c2 and the 1st, 3rd and 5th row."
   ]
  },
  {
   "cell_type": "code",
   "execution_count": null,
   "metadata": {
    "execution": {
     "iopub.execute_input": "2020-12-15T17:49:09.600610Z",
     "iopub.status.busy": "2020-12-15T17:49:09.599612Z",
     "iopub.status.idle": "2020-12-15T17:49:09.610610Z",
     "shell.execute_reply": "2020-12-15T17:49:09.610610Z"
    }
   },
   "outputs": [],
   "source": []
  },
  {
   "cell_type": "markdown",
   "metadata": {},
   "source": [
    "## Problem: Mixed selection 2\n",
    "\n",
    "Select the rows r1 and r2 and the 1st, 3rd and final column."
   ]
  },
  {
   "cell_type": "code",
   "execution_count": null,
   "metadata": {
    "execution": {
     "iopub.execute_input": "2020-12-15T17:49:09.615613Z",
     "iopub.status.busy": "2020-12-15T17:49:09.615613Z",
     "iopub.status.idle": "2020-12-15T17:49:09.626611Z",
     "shell.execute_reply": "2020-12-15T17:49:09.626611Z"
    }
   },
   "outputs": [],
   "source": []
  },
  {
   "cell_type": "markdown",
   "metadata": {
    "collapsed": false,
    "pycharm": {
     "name": "#%% md\n"
    }
   },
   "source": [
    "## Exercises\n",
    "\n",
    "### Exercise: Select fixed length block\n",
    "\n",
    "Compute the mean return of the momentum data in the first 66\n",
    "observations and the last 66 observations."
   ]
  },
  {
   "cell_type": "code",
   "execution_count": null,
   "metadata": {
    "execution": {
     "iopub.execute_input": "2020-12-15T17:49:09.629613Z",
     "iopub.status.busy": "2020-12-15T17:49:09.629613Z",
     "iopub.status.idle": "2020-12-15T17:49:09.642608Z",
     "shell.execute_reply": "2020-12-15T17:49:09.642608Z"
    },
    "pycharm": {
     "is_executing": false,
     "name": "#%%\n"
    }
   },
   "outputs": [],
   "source": [
    "# Setup: Load the momentum data\n",
    "\n",
    "import pandas as pd\n",
    "\n",
    "momentum = pd.read_csv(\"data/momentum.csv\", index_col=\"date\", parse_dates=True)\n",
    "momentum.head()\n"
   ]
  },
  {
   "cell_type": "code",
   "execution_count": null,
   "metadata": {
    "execution": {
     "iopub.execute_input": "2020-12-15T17:49:09.646613Z",
     "iopub.status.busy": "2020-12-15T17:49:09.646613Z",
     "iopub.status.idle": "2020-12-15T17:49:09.658610Z",
     "shell.execute_reply": "2020-12-15T17:49:09.659611Z"
    }
   },
   "outputs": [],
   "source": []
  },
  {
   "cell_type": "code",
   "execution_count": null,
   "metadata": {
    "execution": {
     "iopub.execute_input": "2020-12-15T17:49:09.662609Z",
     "iopub.status.busy": "2020-12-15T17:49:09.662609Z",
     "iopub.status.idle": "2020-12-15T17:49:09.673611Z",
     "shell.execute_reply": "2020-12-15T17:49:09.673611Z"
    }
   },
   "outputs": [],
   "source": []
  },
  {
   "cell_type": "code",
   "execution_count": null,
   "metadata": {
    "execution": {
     "iopub.execute_input": "2020-12-15T17:49:09.677609Z",
     "iopub.status.busy": "2020-12-15T17:49:09.677609Z",
     "iopub.status.idle": "2020-12-15T17:49:09.688609Z",
     "shell.execute_reply": "2020-12-15T17:49:09.688609Z"
    }
   },
   "outputs": [],
   "source": []
  },
  {
   "cell_type": "markdown",
   "metadata": {
    "collapsed": false,
    "pycharm": {
     "name": "#%% md\n"
    }
   },
   "source": [
    "### Exercise: Compute values using fraction of sample\n",
    "\n",
    "Compute the correlation of momentum portfolio 1, 5, and 10 in the first half of\n",
    "the sample and in the second half. "
   ]
  },
  {
   "cell_type": "code",
   "execution_count": null,
   "metadata": {
    "execution": {
     "iopub.execute_input": "2020-12-15T17:49:09.695613Z",
     "iopub.status.busy": "2020-12-15T17:49:09.692613Z",
     "iopub.status.idle": "2020-12-15T17:49:09.704610Z",
     "shell.execute_reply": "2020-12-15T17:49:09.704610Z"
    }
   },
   "outputs": [],
   "source": []
  },
  {
   "cell_type": "code",
   "execution_count": null,
   "metadata": {
    "execution": {
     "iopub.execute_input": "2020-12-15T17:49:09.709611Z",
     "iopub.status.busy": "2020-12-15T17:49:09.709611Z",
     "iopub.status.idle": "2020-12-15T17:49:09.720608Z",
     "shell.execute_reply": "2020-12-15T17:49:09.720608Z"
    }
   },
   "outputs": [],
   "source": []
  }
 ],
 "metadata": {
  "kernelspec": {
   "display_name": "Python 3",
   "language": "python",
   "name": "python3"
  },
  "language_info": {
   "codemirror_mode": {
    "name": "ipython",
    "version": 3
   },
   "file_extension": ".py",
   "mimetype": "text/x-python",
   "name": "python",
   "nbconvert_exporter": "python",
   "pygments_lexer": "ipython3",
   "version": "3.8.5"
  },
  "pycharm": {
   "stem_cell": {
    "cell_type": "raw",
    "metadata": {
     "collapsed": false
    },
    "source": []
   }
  }
 },
 "nbformat": 4,
 "nbformat_minor": 1
}
