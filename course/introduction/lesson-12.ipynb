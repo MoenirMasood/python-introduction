{
 "cells": [
  {
   "cell_type": "markdown",
   "metadata": {
    "collapsed": true,
    "pycharm": {
     "name": "#%% md\n"
    }
   },
   "source": [
    "# Numeric Indexing of DataFrames\n",
    "\n",
    "This lesson covers:\n",
    "\n",
    "* Accessing specific elements in DataFrames using numeric indices\n",
    "\n",
    "Accessing elements in a DataFrame is a common task. To begin this lesson,\n",
    "clear the workspace set up some vectors and a $5\\times5$ array. These vectors\n",
    "and matrix will make it easy to determine which elements are selected by a\n",
    "command.\n",
    "\n",
    "Begin by creating:\n",
    "\n",
    "* A 5-by-5 DataFrame `x_df` containing `np.arange(25).reshape((5,5))`.\n",
    "* A 5-element Series `y_s` containing `np.arange(5)`.\n",
    "* A 5-by-5 DataFrame `x_named` that is `x_df` with columns \"c0\", \"c1\", ...,\n",
    "  \"c4\" and rows \"r0\", \"r1\", ..., \"r4\".\n",
    "* A 5-element Series `y_named` with index \"r0\", \"r1\", ..., \"r4\". "
   ]
  },
  {
   "cell_type": "code",
   "execution_count": null,
   "metadata": {
    "execution": {
     "iopub.execute_input": "2020-12-07T13:03:57.302342Z",
     "iopub.status.busy": "2020-12-07T13:03:57.302342Z",
     "iopub.status.idle": "2020-12-07T13:03:57.569356Z",
     "shell.execute_reply": "2020-12-07T13:03:57.569356Z"
    }
   },
   "outputs": [],
   "source": []
  },
  {
   "cell_type": "markdown",
   "metadata": {
    "pycharm": {
     "name": "#%% md\n"
    }
   },
   "source": [
    "## Problem: Picking an Element out of a DataFrame\n",
    "\n",
    "Using double index notation, select the (0,2) and the (2,0) element of\n",
    "`x_named`."
   ]
  },
  {
   "cell_type": "code",
   "execution_count": null,
   "metadata": {
    "execution": {
     "iopub.execute_input": "2020-12-07T13:03:57.576356Z",
     "iopub.status.busy": "2020-12-07T13:03:57.575355Z",
     "iopub.status.idle": "2020-12-07T13:03:57.585356Z",
     "shell.execute_reply": "2020-12-07T13:03:57.585356Z"
    }
   },
   "outputs": [],
   "source": []
  },
  {
   "cell_type": "code",
   "execution_count": null,
   "metadata": {
    "execution": {
     "iopub.execute_input": "2020-12-07T13:03:57.588356Z",
     "iopub.status.busy": "2020-12-07T13:03:57.587356Z",
     "iopub.status.idle": "2020-12-07T13:03:57.601356Z",
     "shell.execute_reply": "2020-12-07T13:03:57.601356Z"
    }
   },
   "outputs": [],
   "source": []
  },
  {
   "cell_type": "markdown",
   "metadata": {
    "pycharm": {
     "name": "#%% md\n"
    }
   },
   "source": [
    "## Problem: Select Elements from Series\n",
    "\n",
    "Select the 2nd element of `y_named`."
   ]
  },
  {
   "cell_type": "code",
   "execution_count": null,
   "metadata": {
    "execution": {
     "iopub.execute_input": "2020-12-07T13:03:57.604356Z",
     "iopub.status.busy": "2020-12-07T13:03:57.604356Z",
     "iopub.status.idle": "2020-12-07T13:03:57.617356Z",
     "shell.execute_reply": "2020-12-07T13:03:57.617356Z"
    }
   },
   "outputs": [],
   "source": []
  },
  {
   "cell_type": "markdown",
   "metadata": {},
   "source": [
    "## Problem: Selecting Rows as Series\n",
    "\n",
    "Select the 2nd row of `x_named` using the colon (:) operator.\n"
   ]
  },
  {
   "cell_type": "code",
   "execution_count": null,
   "metadata": {
    "execution": {
     "iopub.execute_input": "2020-12-07T13:03:57.620356Z",
     "iopub.status.busy": "2020-12-07T13:03:57.620356Z",
     "iopub.status.idle": "2020-12-07T13:03:57.633356Z",
     "shell.execute_reply": "2020-12-07T13:03:57.633356Z"
    }
   },
   "outputs": [],
   "source": []
  },
  {
   "cell_type": "markdown",
   "metadata": {
    "pycharm": {
     "name": "#%% md\n"
    }
   },
   "source": [
    "## Problem: Selecting Rows as DataFrames\n",
    "\n",
    "1. Select the 2nd row of `x_named` using a slice so that the selection\n",
    "   remains a DataFrame.\n",
    "2. Repeat using a list of indices to retain the DataFrame. \n"
   ]
  },
  {
   "cell_type": "code",
   "execution_count": null,
   "metadata": {
    "execution": {
     "iopub.execute_input": "2020-12-07T13:03:57.637356Z",
     "iopub.status.busy": "2020-12-07T13:03:57.636356Z",
     "iopub.status.idle": "2020-12-07T13:03:57.649357Z",
     "shell.execute_reply": "2020-12-07T13:03:57.649357Z"
    }
   },
   "outputs": [],
   "source": []
  },
  {
   "cell_type": "code",
   "execution_count": null,
   "metadata": {
    "execution": {
     "iopub.execute_input": "2020-12-07T13:03:57.653356Z",
     "iopub.status.busy": "2020-12-07T13:03:57.653356Z",
     "iopub.status.idle": "2020-12-07T13:03:57.664496Z",
     "shell.execute_reply": "2020-12-07T13:03:57.664496Z"
    }
   },
   "outputs": [],
   "source": []
  },
  {
   "cell_type": "markdown",
   "metadata": {},
   "source": [
    "## Problem: Selecting Entire Columns as Series\n",
    "Select the 2nd column of `x_named` using the colon (:) operator. "
   ]
  },
  {
   "cell_type": "code",
   "execution_count": null,
   "metadata": {
    "execution": {
     "iopub.execute_input": "2020-12-07T13:03:57.668356Z",
     "iopub.status.busy": "2020-12-07T13:03:57.668356Z",
     "iopub.status.idle": "2020-12-07T13:03:57.680358Z",
     "shell.execute_reply": "2020-12-07T13:03:57.680358Z"
    }
   },
   "outputs": [],
   "source": []
  },
  {
   "cell_type": "markdown",
   "metadata": {
    "pycharm": {
     "name": "#%% md\n"
    }
   },
   "source": [
    "## Problem: Selecting Single Columns as DataFrames\n",
    "Select the 2nd column of `x_named`  so that the selection remains a DataFrame. \n"
   ]
  },
  {
   "cell_type": "code",
   "execution_count": null,
   "metadata": {
    "execution": {
     "iopub.execute_input": "2020-12-07T13:03:57.685357Z",
     "iopub.status.busy": "2020-12-07T13:03:57.684356Z",
     "iopub.status.idle": "2020-12-07T13:03:57.696356Z",
     "shell.execute_reply": "2020-12-07T13:03:57.696356Z"
    }
   },
   "outputs": [],
   "source": []
  },
  {
   "cell_type": "code",
   "execution_count": null,
   "metadata": {
    "execution": {
     "iopub.execute_input": "2020-12-07T13:03:57.701356Z",
     "iopub.status.busy": "2020-12-07T13:03:57.700356Z",
     "iopub.status.idle": "2020-12-07T13:03:57.712357Z",
     "shell.execute_reply": "2020-12-07T13:03:57.712357Z"
    }
   },
   "outputs": [],
   "source": []
  },
  {
   "cell_type": "markdown",
   "metadata": {},
   "source": [
    "## Problem: Selecting Specific Columns\n",
    "Select the 2nd and 3rd columns of `x_named` using a slice."
   ]
  },
  {
   "cell_type": "code",
   "execution_count": null,
   "metadata": {
    "execution": {
     "iopub.execute_input": "2020-12-07T13:03:57.716356Z",
     "iopub.status.busy": "2020-12-07T13:03:57.716356Z",
     "iopub.status.idle": "2020-12-07T13:03:57.728356Z",
     "shell.execute_reply": "2020-12-07T13:03:57.728356Z"
    }
   },
   "outputs": [],
   "source": []
  },
  {
   "cell_type": "markdown",
   "metadata": {
    "pycharm": {
     "name": "#%% md\n"
    }
   },
   "source": [
    "## Problem: Select Specific Rows\n",
    "\n",
    "Select the 2nd and 4th rows of `x_named` using a slice.  Repeat the \n",
    "selection using a list of integers."
   ]
  },
  {
   "cell_type": "code",
   "execution_count": null,
   "metadata": {
    "execution": {
     "iopub.execute_input": "2020-12-07T13:03:57.732356Z",
     "iopub.status.busy": "2020-12-07T13:03:57.732356Z",
     "iopub.status.idle": "2020-12-07T13:03:57.744357Z",
     "shell.execute_reply": "2020-12-07T13:03:57.744357Z"
    }
   },
   "outputs": [],
   "source": []
  },
  {
   "cell_type": "code",
   "execution_count": null,
   "metadata": {
    "execution": {
     "iopub.execute_input": "2020-12-07T13:03:57.749356Z",
     "iopub.status.busy": "2020-12-07T13:03:57.748356Z",
     "iopub.status.idle": "2020-12-07T13:03:57.759355Z",
     "shell.execute_reply": "2020-12-07T13:03:57.760356Z"
    }
   },
   "outputs": [],
   "source": []
  },
  {
   "cell_type": "markdown",
   "metadata": {},
   "source": [
    "## Problem: Select arbitrary rows and columns\n",
    "\n",
    "Combine the previous selections to the 2nd and 3rd columns and the 2nd and 4th rows\n",
    "of `x_named`. \n",
    "\n",
    "**Note**: This is the only important difference with NumPy.  Arbitrary\n",
    "row/column selection using `DataFrame.iloc` is simpler but less flexible."
   ]
  },
  {
   "cell_type": "code",
   "execution_count": null,
   "metadata": {
    "execution": {
     "iopub.execute_input": "2020-12-07T13:03:57.763356Z",
     "iopub.status.busy": "2020-12-07T13:03:57.763356Z",
     "iopub.status.idle": "2020-12-07T13:03:57.776356Z",
     "shell.execute_reply": "2020-12-07T13:03:57.776356Z"
    }
   },
   "outputs": [],
   "source": []
  },
  {
   "cell_type": "code",
   "execution_count": null,
   "metadata": {
    "execution": {
     "iopub.execute_input": "2020-12-07T13:03:57.780356Z",
     "iopub.status.busy": "2020-12-07T13:03:57.780356Z",
     "iopub.status.idle": "2020-12-07T13:03:57.792356Z",
     "shell.execute_reply": "2020-12-07T13:03:57.792356Z"
    }
   },
   "outputs": [],
   "source": []
  },
  {
   "cell_type": "code",
   "execution_count": null,
   "metadata": {
    "execution": {
     "iopub.execute_input": "2020-12-07T13:03:57.796356Z",
     "iopub.status.busy": "2020-12-07T13:03:57.796356Z",
     "iopub.status.idle": "2020-12-07T13:03:57.808357Z",
     "shell.execute_reply": "2020-12-07T13:03:57.808357Z"
    }
   },
   "outputs": [],
   "source": []
  },
  {
   "cell_type": "markdown",
   "metadata": {
    "pycharm": {
     "name": "#%% md\n"
    }
   },
   "source": [
    "## Problem: Mixed selection\n",
    "\n",
    "Select the columns c1 and c2 and the 1st, 3rd and 5th row."
   ]
  },
  {
   "cell_type": "code",
   "execution_count": null,
   "metadata": {
    "execution": {
     "iopub.execute_input": "2020-12-07T13:03:57.812356Z",
     "iopub.status.busy": "2020-12-07T13:03:57.812356Z",
     "iopub.status.idle": "2020-12-07T13:03:57.824357Z",
     "shell.execute_reply": "2020-12-07T13:03:57.824357Z"
    }
   },
   "outputs": [],
   "source": []
  },
  {
   "cell_type": "markdown",
   "metadata": {},
   "source": [
    "## Problem: Mixed selection 2\n",
    "\n",
    "Select the rows r1 and r2 and the 1st, 3rd and final column."
   ]
  },
  {
   "cell_type": "code",
   "execution_count": null,
   "metadata": {
    "execution": {
     "iopub.execute_input": "2020-12-07T13:03:57.828356Z",
     "iopub.status.busy": "2020-12-07T13:03:57.828356Z",
     "iopub.status.idle": "2020-12-07T13:03:57.840357Z",
     "shell.execute_reply": "2020-12-07T13:03:57.840357Z"
    }
   },
   "outputs": [],
   "source": []
  },
  {
   "cell_type": "markdown",
   "metadata": {
    "collapsed": false,
    "pycharm": {
     "name": "#%% md\n"
    }
   },
   "source": [
    "## Exercises\n",
    "\n",
    "### Exercise: Select fixed length block\n",
    "\n",
    "Compute the mean return of the momentum data in the first 66\n",
    "observations and the last 66 observations."
   ]
  },
  {
   "cell_type": "code",
   "execution_count": null,
   "metadata": {
    "execution": {
     "iopub.execute_input": "2020-12-07T13:03:57.842356Z",
     "iopub.status.busy": "2020-12-07T13:03:57.842356Z",
     "iopub.status.idle": "2020-12-07T13:03:57.856356Z",
     "shell.execute_reply": "2020-12-07T13:03:57.856356Z"
    },
    "pycharm": {
     "is_executing": false,
     "name": "#%%\n"
    }
   },
   "outputs": [],
   "source": [
    "# Setup: Load the momentum data\n",
    "\n",
    "import pandas as pd\n",
    "\n",
    "momentum = pd.read_csv(\"data/momentum.csv\", index_col=\"date\", parse_dates=True)\n",
    "momentum.head()\n"
   ]
  },
  {
   "cell_type": "code",
   "execution_count": null,
   "metadata": {
    "execution": {
     "iopub.execute_input": "2020-12-07T13:03:57.859356Z",
     "iopub.status.busy": "2020-12-07T13:03:57.859356Z",
     "iopub.status.idle": "2020-12-07T13:03:57.872360Z",
     "shell.execute_reply": "2020-12-07T13:03:57.872874Z"
    }
   },
   "outputs": [],
   "source": []
  },
  {
   "cell_type": "code",
   "execution_count": null,
   "metadata": {
    "execution": {
     "iopub.execute_input": "2020-12-07T13:03:57.875387Z",
     "iopub.status.busy": "2020-12-07T13:03:57.875387Z",
     "iopub.status.idle": "2020-12-07T13:03:57.887386Z",
     "shell.execute_reply": "2020-12-07T13:03:57.887386Z"
    }
   },
   "outputs": [],
   "source": []
  },
  {
   "cell_type": "code",
   "execution_count": null,
   "metadata": {
    "execution": {
     "iopub.execute_input": "2020-12-07T13:03:57.891387Z",
     "iopub.status.busy": "2020-12-07T13:03:57.890387Z",
     "iopub.status.idle": "2020-12-07T13:03:57.903396Z",
     "shell.execute_reply": "2020-12-07T13:03:57.903396Z"
    }
   },
   "outputs": [],
   "source": []
  },
  {
   "cell_type": "markdown",
   "metadata": {
    "collapsed": false,
    "pycharm": {
     "name": "#%% md\n"
    }
   },
   "source": [
    "### Exercise: Compute values using fraction of sample\n",
    "\n",
    "Compute the correlation of momentum portfolio 1, 5, and 10 in the first half of\n",
    "the sample and in the second half. "
   ]
  },
  {
   "cell_type": "code",
   "execution_count": null,
   "metadata": {
    "execution": {
     "iopub.execute_input": "2020-12-07T13:03:57.909395Z",
     "iopub.status.busy": "2020-12-07T13:03:57.909395Z",
     "iopub.status.idle": "2020-12-07T13:03:57.919396Z",
     "shell.execute_reply": "2020-12-07T13:03:57.919396Z"
    }
   },
   "outputs": [],
   "source": []
  },
  {
   "cell_type": "code",
   "execution_count": null,
   "metadata": {
    "execution": {
     "iopub.execute_input": "2020-12-07T13:03:57.923395Z",
     "iopub.status.busy": "2020-12-07T13:03:57.921395Z",
     "iopub.status.idle": "2020-12-07T13:03:57.935398Z",
     "shell.execute_reply": "2020-12-07T13:03:57.935398Z"
    }
   },
   "outputs": [],
   "source": []
  }
 ],
 "metadata": {
  "kernelspec": {
   "display_name": "Python 3",
   "language": "python",
   "name": "python3"
  },
  "language_info": {
   "codemirror_mode": {
    "name": "ipython",
    "version": 3
   },
   "file_extension": ".py",
   "mimetype": "text/x-python",
   "name": "python",
   "nbconvert_exporter": "python",
   "pygments_lexer": "ipython3",
   "version": "3.8.5"
  },
  "pycharm": {
   "stem_cell": {
    "cell_type": "raw",
    "metadata": {
     "collapsed": false
    },
    "source": []
   }
  }
 },
 "nbformat": 4,
 "nbformat_minor": 1
}
