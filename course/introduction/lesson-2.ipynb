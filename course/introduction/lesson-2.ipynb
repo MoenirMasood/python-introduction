{
 "cells": [
  {
   "cell_type": "markdown",
   "metadata": {
    "collapsed": false
   },
   "source": [
    "# Basic Python Types\n",
    "\n",
    "This lesson covers:\n",
    "\n",
    "* Inputting scalars and strings\n",
    "* Lists\n",
    "* Tuples\n",
    "* Dictionaries\n"
   ]
  },
  {
   "cell_type": "markdown",
   "metadata": {
    "collapsed": false
   },
   "source": [
    "## Problem: Input scalar floating point and integers\n",
    "\n",
    "1. Create a variable called `scalar_float` containing $\\pi$ to 4 digits.\n",
    "2. Create a variable called `scalar_int` containing 31415. \n",
    "3. Print each value using the `print` function.   "
   ]
  },
  {
   "cell_type": "code",
   "execution_count": null,
   "metadata": {
    "execution": {
     "iopub.execute_input": "2020-12-07T13:03:35.553883Z",
     "iopub.status.busy": "2020-12-07T13:03:35.552882Z",
     "iopub.status.idle": "2020-12-07T13:03:35.565883Z",
     "shell.execute_reply": "2020-12-07T13:03:35.565883Z"
    }
   },
   "outputs": [],
   "source": []
  },
  {
   "cell_type": "markdown",
   "metadata": {
    "collapsed": false
   },
   "source": [
    "## Problem: Create a string and an f-string\n",
    "\n",
    "1. Create a variable called `a_string` containing `This is a string`\n",
    "2. Create a f-string the prints `The value of scalar_float is 3.1415` using\n",
    "   the variable created in the previous step\n",
    "3. Create two string, `first` containing `String concatenation` and the\n",
    "   second containing ` is like addition`, and join the two using `+` to produce\n",
    "   `String concatenation is like addition`. "
   ]
  },
  {
   "cell_type": "code",
   "execution_count": null,
   "metadata": {
    "execution": {
     "iopub.execute_input": "2020-12-07T13:03:35.568882Z",
     "iopub.status.busy": "2020-12-07T13:03:35.568882Z",
     "iopub.status.idle": "2020-12-07T13:03:35.581883Z",
     "shell.execute_reply": "2020-12-07T13:03:35.581883Z"
    }
   },
   "outputs": [],
   "source": []
  },
  {
   "cell_type": "markdown",
   "metadata": {
    "collapsed": false
   },
   "source": [
    "## Problem: Create a list\n",
    "\n",
    "1. Create a list containing `scalar_float` and `scalar_int`\n",
    "2. Add `a_string` to the list.\n",
    "3. Select the second element from the list \n",
    "4. Select the the lst two elements of the list"
   ]
  },
  {
   "cell_type": "code",
   "execution_count": null,
   "metadata": {
    "execution": {
     "iopub.execute_input": "2020-12-07T13:03:35.584882Z",
     "iopub.status.busy": "2020-12-07T13:03:35.583882Z",
     "iopub.status.idle": "2020-12-07T13:03:35.597883Z",
     "shell.execute_reply": "2020-12-07T13:03:35.597883Z"
    }
   },
   "outputs": [],
   "source": []
  },
  {
   "cell_type": "markdown",
   "metadata": {
    "collapsed": false
   },
   "source": [
    "## Problem: Create a list of lists\n",
    "\n",
    "1. Create a list containing the two lists `[1, 2, 3]` and `[4, 5, 6]`\n",
    "2. Select the element 5 from the nested list"
   ]
  },
  {
   "cell_type": "code",
   "execution_count": null,
   "metadata": {
    "execution": {
     "iopub.execute_input": "2020-12-07T13:03:35.600882Z",
     "iopub.status.busy": "2020-12-07T13:03:35.600882Z",
     "iopub.status.idle": "2020-12-07T13:03:35.613882Z",
     "shell.execute_reply": "2020-12-07T13:03:35.613882Z"
    }
   },
   "outputs": [],
   "source": []
  },
  {
   "cell_type": "markdown",
   "metadata": {
    "collapsed": false,
    "pycharm": {
     "name": "#%% md\n"
    }
   },
   "source": [
    "## Problem: Create a tuple\n",
    "\n",
    "1. Create a tuple containing the values (1, 2.0, \"c\")\n",
    "2. Select the element \"c\" from the tuple"
   ]
  },
  {
   "cell_type": "code",
   "execution_count": null,
   "metadata": {
    "execution": {
     "iopub.execute_input": "2020-12-07T13:03:35.615882Z",
     "iopub.status.busy": "2020-12-07T13:03:35.615882Z",
     "iopub.status.idle": "2020-12-07T13:03:35.629883Z",
     "shell.execute_reply": "2020-12-07T13:03:35.629883Z"
    }
   },
   "outputs": [],
   "source": []
  },
  {
   "cell_type": "markdown",
   "metadata": {
    "collapsed": false
   },
   "source": [
    "## Problem: Convert a list to a tuple and back\n",
    "\n",
    "1. Convert the list-of-lists created to a tuple-of-tuples\n",
    "2. Convert the tuple-of-tuples back to a list of lists"
   ]
  },
  {
   "cell_type": "code",
   "execution_count": null,
   "metadata": {
    "execution": {
     "iopub.execute_input": "2020-12-07T13:03:35.631882Z",
     "iopub.status.busy": "2020-12-07T13:03:35.631882Z",
     "iopub.status.idle": "2020-12-07T13:03:35.644882Z",
     "shell.execute_reply": "2020-12-07T13:03:35.644882Z"
    }
   },
   "outputs": [],
   "source": []
  },
  {
   "cell_type": "markdown",
   "metadata": {
    "collapsed": false
   },
   "source": [
    "## Problem: Create a dictionary\n",
    "\n",
    "1. Create a dictionary containing the key-value pairs `\"float\"` and 3.1415,\n",
    "   `\"int\"` and 31415, and `\"string\"` and `\"three-point-one-four-one-five\"`."
   ]
  },
  {
   "cell_type": "code",
   "execution_count": null,
   "metadata": {
    "execution": {
     "iopub.execute_input": "2020-12-07T13:03:35.646882Z",
     "iopub.status.busy": "2020-12-07T13:03:35.646882Z",
     "iopub.status.idle": "2020-12-07T13:03:35.659883Z",
     "shell.execute_reply": "2020-12-07T13:03:35.659883Z"
    }
   },
   "outputs": [],
   "source": []
  },
  {
   "cell_type": "markdown",
   "metadata": {
    "collapsed": false
   },
   "source": [
    "## Problem: Lookup and Change a value\n",
    "\n",
    "1. Look up the value of `\"float\"`.\n",
    "2. Change the value of `\"float\"` to `22 / 7`."
   ]
  },
  {
   "cell_type": "code",
   "execution_count": null,
   "metadata": {
    "execution": {
     "iopub.execute_input": "2020-12-07T13:03:35.661882Z",
     "iopub.status.busy": "2020-12-07T13:03:35.661882Z",
     "iopub.status.idle": "2020-12-07T13:03:35.675883Z",
     "shell.execute_reply": "2020-12-07T13:03:35.675883Z"
    }
   },
   "outputs": [],
   "source": []
  },
  {
   "cell_type": "markdown",
   "metadata": {
    "collapsed": false
   },
   "source": [
    "## Problem: Add and remove a key \n",
    "\n",
    "1. Add the new key \"better_float\" with the value 3.141592.\n",
    "2. Remove the key \"float\" and its value."
   ]
  },
  {
   "cell_type": "code",
   "execution_count": null,
   "metadata": {
    "execution": {
     "iopub.execute_input": "2020-12-07T13:03:35.678882Z",
     "iopub.status.busy": "2020-12-07T13:03:35.677882Z",
     "iopub.status.idle": "2020-12-07T13:03:35.691883Z",
     "shell.execute_reply": "2020-12-07T13:03:35.692882Z"
    }
   },
   "outputs": [],
   "source": []
  },
  {
   "cell_type": "markdown",
   "metadata": {
    "collapsed": false,
    "pycharm": {
     "name": "#%% md\n"
    }
   },
   "source": [
    "## Exercises\n",
    "\n",
    "### Exercise: Manipulating lists\n",
    "\n",
    "1. Create an empty list called `lst`\n",
    "2. Add the elements `9`, `\"Eight\"` and `7.0` (in order) to the list.\n",
    "3. Extend the list with the list `[\"Six\", 5, 4.0]` using `extend`\n",
    "4. Select first 4 elements of `lst`\n",
    "5. Select last 3 elements of `lst`\n"
   ]
  },
  {
   "cell_type": "code",
   "execution_count": null,
   "metadata": {
    "execution": {
     "iopub.execute_input": "2020-12-07T13:03:35.698883Z",
     "iopub.status.busy": "2020-12-07T13:03:35.698883Z",
     "iopub.status.idle": "2020-12-07T13:03:35.707882Z",
     "shell.execute_reply": "2020-12-07T13:03:35.706883Z"
    }
   },
   "outputs": [],
   "source": []
  },
  {
   "cell_type": "code",
   "execution_count": null,
   "metadata": {
    "execution": {
     "iopub.execute_input": "2020-12-07T13:03:35.709882Z",
     "iopub.status.busy": "2020-12-07T13:03:35.709882Z",
     "iopub.status.idle": "2020-12-07T13:03:35.722883Z",
     "shell.execute_reply": "2020-12-07T13:03:35.722883Z"
    }
   },
   "outputs": [],
   "source": []
  },
  {
   "cell_type": "code",
   "execution_count": null,
   "metadata": {
    "execution": {
     "iopub.execute_input": "2020-12-07T13:03:35.725883Z",
     "iopub.status.busy": "2020-12-07T13:03:35.725883Z",
     "iopub.status.idle": "2020-12-07T13:03:35.738883Z",
     "shell.execute_reply": "2020-12-07T13:03:35.738883Z"
    }
   },
   "outputs": [],
   "source": []
  },
  {
   "cell_type": "code",
   "execution_count": null,
   "metadata": {
    "execution": {
     "iopub.execute_input": "2020-12-07T13:03:35.740882Z",
     "iopub.status.busy": "2020-12-07T13:03:35.740882Z",
     "iopub.status.idle": "2020-12-07T13:03:35.754883Z",
     "shell.execute_reply": "2020-12-07T13:03:35.754883Z"
    }
   },
   "outputs": [],
   "source": []
  },
  {
   "cell_type": "code",
   "execution_count": null,
   "metadata": {
    "execution": {
     "iopub.execute_input": "2020-12-07T13:03:35.756882Z",
     "iopub.status.busy": "2020-12-07T13:03:35.756882Z",
     "iopub.status.idle": "2020-12-07T13:03:35.770884Z",
     "shell.execute_reply": "2020-12-07T13:03:35.770884Z"
    }
   },
   "outputs": [],
   "source": []
  },
  {
   "cell_type": "code",
   "execution_count": null,
   "metadata": {
    "execution": {
     "iopub.execute_input": "2020-12-07T13:03:35.772882Z",
     "iopub.status.busy": "2020-12-07T13:03:35.772882Z",
     "iopub.status.idle": "2020-12-07T13:03:35.786883Z",
     "shell.execute_reply": "2020-12-07T13:03:35.786883Z"
    }
   },
   "outputs": [],
   "source": []
  },
  {
   "cell_type": "code",
   "execution_count": null,
   "metadata": {
    "execution": {
     "iopub.execute_input": "2020-12-07T13:03:35.788882Z",
     "iopub.status.busy": "2020-12-07T13:03:35.788882Z",
     "iopub.status.idle": "2020-12-07T13:03:35.802882Z",
     "shell.execute_reply": "2020-12-07T13:03:35.802882Z"
    }
   },
   "outputs": [],
   "source": []
  },
  {
   "cell_type": "markdown",
   "metadata": {
    "collapsed": false,
    "pycharm": {
     "name": "#%% md\n"
    }
   },
   "source": [
    "### Exercise: Dictionary Manipulation\n",
    "\n",
    "1. Create a empty dictionary called `dct`\n",
    "2. Add the pairs \"apple\" and 1, \"banana\" and 2.0, and \"cherry\" and \"iii\"\n",
    "3. Replace the value of \"apple\" with \"I\"\n",
    "4. Remove the entry for \"banana\"\n",
    "5. Add an entry \"date\" with the value 4"
   ]
  },
  {
   "cell_type": "code",
   "execution_count": null,
   "metadata": {
    "execution": {
     "iopub.execute_input": "2020-12-07T13:03:35.804882Z",
     "iopub.status.busy": "2020-12-07T13:03:35.804882Z",
     "iopub.status.idle": "2020-12-07T13:03:35.817882Z",
     "shell.execute_reply": "2020-12-07T13:03:35.817882Z"
    }
   },
   "outputs": [],
   "source": []
  },
  {
   "cell_type": "code",
   "execution_count": null,
   "metadata": {
    "execution": {
     "iopub.execute_input": "2020-12-07T13:03:35.820882Z",
     "iopub.status.busy": "2020-12-07T13:03:35.819882Z",
     "iopub.status.idle": "2020-12-07T13:03:35.833882Z",
     "shell.execute_reply": "2020-12-07T13:03:35.833882Z"
    }
   },
   "outputs": [],
   "source": []
  },
  {
   "cell_type": "code",
   "execution_count": null,
   "metadata": {
    "execution": {
     "iopub.execute_input": "2020-12-07T13:03:35.835882Z",
     "iopub.status.busy": "2020-12-07T13:03:35.835882Z",
     "iopub.status.idle": "2020-12-07T13:03:35.848882Z",
     "shell.execute_reply": "2020-12-07T13:03:35.848882Z"
    }
   },
   "outputs": [],
   "source": []
  },
  {
   "cell_type": "code",
   "execution_count": null,
   "metadata": {
    "execution": {
     "iopub.execute_input": "2020-12-07T13:03:35.851882Z",
     "iopub.status.busy": "2020-12-07T13:03:35.850882Z",
     "iopub.status.idle": "2020-12-07T13:03:35.864882Z",
     "shell.execute_reply": "2020-12-07T13:03:35.864882Z"
    }
   },
   "outputs": [],
   "source": []
  },
  {
   "cell_type": "code",
   "execution_count": null,
   "metadata": {
    "execution": {
     "iopub.execute_input": "2020-12-07T13:03:35.867882Z",
     "iopub.status.busy": "2020-12-07T13:03:35.866882Z",
     "iopub.status.idle": "2020-12-07T13:03:35.880883Z",
     "shell.execute_reply": "2020-12-07T13:03:35.880883Z"
    }
   },
   "outputs": [],
   "source": []
  },
  {
   "cell_type": "markdown",
   "metadata": {
    "collapsed": false,
    "pycharm": {
     "name": "#%% md\n"
    }
   },
   "source": [
    "### Exercise: Directly create a Dictionary\n",
    "\n",
    "Using the final version of `dct` from the previous exercise:\n",
    "\n",
    "1. Directly initialize a new dictionary called `other_dct`.\n",
    "2. Use an f-string to print the values associated with each key.\n",
    "\n",
    "**Hint** You must use both types of quotes. For example, to access a value in\n",
    "an f-string.\n",
    "\n",
    "```python\n",
    "f\"{other_dct['apple']}\"\n",
    "```"
   ]
  },
  {
   "cell_type": "code",
   "execution_count": null,
   "metadata": {
    "execution": {
     "iopub.execute_input": "2020-12-07T13:03:35.883882Z",
     "iopub.status.busy": "2020-12-07T13:03:35.882882Z",
     "iopub.status.idle": "2020-12-07T13:03:35.896883Z",
     "shell.execute_reply": "2020-12-07T13:03:35.896883Z"
    }
   },
   "outputs": [],
   "source": []
  },
  {
   "cell_type": "code",
   "execution_count": null,
   "metadata": {
    "execution": {
     "iopub.execute_input": "2020-12-07T13:03:35.898882Z",
     "iopub.status.busy": "2020-12-07T13:03:35.898882Z",
     "iopub.status.idle": "2020-12-07T13:03:35.913395Z",
     "shell.execute_reply": "2020-12-07T13:03:35.912883Z"
    }
   },
   "outputs": [],
   "source": []
  },
  {
   "cell_type": "markdown",
   "metadata": {
    "collapsed": false
   },
   "source": [
    "### Exercise: Tuple Manipulation\n",
    "\n",
    "1. Create a tuple `tpl` containing 100 and 4\n",
    "2. Convert to a list, add the elements 101 and 5\n",
    "3. Convert back toa tuple"
   ]
  },
  {
   "cell_type": "code",
   "execution_count": null,
   "metadata": {
    "execution": {
     "iopub.execute_input": "2020-12-07T13:03:35.915392Z",
     "iopub.status.busy": "2020-12-07T13:03:35.914392Z",
     "iopub.status.idle": "2020-12-07T13:03:35.928392Z",
     "shell.execute_reply": "2020-12-07T13:03:35.928392Z"
    }
   },
   "outputs": [],
   "source": []
  },
  {
   "cell_type": "code",
   "execution_count": null,
   "metadata": {
    "execution": {
     "iopub.execute_input": "2020-12-07T13:03:35.931392Z",
     "iopub.status.busy": "2020-12-07T13:03:35.930392Z",
     "iopub.status.idle": "2020-12-07T13:03:35.943393Z",
     "shell.execute_reply": "2020-12-07T13:03:35.943393Z"
    }
   },
   "outputs": [],
   "source": []
  },
  {
   "cell_type": "code",
   "execution_count": null,
   "metadata": {
    "execution": {
     "iopub.execute_input": "2020-12-07T13:03:35.945392Z",
     "iopub.status.busy": "2020-12-07T13:03:35.945392Z",
     "iopub.status.idle": "2020-12-07T13:03:35.958904Z",
     "shell.execute_reply": "2020-12-07T13:03:35.958904Z"
    }
   },
   "outputs": [],
   "source": []
  }
 ],
 "metadata": {
  "kernelspec": {
   "display_name": "Python 3",
   "language": "python",
   "name": "python3"
  },
  "language_info": {
   "codemirror_mode": {
    "name": "ipython",
    "version": 3
   },
   "file_extension": ".py",
   "mimetype": "text/x-python",
   "name": "python",
   "nbconvert_exporter": "python",
   "pygments_lexer": "ipython3",
   "version": "3.8.5"
  },
  "pycharm": {
   "stem_cell": {
    "cell_type": "raw",
    "metadata": {
     "collapsed": false
    },
    "source": [
     "\n"
    ]
   }
  }
 },
 "nbformat": 4,
 "nbformat_minor": 1
}
