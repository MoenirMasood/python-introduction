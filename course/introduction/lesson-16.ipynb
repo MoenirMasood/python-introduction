{
 "cells": [
  {
   "cell_type": "markdown",
   "metadata": {},
   "source": [
    "# Boolean Selection \n",
    "\n",
    "This lesson covers:\n",
    "\n",
    "* Boolean selection\n",
    "* `where`\n",
    "\n",
    "Begin by loading the data in momentum.csv.\n"
   ]
  },
  {
   "cell_type": "code",
   "execution_count": null,
   "metadata": {
    "execution": {
     "iopub.execute_input": "2020-12-07T13:04:05.750329Z",
     "iopub.status.busy": "2020-12-07T13:04:05.750329Z",
     "iopub.status.idle": "2020-12-07T13:04:06.030846Z",
     "shell.execute_reply": "2020-12-07T13:04:06.030846Z"
    },
    "pycharm": {
     "is_executing": false,
     "name": "#%%\n"
    }
   },
   "outputs": [],
   "source": [
    "# Setup: Load the momentum data\n",
    "\n",
    "import numpy as np\n",
    "import pandas as pd\n",
    "\n",
    "momentum = pd.read_csv(\"data/momentum.csv\", index_col=\"date\", parse_dates=True)\n",
    "\n",
    "print(momentum.head())\n"
   ]
  },
  {
   "cell_type": "markdown",
   "metadata": {},
   "source": [
    "## Problem: Selecting rows with boolean conditions\n",
    "\n",
    "Select the rows in `momentum` where all returns on a day are negative."
   ]
  },
  {
   "cell_type": "code",
   "execution_count": null,
   "metadata": {
    "execution": {
     "iopub.execute_input": "2020-12-07T13:04:06.033845Z",
     "iopub.status.busy": "2020-12-07T13:04:06.032846Z",
     "iopub.status.idle": "2020-12-07T13:04:06.062846Z",
     "shell.execute_reply": "2020-12-07T13:04:06.062846Z"
    }
   },
   "outputs": [],
   "source": []
  },
  {
   "cell_type": "markdown",
   "metadata": {},
   "source": [
    "## Problem: Selecting rows\n",
    "\n",
    "Select the rows in `momentum` where 50% or more of the returns on a day are negative."
   ]
  },
  {
   "cell_type": "code",
   "execution_count": null,
   "metadata": {
    "execution": {
     "iopub.execute_input": "2020-12-07T13:04:06.065846Z",
     "iopub.status.busy": "2020-12-07T13:04:06.064846Z",
     "iopub.status.idle": "2020-12-07T13:04:06.078846Z",
     "shell.execute_reply": "2020-12-07T13:04:06.078846Z"
    }
   },
   "outputs": [],
   "source": []
  },
  {
   "cell_type": "markdown",
   "metadata": {},
   "source": [
    "## Problem: Selecting columns\n",
    "\n",
    "Select the columns in `momentum` what have the smallest and second smallest average returns."
   ]
  },
  {
   "cell_type": "code",
   "execution_count": null,
   "metadata": {
    "execution": {
     "iopub.execute_input": "2020-12-07T13:04:06.081846Z",
     "iopub.status.busy": "2020-12-07T13:04:06.080846Z",
     "iopub.status.idle": "2020-12-07T13:04:06.094846Z",
     "shell.execute_reply": "2020-12-07T13:04:06.094846Z"
    }
   },
   "outputs": [],
   "source": []
  },
  {
   "cell_type": "code",
   "execution_count": null,
   "metadata": {
    "execution": {
     "iopub.execute_input": "2020-12-07T13:04:06.100845Z",
     "iopub.status.busy": "2020-12-07T13:04:06.096846Z",
     "iopub.status.idle": "2020-12-07T13:04:06.110846Z",
     "shell.execute_reply": "2020-12-07T13:04:06.110846Z"
    }
   },
   "outputs": [],
   "source": []
  },
  {
   "cell_type": "code",
   "execution_count": null,
   "metadata": {
    "execution": {
     "iopub.execute_input": "2020-12-07T13:04:06.116846Z",
     "iopub.status.busy": "2020-12-07T13:04:06.116846Z",
     "iopub.status.idle": "2020-12-07T13:04:06.126846Z",
     "shell.execute_reply": "2020-12-07T13:04:06.126846Z"
    }
   },
   "outputs": [],
   "source": []
  },
  {
   "cell_type": "markdown",
   "metadata": {},
   "source": [
    "## Problem: Selecting rows and columns\n",
    "\n",
    "Select the returns for the column with the single most negative return\n",
    "on days where all of the returns are negative. "
   ]
  },
  {
   "cell_type": "code",
   "execution_count": null,
   "metadata": {
    "execution": {
     "iopub.execute_input": "2020-12-07T13:04:06.129846Z",
     "iopub.status.busy": "2020-12-07T13:04:06.128846Z",
     "iopub.status.idle": "2020-12-07T13:04:06.142846Z",
     "shell.execute_reply": "2020-12-07T13:04:06.142846Z"
    }
   },
   "outputs": [],
   "source": []
  },
  {
   "cell_type": "code",
   "execution_count": null,
   "metadata": {
    "execution": {
     "iopub.execute_input": "2020-12-07T13:04:06.148846Z",
     "iopub.status.busy": "2020-12-07T13:04:06.147845Z",
     "iopub.status.idle": "2020-12-07T13:04:06.158846Z",
     "shell.execute_reply": "2020-12-07T13:04:06.158846Z"
    }
   },
   "outputs": [],
   "source": []
  },
  {
   "cell_type": "markdown",
   "metadata": {},
   "source": [
    "## Problem: Selecting Elements using Logical Statements\n",
    "For portfolio 1 and portfolio 10 compute the correlation when both \n",
    "returns are negative and when both are positive.\n"
   ]
  },
  {
   "cell_type": "code",
   "execution_count": null,
   "metadata": {
    "execution": {
     "iopub.execute_input": "2020-12-07T13:04:06.163845Z",
     "iopub.status.busy": "2020-12-07T13:04:06.161846Z",
     "iopub.status.idle": "2020-12-07T13:04:06.174846Z",
     "shell.execute_reply": "2020-12-07T13:04:06.174846Z"
    }
   },
   "outputs": [],
   "source": []
  },
  {
   "cell_type": "code",
   "execution_count": null,
   "metadata": {
    "execution": {
     "iopub.execute_input": "2020-12-07T13:04:06.177846Z",
     "iopub.status.busy": "2020-12-07T13:04:06.177846Z",
     "iopub.status.idle": "2020-12-07T13:04:06.190846Z",
     "shell.execute_reply": "2020-12-07T13:04:06.190846Z"
    }
   },
   "outputs": [],
   "source": []
  },
  {
   "cell_type": "code",
   "execution_count": null,
   "metadata": {
    "execution": {
     "iopub.execute_input": "2020-12-07T13:04:06.193846Z",
     "iopub.status.busy": "2020-12-07T13:04:06.193846Z",
     "iopub.status.idle": "2020-12-07T13:04:06.207867Z",
     "shell.execute_reply": "2020-12-07T13:04:06.206869Z"
    },
    "pycharm": {
     "is_executing": false,
     "name": "#%%\n"
    }
   },
   "outputs": [],
   "source": [
    "# Setup: Reproducible random numbers\n",
    "\n",
    "rs = np.random.RandomState(19991231)\n",
    "x = rs.randint(1, 11, size=(10,3))\n",
    "x"
   ]
  },
  {
   "cell_type": "markdown",
   "metadata": {
    "pycharm": {
     "name": "#%% md\n"
    }
   },
   "source": [
    "## Problem: Select the columns of x that means >= $E[x]$"
   ]
  },
  {
   "cell_type": "code",
   "execution_count": null,
   "metadata": {
    "execution": {
     "iopub.execute_input": "2020-12-07T13:04:06.209867Z",
     "iopub.status.busy": "2020-12-07T13:04:06.209867Z",
     "iopub.status.idle": "2020-12-07T13:04:06.222867Z",
     "shell.execute_reply": "2020-12-07T13:04:06.222867Z"
    }
   },
   "outputs": [],
   "source": []
  },
  {
   "cell_type": "markdown",
   "metadata": {},
   "source": [
    "## Problem: Select the rows of x that means >= $E[x]$"
   ]
  },
  {
   "cell_type": "code",
   "execution_count": null,
   "metadata": {
    "execution": {
     "iopub.execute_input": "2020-12-07T13:04:06.224867Z",
     "iopub.status.busy": "2020-12-07T13:04:06.224867Z",
     "iopub.status.idle": "2020-12-07T13:04:06.238868Z",
     "shell.execute_reply": "2020-12-07T13:04:06.238868Z"
    }
   },
   "outputs": [],
   "source": []
  },
  {
   "cell_type": "markdown",
   "metadata": {},
   "source": [
    "## Problem: Select the rows and column of x where both have means < $E[x]$"
   ]
  },
  {
   "cell_type": "code",
   "execution_count": null,
   "metadata": {
    "execution": {
     "iopub.execute_input": "2020-12-07T13:04:06.241867Z",
     "iopub.status.busy": "2020-12-07T13:04:06.241867Z",
     "iopub.status.idle": "2020-12-07T13:04:06.254869Z",
     "shell.execute_reply": "2020-12-07T13:04:06.254869Z"
    }
   },
   "outputs": [],
   "source": []
  },
  {
   "cell_type": "markdown",
   "metadata": {},
   "source": [
    "## Problem: Using `where`\n",
    "Use `where` to select the index of the elements in portfolio 5 that are\n",
    "negative. Next, use the `where` command in its two output form to determine\n",
    "which elements of the portfolio return matrix are less than -2%."
   ]
  },
  {
   "cell_type": "code",
   "execution_count": null,
   "metadata": {
    "execution": {
     "iopub.execute_input": "2020-12-07T13:04:06.258867Z",
     "iopub.status.busy": "2020-12-07T13:04:06.258867Z",
     "iopub.status.idle": "2020-12-07T13:04:06.270867Z",
     "shell.execute_reply": "2020-12-07T13:04:06.270867Z"
    }
   },
   "outputs": [],
   "source": []
  },
  {
   "cell_type": "code",
   "execution_count": null,
   "metadata": {
    "execution": {
     "iopub.execute_input": "2020-12-07T13:04:06.274867Z",
     "iopub.status.busy": "2020-12-07T13:04:06.273867Z",
     "iopub.status.idle": "2020-12-07T13:04:06.286867Z",
     "shell.execute_reply": "2020-12-07T13:04:06.286867Z"
    }
   },
   "outputs": [],
   "source": []
  },
  {
   "cell_type": "code",
   "execution_count": null,
   "metadata": {
    "execution": {
     "iopub.execute_input": "2020-12-07T13:04:06.288867Z",
     "iopub.status.busy": "2020-12-07T13:04:06.288867Z",
     "iopub.status.idle": "2020-12-07T13:04:06.302867Z",
     "shell.execute_reply": "2020-12-07T13:04:06.302867Z"
    }
   },
   "outputs": [],
   "source": []
  },
  {
   "cell_type": "markdown",
   "metadata": {
    "pycharm": {
     "name": "#%% md\n"
    }
   },
   "source": [
    "## Exercises\n",
    "\n",
    "### Exercise: Select the Most Volatile Portfolio\n",
    "\n",
    "Select the column in momentum that has the highest standard deviation."
   ]
  },
  {
   "cell_type": "code",
   "execution_count": null,
   "metadata": {
    "execution": {
     "iopub.execute_input": "2020-12-07T13:04:06.305867Z",
     "iopub.status.busy": "2020-12-07T13:04:06.305867Z",
     "iopub.status.idle": "2020-12-07T13:04:06.318867Z",
     "shell.execute_reply": "2020-12-07T13:04:06.318867Z"
    }
   },
   "outputs": [],
   "source": []
  },
  {
   "cell_type": "markdown",
   "metadata": {
    "pycharm": {
     "name": "#%% md\n"
    }
   },
   "source": [
    "### Exercise: Select the High Kurtosis Portfolios\n",
    "\n",
    "Select the columns that have kurtoses above the median kurtosis."
   ]
  },
  {
   "cell_type": "code",
   "execution_count": null,
   "metadata": {
    "execution": {
     "iopub.execute_input": "2020-12-07T13:04:06.320867Z",
     "iopub.status.busy": "2020-12-07T13:04:06.320867Z",
     "iopub.status.idle": "2020-12-07T13:04:06.333868Z",
     "shell.execute_reply": "2020-12-07T13:04:06.333868Z"
    }
   },
   "outputs": [],
   "source": []
  },
  {
   "cell_type": "markdown",
   "metadata": {
    "pycharm": {
     "name": "#%% md\n"
    }
   },
   "source": [
    "### Exercise: Select \n",
    "\n",
    "Select the rows where all of the returns in the row are less than the 25%\n",
    "quantile for their portfolio.\n",
    "\n",
    "**Note**: Comparisons between `DataFrame`s and `Series` works like mathematical\n",
    "operations (`+`, `-`, etc.)."
   ]
  },
  {
   "cell_type": "code",
   "execution_count": null,
   "metadata": {
    "execution": {
     "iopub.execute_input": "2020-12-07T13:04:06.335867Z",
     "iopub.status.busy": "2020-12-07T13:04:06.335867Z",
     "iopub.status.idle": "2020-12-07T13:04:06.349871Z",
     "shell.execute_reply": "2020-12-07T13:04:06.348871Z"
    }
   },
   "outputs": [],
   "source": []
  },
  {
   "cell_type": "code",
   "execution_count": null,
   "metadata": {
    "execution": {
     "iopub.execute_input": "2020-12-07T13:04:06.365867Z",
     "iopub.status.busy": "2020-12-07T13:04:06.351869Z",
     "iopub.status.idle": "2020-12-07T13:04:06.379867Z",
     "shell.execute_reply": "2020-12-07T13:04:06.379867Z"
    }
   },
   "outputs": [],
   "source": []
  }
 ],
 "metadata": {
  "kernelspec": {
   "display_name": "Python 3",
   "language": "python",
   "name": "python3"
  },
  "language_info": {
   "codemirror_mode": {
    "name": "ipython",
    "version": 3
   },
   "file_extension": ".py",
   "mimetype": "text/x-python",
   "name": "python",
   "nbconvert_exporter": "python",
   "pygments_lexer": "ipython3",
   "version": "3.8.5"
  },
  "pycharm": {
   "stem_cell": {
    "cell_type": "raw",
    "metadata": {
     "collapsed": false
    },
    "source": []
   }
  }
 },
 "nbformat": 4,
 "nbformat_minor": 1
}
