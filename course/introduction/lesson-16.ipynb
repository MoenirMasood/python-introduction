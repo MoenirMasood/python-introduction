{
 "cells": [
  {
   "cell_type": "markdown",
   "metadata": {},
   "source": [
    "# Boolean Selection \n",
    "\n",
    "This lesson covers:\n",
    "\n",
    "* Boolean selection\n",
    "* `where`\n",
    "\n",
    "Begin by loading the data in momentum.csv.\n"
   ]
  },
  {
   "cell_type": "code",
   "execution_count": null,
   "metadata": {
    "execution": {
     "iopub.execute_input": "2020-12-15T17:49:17.569527Z",
     "iopub.status.busy": "2020-12-15T17:49:17.569527Z",
     "iopub.status.idle": "2020-12-15T17:49:17.834529Z",
     "shell.execute_reply": "2020-12-15T17:49:17.834529Z"
    },
    "pycharm": {
     "is_executing": false,
     "name": "#%%\n"
    }
   },
   "outputs": [],
   "source": [
    "# Setup: Load the momentum data\n",
    "\n",
    "import numpy as np\n",
    "import pandas as pd\n",
    "\n",
    "momentum = pd.read_csv(\"data/momentum.csv\", index_col=\"date\", parse_dates=True)\n",
    "\n",
    "print(momentum.head())\n"
   ]
  },
  {
   "cell_type": "markdown",
   "metadata": {},
   "source": [
    "## Problem: Selecting rows with boolean conditions\n",
    "\n",
    "Select the rows in `momentum` where all returns on a day are negative."
   ]
  },
  {
   "cell_type": "code",
   "execution_count": null,
   "metadata": {
    "execution": {
     "iopub.execute_input": "2020-12-15T17:49:17.837528Z",
     "iopub.status.busy": "2020-12-15T17:49:17.837528Z",
     "iopub.status.idle": "2020-12-15T17:49:17.865527Z",
     "shell.execute_reply": "2020-12-15T17:49:17.865527Z"
    }
   },
   "outputs": [],
   "source": []
  },
  {
   "cell_type": "markdown",
   "metadata": {},
   "source": [
    "## Problem: Selecting rows\n",
    "\n",
    "Select the rows in `momentum` where 50% or more of the returns on a day are negative."
   ]
  },
  {
   "cell_type": "code",
   "execution_count": null,
   "metadata": {
    "execution": {
     "iopub.execute_input": "2020-12-15T17:49:17.868526Z",
     "iopub.status.busy": "2020-12-15T17:49:17.867527Z",
     "iopub.status.idle": "2020-12-15T17:49:17.881527Z",
     "shell.execute_reply": "2020-12-15T17:49:17.881527Z"
    }
   },
   "outputs": [],
   "source": []
  },
  {
   "cell_type": "markdown",
   "metadata": {},
   "source": [
    "## Problem: Selecting columns\n",
    "\n",
    "Select the columns in `momentum` what have the smallest and second smallest average returns."
   ]
  },
  {
   "cell_type": "code",
   "execution_count": null,
   "metadata": {
    "execution": {
     "iopub.execute_input": "2020-12-15T17:49:17.885529Z",
     "iopub.status.busy": "2020-12-15T17:49:17.883531Z",
     "iopub.status.idle": "2020-12-15T17:49:17.896527Z",
     "shell.execute_reply": "2020-12-15T17:49:17.896527Z"
    }
   },
   "outputs": [],
   "source": []
  },
  {
   "cell_type": "code",
   "execution_count": null,
   "metadata": {
    "execution": {
     "iopub.execute_input": "2020-12-15T17:49:17.903528Z",
     "iopub.status.busy": "2020-12-15T17:49:17.898530Z",
     "iopub.status.idle": "2020-12-15T17:49:17.912528Z",
     "shell.execute_reply": "2020-12-15T17:49:17.912528Z"
    }
   },
   "outputs": [],
   "source": []
  },
  {
   "cell_type": "code",
   "execution_count": null,
   "metadata": {
    "execution": {
     "iopub.execute_input": "2020-12-15T17:49:17.919529Z",
     "iopub.status.busy": "2020-12-15T17:49:17.919529Z",
     "iopub.status.idle": "2020-12-15T17:49:17.928529Z",
     "shell.execute_reply": "2020-12-15T17:49:17.929528Z"
    }
   },
   "outputs": [],
   "source": []
  },
  {
   "cell_type": "markdown",
   "metadata": {},
   "source": [
    "## Problem: Selecting rows and columns\n",
    "\n",
    "Select the returns for the column with the single most negative return\n",
    "on days where all of the returns are negative. "
   ]
  },
  {
   "cell_type": "code",
   "execution_count": null,
   "metadata": {
    "execution": {
     "iopub.execute_input": "2020-12-15T17:49:17.932527Z",
     "iopub.status.busy": "2020-12-15T17:49:17.931527Z",
     "iopub.status.idle": "2020-12-15T17:49:17.944528Z",
     "shell.execute_reply": "2020-12-15T17:49:17.944528Z"
    }
   },
   "outputs": [],
   "source": []
  },
  {
   "cell_type": "code",
   "execution_count": null,
   "metadata": {
    "execution": {
     "iopub.execute_input": "2020-12-15T17:49:17.951529Z",
     "iopub.status.busy": "2020-12-15T17:49:17.950530Z",
     "iopub.status.idle": "2020-12-15T17:49:17.960530Z",
     "shell.execute_reply": "2020-12-15T17:49:17.960530Z"
    }
   },
   "outputs": [],
   "source": []
  },
  {
   "cell_type": "markdown",
   "metadata": {},
   "source": [
    "## Problem: Selecting Elements using Logical Statements\n",
    "For portfolio 1 and portfolio 10 compute the correlation when both \n",
    "returns are negative and when both are positive.\n"
   ]
  },
  {
   "cell_type": "code",
   "execution_count": null,
   "metadata": {
    "execution": {
     "iopub.execute_input": "2020-12-15T17:49:17.966528Z",
     "iopub.status.busy": "2020-12-15T17:49:17.966528Z",
     "iopub.status.idle": "2020-12-15T17:49:17.975529Z",
     "shell.execute_reply": "2020-12-15T17:49:17.975529Z"
    }
   },
   "outputs": [],
   "source": []
  },
  {
   "cell_type": "code",
   "execution_count": null,
   "metadata": {
    "execution": {
     "iopub.execute_input": "2020-12-15T17:49:17.981530Z",
     "iopub.status.busy": "2020-12-15T17:49:17.980530Z",
     "iopub.status.idle": "2020-12-15T17:49:17.990527Z",
     "shell.execute_reply": "2020-12-15T17:49:17.990527Z"
    }
   },
   "outputs": [],
   "source": []
  },
  {
   "cell_type": "code",
   "execution_count": null,
   "metadata": {
    "execution": {
     "iopub.execute_input": "2020-12-15T17:49:17.993529Z",
     "iopub.status.busy": "2020-12-15T17:49:17.993529Z",
     "iopub.status.idle": "2020-12-15T17:49:18.006527Z",
     "shell.execute_reply": "2020-12-15T17:49:18.005528Z"
    },
    "pycharm": {
     "is_executing": false,
     "name": "#%%\n"
    }
   },
   "outputs": [],
   "source": [
    "# Setup: Reproducible random numbers\n",
    "\n",
    "rs = np.random.RandomState(19991231)\n",
    "x = rs.randint(1, 11, size=(10,3))\n",
    "x"
   ]
  },
  {
   "cell_type": "markdown",
   "metadata": {
    "pycharm": {
     "name": "#%% md\n"
    }
   },
   "source": [
    "## Problem: Select the columns of x that means >= $E[x]$"
   ]
  },
  {
   "cell_type": "code",
   "execution_count": null,
   "metadata": {
    "execution": {
     "iopub.execute_input": "2020-12-15T17:49:18.009526Z",
     "iopub.status.busy": "2020-12-15T17:49:18.008526Z",
     "iopub.status.idle": "2020-12-15T17:49:18.021529Z",
     "shell.execute_reply": "2020-12-15T17:49:18.021529Z"
    }
   },
   "outputs": [],
   "source": []
  },
  {
   "cell_type": "markdown",
   "metadata": {},
   "source": [
    "## Problem: Select the rows of x that means >= $E[x]$"
   ]
  },
  {
   "cell_type": "code",
   "execution_count": null,
   "metadata": {
    "execution": {
     "iopub.execute_input": "2020-12-15T17:49:18.024529Z",
     "iopub.status.busy": "2020-12-15T17:49:18.024529Z",
     "iopub.status.idle": "2020-12-15T17:49:18.037528Z",
     "shell.execute_reply": "2020-12-15T17:49:18.036528Z"
    }
   },
   "outputs": [],
   "source": []
  },
  {
   "cell_type": "markdown",
   "metadata": {},
   "source": [
    "## Problem: Select the rows and column of x where both have means < $E[x]$"
   ]
  },
  {
   "cell_type": "code",
   "execution_count": null,
   "metadata": {
    "execution": {
     "iopub.execute_input": "2020-12-15T17:49:18.040530Z",
     "iopub.status.busy": "2020-12-15T17:49:18.040530Z",
     "iopub.status.idle": "2020-12-15T17:49:18.052532Z",
     "shell.execute_reply": "2020-12-15T17:49:18.052532Z"
    }
   },
   "outputs": [],
   "source": []
  },
  {
   "cell_type": "markdown",
   "metadata": {},
   "source": [
    "## Problem: Using `where`\n",
    "Use `where` to select the index of the elements in portfolio 5 that are\n",
    "negative. Next, use the `where` command in its two output form to determine\n",
    "which elements of the portfolio return matrix are less than -2%."
   ]
  },
  {
   "cell_type": "code",
   "execution_count": null,
   "metadata": {
    "execution": {
     "iopub.execute_input": "2020-12-15T17:49:18.055528Z",
     "iopub.status.busy": "2020-12-15T17:49:18.055528Z",
     "iopub.status.idle": "2020-12-15T17:49:18.068529Z",
     "shell.execute_reply": "2020-12-15T17:49:18.068529Z"
    }
   },
   "outputs": [],
   "source": []
  },
  {
   "cell_type": "code",
   "execution_count": null,
   "metadata": {
    "execution": {
     "iopub.execute_input": "2020-12-15T17:49:18.073530Z",
     "iopub.status.busy": "2020-12-15T17:49:18.072531Z",
     "iopub.status.idle": "2020-12-15T17:49:18.083529Z",
     "shell.execute_reply": "2020-12-15T17:49:18.083529Z"
    }
   },
   "outputs": [],
   "source": []
  },
  {
   "cell_type": "code",
   "execution_count": null,
   "metadata": {
    "execution": {
     "iopub.execute_input": "2020-12-15T17:49:18.086529Z",
     "iopub.status.busy": "2020-12-15T17:49:18.086529Z",
     "iopub.status.idle": "2020-12-15T17:49:18.099527Z",
     "shell.execute_reply": "2020-12-15T17:49:18.099527Z"
    }
   },
   "outputs": [],
   "source": []
  },
  {
   "cell_type": "markdown",
   "metadata": {
    "pycharm": {
     "name": "#%% md\n"
    }
   },
   "source": [
    "## Exercises\n",
    "\n",
    "### Exercise: Select the Most Volatile Portfolio\n",
    "\n",
    "Select the column in momentum that has the highest standard deviation."
   ]
  },
  {
   "cell_type": "code",
   "execution_count": null,
   "metadata": {
    "execution": {
     "iopub.execute_input": "2020-12-15T17:49:18.102529Z",
     "iopub.status.busy": "2020-12-15T17:49:18.102529Z",
     "iopub.status.idle": "2020-12-15T17:49:18.115527Z",
     "shell.execute_reply": "2020-12-15T17:49:18.115527Z"
    }
   },
   "outputs": [],
   "source": []
  },
  {
   "cell_type": "markdown",
   "metadata": {
    "pycharm": {
     "name": "#%% md\n"
    }
   },
   "source": [
    "### Exercise: Select the High Kurtosis Portfolios\n",
    "\n",
    "Select the columns that have kurtoses above the median kurtosis."
   ]
  },
  {
   "cell_type": "code",
   "execution_count": null,
   "metadata": {
    "execution": {
     "iopub.execute_input": "2020-12-15T17:49:18.117531Z",
     "iopub.status.busy": "2020-12-15T17:49:18.117531Z",
     "iopub.status.idle": "2020-12-15T17:49:18.131527Z",
     "shell.execute_reply": "2020-12-15T17:49:18.131527Z"
    }
   },
   "outputs": [],
   "source": []
  },
  {
   "cell_type": "markdown",
   "metadata": {
    "pycharm": {
     "name": "#%% md\n"
    }
   },
   "source": [
    "### Exercise: Select \n",
    "\n",
    "Select the rows where all of the returns in the row are less than the 25%\n",
    "quantile for their portfolio.\n",
    "\n",
    "**Note**: Comparisons between `DataFrame`s and `Series` works like mathematical\n",
    "operations (`+`, `-`, etc.)."
   ]
  },
  {
   "cell_type": "code",
   "execution_count": null,
   "metadata": {
    "execution": {
     "iopub.execute_input": "2020-12-15T17:49:18.134531Z",
     "iopub.status.busy": "2020-12-15T17:49:18.133531Z",
     "iopub.status.idle": "2020-12-15T17:49:18.147528Z",
     "shell.execute_reply": "2020-12-15T17:49:18.147528Z"
    }
   },
   "outputs": [],
   "source": []
  },
  {
   "cell_type": "code",
   "execution_count": null,
   "metadata": {
    "execution": {
     "iopub.execute_input": "2020-12-15T17:49:18.163529Z",
     "iopub.status.busy": "2020-12-15T17:49:18.162530Z",
     "iopub.status.idle": "2020-12-15T17:49:18.178527Z",
     "shell.execute_reply": "2020-12-15T17:49:18.178527Z"
    }
   },
   "outputs": [],
   "source": []
  }
 ],
 "metadata": {
  "kernelspec": {
   "display_name": "Python 3",
   "language": "python",
   "name": "python3"
  },
  "language_info": {
   "codemirror_mode": {
    "name": "ipython",
    "version": 3
   },
   "file_extension": ".py",
   "mimetype": "text/x-python",
   "name": "python",
   "nbconvert_exporter": "python",
   "pygments_lexer": "ipython3",
   "version": "3.8.5"
  },
  "pycharm": {
   "stem_cell": {
    "cell_type": "raw",
    "metadata": {
     "collapsed": false
    },
    "source": []
   }
  }
 },
 "nbformat": 4,
 "nbformat_minor": 1
}
