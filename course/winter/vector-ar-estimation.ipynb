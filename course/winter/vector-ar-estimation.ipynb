{
 "cells": [
  {
   "cell_type": "markdown",
   "metadata": {},
   "source": [
    "Vector Autoregressions\n",
    "## Vector Autoregresion (VAR) Estimation\n",
    "\n",
    "**Functions**\n",
    "\n",
    "`tsa.VAR`\n",
    "\n",
    "### Exercise 85\n",
    "Download data on 10-year interest rates, 1-year interest rates and the\n",
    "GDP deflator from FRED."
   ]
  },
  {
   "cell_type": "code",
   "execution_count": null,
   "metadata": {
    "execution": {
     "iopub.execute_input": "2020-12-07T13:48:14.115059Z",
     "iopub.status.busy": "2020-12-07T13:48:14.115059Z",
     "iopub.status.idle": "2020-12-07T13:48:14.398084Z",
     "shell.execute_reply": "2020-12-07T13:48:14.397084Z"
    }
   },
   "outputs": [],
   "source": []
  },
  {
   "cell_type": "markdown",
   "metadata": {},
   "source": [
    "### Exercise 86\n",
    "Transform the GDP deflator to be percent returns (e.g. $\\Delta\\ln\\left(GDP_t\\right)$ )."
   ]
  },
  {
   "cell_type": "code",
   "execution_count": null,
   "metadata": {
    "execution": {
     "iopub.execute_input": "2020-12-07T13:48:14.438084Z",
     "iopub.status.busy": "2020-12-07T13:48:14.438084Z",
     "iopub.status.idle": "2020-12-07T13:48:14.445084Z",
     "shell.execute_reply": "2020-12-07T13:48:14.445084Z"
    }
   },
   "outputs": [],
   "source": []
  },
  {
   "cell_type": "markdown",
   "metadata": {},
   "source": [
    "### Exercise 87\n",
    "Estimate a first-order VAR on the spread between the 10-year and 1-year\n",
    "(spread), the one-year, and the growth rate of the GDP deflator."
   ]
  },
  {
   "cell_type": "code",
   "execution_count": null,
   "metadata": {
    "execution": {
     "iopub.execute_input": "2020-12-07T13:48:14.448084Z",
     "iopub.status.busy": "2020-12-07T13:48:14.447084Z",
     "iopub.status.idle": "2020-12-07T13:48:15.203285Z",
     "shell.execute_reply": "2020-12-07T13:48:15.204283Z"
    }
   },
   "outputs": [],
   "source": []
  },
  {
   "cell_type": "markdown",
   "metadata": {},
   "source": [
    "### Exercise 88\n",
    "What are the “own” effects?\n"
   ]
  },
  {
   "cell_type": "code",
   "execution_count": null,
   "metadata": {
    "execution": {
     "iopub.execute_input": "2020-12-07T13:48:15.242283Z",
     "iopub.status.busy": "2020-12-07T13:48:15.242283Z",
     "iopub.status.idle": "2020-12-07T13:48:15.250283Z",
     "shell.execute_reply": "2020-12-07T13:48:15.250283Z"
    }
   },
   "outputs": [],
   "source": []
  },
  {
   "cell_type": "markdown",
   "metadata": {},
   "source": [
    "### Exercise 89\n",
    "What are the cross effects between these?"
   ]
  },
  {
   "cell_type": "code",
   "execution_count": null,
   "metadata": {
    "execution": {
     "iopub.execute_input": "2020-12-07T13:48:15.278284Z",
     "iopub.status.busy": "2020-12-07T13:48:15.278284Z",
     "iopub.status.idle": "2020-12-07T13:48:15.282282Z",
     "shell.execute_reply": "2020-12-07T13:48:15.283284Z"
    }
   },
   "outputs": [],
   "source": []
  },
  {
   "cell_type": "markdown",
   "metadata": {},
   "source": [
    "### Exercise 90\n",
    "How could you get a sense of the persistence of this system?"
   ]
  },
  {
   "cell_type": "code",
   "execution_count": null,
   "metadata": {
    "execution": {
     "iopub.execute_input": "2020-12-07T13:48:15.287282Z",
     "iopub.status.busy": "2020-12-07T13:48:15.286284Z",
     "iopub.status.idle": "2020-12-07T13:48:15.298284Z",
     "shell.execute_reply": "2020-12-07T13:48:15.298284Z"
    }
   },
   "outputs": [],
   "source": []
  }
 ],
 "metadata": {
  "kernelspec": {
   "display_name": "Python 3",
   "language": "python",
   "name": "python3"
  },
  "language_info": {
   "codemirror_mode": {
    "name": "ipython",
    "version": 3
   },
   "file_extension": ".py",
   "mimetype": "text/x-python",
   "name": "python",
   "nbconvert_exporter": "python",
   "pygments_lexer": "ipython3",
   "version": "3.8.5"
  },
  "pycharm": {
   "stem_cell": {
    "cell_type": "raw",
    "metadata": {
     "collapsed": false
    },
    "source": []
   }
  }
 },
 "nbformat": 4,
 "nbformat_minor": 1
}
