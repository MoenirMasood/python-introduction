{
 "cells": [
  {
   "cell_type": "markdown",
   "metadata": {},
   "source": [
    "Vector Autoregressions\n",
    "## Vector Autoregresion (VAR) Estimation\n",
    "\n",
    "**Functions**\n",
    "\n",
    "`tsa.VAR`\n",
    "\n",
    "### Exercise 85\n",
    "Download data on 10-year interest rates, 1-year interest rates and the\n",
    "GDP deflator from FRED."
   ]
  },
  {
   "cell_type": "code",
   "execution_count": null,
   "metadata": {
    "execution": {
     "iopub.status.idle": "2020-12-15T17:37:41.730025Z",
     "shell.execute_reply": "2020-12-15T17:37:41.731026Z"
    }
   },
   "outputs": [],
   "source": []
  },
  {
   "cell_type": "markdown",
   "metadata": {},
   "source": [
    "### Exercise 86\n",
    "Transform the GDP deflator to be percent returns (e.g. $\\Delta\\ln\\left(GDP_t\\right)$ )."
   ]
  },
  {
   "cell_type": "code",
   "execution_count": null,
   "metadata": {
    "execution": {
     "iopub.execute_input": "2020-12-15T17:37:41.772026Z",
     "iopub.status.busy": "2020-12-15T17:37:41.766028Z",
     "iopub.status.idle": "2020-12-15T17:37:41.778024Z",
     "shell.execute_reply": "2020-12-15T17:37:41.778024Z"
    }
   },
   "outputs": [],
   "source": []
  },
  {
   "cell_type": "markdown",
   "metadata": {},
   "source": [
    "### Exercise 87\n",
    "Estimate a first-order VAR on the spread between the 10-year and 1-year\n",
    "(spread), the one-year, and the growth rate of the GDP deflator."
   ]
  },
  {
   "cell_type": "code",
   "execution_count": null,
   "metadata": {
    "execution": {
     "iopub.execute_input": "2020-12-15T17:37:41.781028Z",
     "iopub.status.busy": "2020-12-15T17:37:41.781028Z",
     "iopub.status.idle": "2020-12-15T17:37:42.490432Z",
     "shell.execute_reply": "2020-12-15T17:37:42.489432Z"
    }
   },
   "outputs": [],
   "source": []
  },
  {
   "cell_type": "markdown",
   "metadata": {},
   "source": [
    "### Exercise 88\n",
    "What are the “own” effects?\n"
   ]
  },
  {
   "cell_type": "code",
   "execution_count": null,
   "metadata": {
    "execution": {
     "iopub.execute_input": "2020-12-15T17:37:42.528435Z",
     "iopub.status.busy": "2020-12-15T17:37:42.527432Z",
     "iopub.status.idle": "2020-12-15T17:37:42.538434Z",
     "shell.execute_reply": "2020-12-15T17:37:42.537432Z"
    }
   },
   "outputs": [],
   "source": []
  },
  {
   "cell_type": "markdown",
   "metadata": {},
   "source": [
    "### Exercise 89\n",
    "What are the cross effects between these?"
   ]
  },
  {
   "cell_type": "code",
   "execution_count": null,
   "metadata": {
    "execution": {
     "iopub.execute_input": "2020-12-15T17:37:42.562431Z",
     "iopub.status.busy": "2020-12-15T17:37:42.562431Z",
     "iopub.status.idle": "2020-12-15T17:37:42.568433Z",
     "shell.execute_reply": "2020-12-15T17:37:42.568433Z"
    }
   },
   "outputs": [],
   "source": []
  },
  {
   "cell_type": "markdown",
   "metadata": {},
   "source": [
    "### Exercise 90\n",
    "How could you get a sense of the persistence of this system?"
   ]
  },
  {
   "cell_type": "code",
   "execution_count": null,
   "metadata": {
    "execution": {
     "iopub.execute_input": "2020-12-15T17:37:42.572433Z",
     "iopub.status.busy": "2020-12-15T17:37:42.571431Z",
     "iopub.status.idle": "2020-12-15T17:37:42.583431Z",
     "shell.execute_reply": "2020-12-15T17:37:42.584433Z"
    }
   },
   "outputs": [],
   "source": []
  }
 ],
 "metadata": {
  "kernelspec": {
   "display_name": "Python 3",
   "language": "python",
   "name": "python3"
  },
  "language_info": {
   "codemirror_mode": {
    "name": "ipython",
    "version": 3
   },
   "file_extension": ".py",
   "mimetype": "text/x-python",
   "name": "python",
   "nbconvert_exporter": "python",
   "pygments_lexer": "ipython3",
   "version": "3.8.5"
  },
  "pycharm": {
   "stem_cell": {
    "cell_type": "raw",
    "metadata": {
     "collapsed": false
    },
    "source": []
   }
  }
 },
 "nbformat": 4,
 "nbformat_minor": 4
}
