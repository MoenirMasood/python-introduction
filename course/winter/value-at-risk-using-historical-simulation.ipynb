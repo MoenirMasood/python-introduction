{
 "cells": [
  {
   "cell_type": "markdown",
   "metadata": {
    "collapsed": true
   },
   "source": [
    "## Value-at-Risk: Using Historical Simulation\n",
    "\n",
    "**Functions**\n",
    "\n",
    "`Series.quantile`, `Series.rolling`"
   ]
  },
  {
   "cell_type": "markdown",
   "metadata": {},
   "source": [
    "### Exercise 81\n",
    "Compute the 1-, 5- and 10-day historical simulation VaR for the S&P 500 and\n",
    "the EUR/USD rate.\n",
    "\n",
    "**Note**: Start the historical simulation at 25% of the data, and then build the\n",
    "additional forecasts using a recursive scheme."
   ]
  },
  {
   "cell_type": "code",
   "execution_count": null,
   "metadata": {
    "execution": {
     "iopub.execute_input": "2020-12-15T17:37:32.322379Z",
     "iopub.status.busy": "2020-12-15T17:37:32.322379Z",
     "iopub.status.idle": "2020-12-15T17:37:33.006771Z",
     "shell.execute_reply": "2020-12-15T17:37:33.007773Z"
    }
   },
   "outputs": [],
   "source": []
  }
 ],
 "metadata": {
  "kernelspec": {
   "display_name": "Python 3",
   "language": "python",
   "name": "python3"
  },
  "language_info": {
   "codemirror_mode": {
    "name": "ipython",
    "version": 3
   },
   "file_extension": ".py",
   "mimetype": "text/x-python",
   "name": "python",
   "nbconvert_exporter": "python",
   "pygments_lexer": "ipython3",
   "version": "3.8.5"
  },
  "pycharm": {
   "stem_cell": {
    "cell_type": "raw",
    "metadata": {
     "collapsed": false
    },
    "source": []
   }
  }
 },
 "nbformat": 4,
 "nbformat_minor": 1
}
