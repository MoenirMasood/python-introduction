{
 "cells": [
  {
   "cell_type": "markdown",
   "metadata": {
    "collapsed": true
   },
   "source": [
    "## ARCH Model Forecasting\n",
    "\n",
    "**Functions**\n",
    "\n",
    "`sm.OLS`, `sm.WLS`\n",
    "\n",
    "\n",
    "### Exercise 77\n",
    "\n",
    "Use 50% of the sample to estimate your preferred GARCH model for returns to the S&P 500 and the\n",
    "EUR/USD rate, and construct forecasts for the remaining period."
   ]
  },
  {
   "cell_type": "code",
   "execution_count": null,
   "metadata": {
    "execution": {
     "iopub.execute_input": "2020-12-15T17:37:06.322445Z",
     "iopub.status.busy": "2020-12-15T17:37:06.321445Z",
     "iopub.status.idle": "2020-12-15T17:37:06.618445Z",
     "shell.execute_reply": "2020-12-15T17:37:06.617445Z"
    }
   },
   "outputs": [],
   "source": []
  },
  {
   "cell_type": "markdown",
   "metadata": {},
   "source": [
    "### Exercise 78\n",
    "\n",
    "Evaluate the accuracy of the forecasts."
   ]
  },
  {
   "cell_type": "code",
   "execution_count": null,
   "metadata": {
    "execution": {
     "iopub.execute_input": "2020-12-15T17:37:08.319576Z",
     "iopub.status.busy": "2020-12-15T17:37:08.318576Z",
     "iopub.status.idle": "2020-12-15T17:37:08.331577Z",
     "shell.execute_reply": "2020-12-15T17:37:08.331577Z"
    }
   },
   "outputs": [],
   "source": []
  },
  {
   "cell_type": "markdown",
   "metadata": {},
   "source": [
    "We can also use a weighted LS estimator where the variance is the inverse\n",
    "of the squared forecast.  The creates the MZ-GLS test.\n"
   ]
  },
  {
   "cell_type": "code",
   "execution_count": null,
   "metadata": {
    "execution": {
     "iopub.execute_input": "2020-12-15T17:37:08.926643Z",
     "iopub.status.busy": "2020-12-15T17:37:08.925643Z",
     "iopub.status.idle": "2020-12-15T17:37:08.938641Z",
     "shell.execute_reply": "2020-12-15T17:37:08.939642Z"
    }
   },
   "outputs": [],
   "source": []
  },
  {
   "cell_type": "markdown",
   "metadata": {},
   "source": [
    "### Exercise 79\n",
    "\n",
    "Evaluate the accuracy of forecasts from a 2-year backward moving average variance."
   ]
  },
  {
   "cell_type": "code",
   "execution_count": null,
   "metadata": {
    "execution": {
     "iopub.execute_input": "2020-12-15T17:37:08.947642Z",
     "iopub.status.busy": "2020-12-15T17:37:08.945642Z",
     "iopub.status.idle": "2020-12-15T17:37:09.296642Z",
     "shell.execute_reply": "2020-12-15T17:37:09.296642Z"
    }
   },
   "outputs": [],
   "source": []
  },
  {
   "cell_type": "markdown",
   "metadata": {},
   "source": [
    "### Exercise 80\n",
    "\n",
    "Compare the ARCH-model forecasts to a naive 2-year backward looking moving average using QLIKE."
   ]
  },
  {
   "cell_type": "code",
   "execution_count": null,
   "metadata": {
    "execution": {
     "iopub.execute_input": "2020-12-15T17:37:09.394642Z",
     "iopub.status.busy": "2020-12-15T17:37:09.394642Z",
     "iopub.status.idle": "2020-12-15T17:37:09.403643Z",
     "shell.execute_reply": "2020-12-15T17:37:09.403643Z"
    }
   },
   "outputs": [],
   "source": []
  }
 ],
 "metadata": {
  "kernelspec": {
   "display_name": "Python 3",
   "language": "python",
   "name": "python3"
  },
  "language_info": {
   "codemirror_mode": {
    "name": "ipython",
    "version": 3
   },
   "file_extension": ".py",
   "mimetype": "text/x-python",
   "name": "python",
   "nbconvert_exporter": "python",
   "pygments_lexer": "ipython3",
   "version": "3.8.5"
  },
  "pycharm": {
   "stem_cell": {
    "cell_type": "raw",
    "metadata": {
     "collapsed": false
    },
    "source": []
   }
  }
 },
 "nbformat": 4,
 "nbformat_minor": 1
}
