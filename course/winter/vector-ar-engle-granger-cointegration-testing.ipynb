{
 "cells": [
  {
   "cell_type": "markdown",
   "metadata": {
    "collapsed": true
   },
   "source": [
    "## Cointegration Testing using Engle-Granger\n",
    "\n",
    "**Functions**\n",
    "\n",
    "`tsa.adfuller`, `tsa.coint`\n",
    "\n",
    "### Exercise 97\n",
    "Download data on $CAY$ from [Martin Lettau’s site](https://sites.google.com/view/martinlettau/data)."
   ]
  },
  {
   "cell_type": "code",
   "execution_count": null,
   "metadata": {
    "execution": {
     "iopub.execute_input": "2020-12-15T17:37:35.774820Z",
     "iopub.status.busy": "2020-12-15T17:37:35.773820Z",
     "iopub.status.idle": "2020-12-15T17:37:36.085819Z",
     "shell.execute_reply": "2020-12-15T17:37:36.086820Z"
    }
   },
   "outputs": [],
   "source": []
  },
  {
   "cell_type": "markdown",
   "metadata": {},
   "source": [
    "We start by verifying that all three series have unit roots using `adfuller`."
   ]
  },
  {
   "cell_type": "markdown",
   "metadata": {},
   "source": [
    "### Exercise 98\n",
    "Is there evidence that these three series are cointegrated in the entire sample?"
   ]
  },
  {
   "cell_type": "code",
   "execution_count": null,
   "metadata": {
    "execution": {
     "iopub.execute_input": "2020-12-15T17:37:36.693819Z",
     "iopub.status.busy": "2020-12-15T17:37:36.692818Z",
     "iopub.status.idle": "2020-12-15T17:37:36.720818Z",
     "shell.execute_reply": "2020-12-15T17:37:36.720818Z"
    }
   },
   "outputs": [],
   "source": []
  },
  {
   "cell_type": "markdown",
   "metadata": {},
   "source": [
    "### Exercise 99\n",
    "What about in the post-Volker era (start in 1981)?"
   ]
  },
  {
   "cell_type": "code",
   "execution_count": null,
   "metadata": {
    "execution": {
     "iopub.execute_input": "2020-12-15T17:37:37.565903Z",
     "iopub.status.busy": "2020-12-15T17:37:37.564903Z",
     "iopub.status.idle": "2020-12-15T17:37:37.590906Z",
     "shell.execute_reply": "2020-12-15T17:37:37.591903Z"
    }
   },
   "outputs": [],
   "source": []
  },
  {
   "cell_type": "markdown",
   "metadata": {},
   "source": [
    "### Exercise 100\n",
    "\n",
    "Download monthly WTI and Brent crude prices from the [EIA](https://www.eia.gov/) and import them.\n",
    "Examine whether the log prices are cointegrated."
   ]
  },
  {
   "cell_type": "code",
   "execution_count": null,
   "metadata": {
    "execution": {
     "iopub.execute_input": "2020-12-15T17:37:37.831916Z",
     "iopub.status.busy": "2020-12-15T17:37:37.831916Z",
     "iopub.status.idle": "2020-12-15T17:37:37.875916Z",
     "shell.execute_reply": "2020-12-15T17:37:37.874916Z"
    }
   },
   "outputs": [],
   "source": []
  }
 ],
 "metadata": {
  "kernelspec": {
   "display_name": "Python 3",
   "language": "python",
   "name": "python3"
  },
  "language_info": {
   "codemirror_mode": {
    "name": "ipython",
    "version": 3
   },
   "file_extension": ".py",
   "mimetype": "text/x-python",
   "name": "python",
   "nbconvert_exporter": "python",
   "pygments_lexer": "ipython3",
   "version": "3.8.5"
  },
  "pycharm": {
   "stem_cell": {
    "cell_type": "raw",
    "metadata": {
     "collapsed": false
    },
    "source": []
   }
  }
 },
 "nbformat": 4,
 "nbformat_minor": 1
}
