{
 "cells": [
  {
   "cell_type": "markdown",
   "metadata": {
    "collapsed": false
   },
   "source": [
    "## Value-at-Risk: Forecast Evaluation\n",
    "\n",
    "**Functions**\n",
    "\n",
    "`sm.OLS`, `stats.bernoulli`"
   ]
  },
  {
   "cell_type": "markdown",
   "metadata": {
    "collapsed": false
   },
   "source": [
    "### Exercise 83\n",
    "    \n",
    "Compare this VaR to the HS VaR in the previous example.\n",
    "\n",
    "import pandas as pd"
   ]
  },
  {
   "cell_type": "code",
   "execution_count": null,
   "metadata": {
    "execution": {
     "iopub.execute_input": "2020-12-07T13:47:51.028675Z",
     "iopub.status.busy": "2020-12-07T13:47:51.028675Z",
     "iopub.status.idle": "2020-12-07T13:47:51.499186Z",
     "shell.execute_reply": "2020-12-07T13:47:51.498187Z"
    }
   },
   "outputs": [],
   "source": []
  },
  {
   "cell_type": "markdown",
   "metadata": {
    "collapsed": false
   },
   "source": [
    "### Exercise 84\n",
    "Evaluate the FHS and HS VaR forecasts constructed in the previous exercises using:\n",
    "\n",
    "* HIT tests\n",
    "* The Bernoulli test for unconditionally correct VaR\n",
    "* Christoffersen’s test for conditionally correct VaR\n"
   ]
  },
  {
   "cell_type": "code",
   "execution_count": null,
   "metadata": {
    "execution": {
     "iopub.execute_input": "2020-12-07T13:47:53.599917Z",
     "iopub.status.busy": "2020-12-07T13:47:53.598918Z",
     "iopub.status.idle": "2020-12-07T13:47:53.781982Z",
     "shell.execute_reply": "2020-12-07T13:47:53.781982Z"
    }
   },
   "outputs": [],
   "source": []
  }
 ],
 "metadata": {
  "kernelspec": {
   "display_name": "Python 3",
   "language": "python",
   "name": "python3"
  },
  "language_info": {
   "codemirror_mode": {
    "name": "ipython",
    "version": 3
   },
   "file_extension": ".py",
   "mimetype": "text/x-python",
   "name": "python",
   "nbconvert_exporter": "python",
   "pygments_lexer": "ipython3",
   "version": "3.8.5"
  },
  "pycharm": {
   "stem_cell": {
    "cell_type": "raw",
    "metadata": {
     "collapsed": false
    },
    "source": []
   }
  }
 },
 "nbformat": 4,
 "nbformat_minor": 1
}
