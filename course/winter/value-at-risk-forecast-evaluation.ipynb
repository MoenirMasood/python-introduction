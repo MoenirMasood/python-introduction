{
 "cells": [
  {
   "cell_type": "markdown",
   "metadata": {
    "collapsed": false
   },
   "source": [
    "## Value-at-Risk: Forecast Evaluation\n",
    "\n",
    "**Functions**\n",
    "\n",
    "`sm.OLS`, `stats.bernoulli`"
   ]
  },
  {
   "cell_type": "markdown",
   "metadata": {
    "collapsed": false
   },
   "source": [
    "### Exercise 83\n",
    "    \n",
    "Compare this VaR to the HS VaR in the previous example.\n",
    "\n",
    "import pandas as pd"
   ]
  },
  {
   "cell_type": "code",
   "execution_count": null,
   "metadata": {
    "execution": {
     "iopub.execute_input": "2020-12-15T17:37:15.209762Z",
     "iopub.status.busy": "2020-12-15T17:37:15.209762Z",
     "iopub.status.idle": "2020-12-15T17:37:15.725760Z",
     "shell.execute_reply": "2020-12-15T17:37:15.726760Z"
    }
   },
   "outputs": [],
   "source": []
  },
  {
   "cell_type": "markdown",
   "metadata": {
    "collapsed": false
   },
   "source": [
    "### Exercise 84\n",
    "Evaluate the FHS and HS VaR forecasts constructed in the previous exercises using:\n",
    "\n",
    "* HIT tests\n",
    "* The Bernoulli test for unconditionally correct VaR\n",
    "* Christoffersen’s test for conditionally correct VaR\n"
   ]
  },
  {
   "cell_type": "code",
   "execution_count": null,
   "metadata": {
    "execution": {
     "iopub.execute_input": "2020-12-15T17:37:17.883431Z",
     "iopub.status.busy": "2020-12-15T17:37:17.882430Z",
     "iopub.status.idle": "2020-12-15T17:37:18.061748Z",
     "shell.execute_reply": "2020-12-15T17:37:18.061748Z"
    }
   },
   "outputs": [],
   "source": []
  }
 ],
 "metadata": {
  "kernelspec": {
   "display_name": "Python 3",
   "language": "python",
   "name": "python3"
  },
  "language_info": {
   "codemirror_mode": {
    "name": "ipython",
    "version": 3
   },
   "file_extension": ".py",
   "mimetype": "text/x-python",
   "name": "python",
   "nbconvert_exporter": "python",
   "pygments_lexer": "ipython3",
   "version": "3.8.5"
  },
  "pycharm": {
   "stem_cell": {
    "cell_type": "raw",
    "metadata": {
     "collapsed": false
    },
    "source": []
   }
  }
 },
 "nbformat": 4,
 "nbformat_minor": 1
}
