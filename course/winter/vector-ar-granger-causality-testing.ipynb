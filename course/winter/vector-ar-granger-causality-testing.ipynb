{
 "cells": [
  {
   "cell_type": "markdown",
   "metadata": {
    "collapsed": true
   },
   "source": [
    "## Granger Causality Testing\n",
    "\n",
    "**Functions**\n",
    "\n",
    "`VARResults.test_causality`\n",
    "\n",
    "### Exercise 92\n",
    "Using the data and the models selected in the previous exercise, is there evidence of Granger Causality between the series?"
   ]
  },
  {
   "cell_type": "code",
   "execution_count": null,
   "metadata": {
    "execution": {
     "iopub.status.idle": "2020-12-07T13:48:17.675439Z",
     "shell.execute_reply": "2020-12-07T13:48:17.676438Z"
    }
   },
   "outputs": [],
   "source": []
  },
  {
   "cell_type": "markdown",
   "metadata": {
    "collapsed": false
   },
   "source": [
    "### Exercise 93\n",
    "What if the 10 year and the 1 year are both used, but the spread is omitted?"
   ]
  },
  {
   "cell_type": "code",
   "execution_count": null,
   "metadata": {
    "execution": {
     "iopub.execute_input": "2020-12-07T13:48:17.716438Z",
     "iopub.status.busy": "2020-12-07T13:48:17.715437Z",
     "iopub.status.idle": "2020-12-07T13:48:17.739437Z",
     "shell.execute_reply": "2020-12-07T13:48:17.739437Z"
    }
   },
   "outputs": [],
   "source": []
  }
 ],
 "metadata": {
  "kernelspec": {
   "display_name": "Python 3",
   "language": "python",
   "name": "python3"
  },
  "language_info": {
   "codemirror_mode": {
    "name": "ipython",
    "version": 3
   },
   "file_extension": ".py",
   "mimetype": "text/x-python",
   "name": "python",
   "nbconvert_exporter": "python",
   "pygments_lexer": "ipython3",
   "version": "3.8.5"
  }
 },
 "nbformat": 4,
 "nbformat_minor": 0
}
