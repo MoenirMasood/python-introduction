{
 "cells": [
  {
   "cell_type": "markdown",
   "metadata": {
    "collapsed": false
   },
   "source": [
    "## ARCH Model Estimation\n",
    "\n",
    "**Functions**\n",
    "\n",
    "`arch.arch_model`"
   ]
  },
  {
   "cell_type": "code",
   "execution_count": null,
   "metadata": {
    "execution": {
     "iopub.execute_input": "2020-12-07T13:47:39.981114Z",
     "iopub.status.busy": "2020-12-07T13:47:39.981114Z",
     "iopub.status.idle": "2020-12-15T17:37:02.421431Z",
     "shell.execute_reply": "2020-12-15T17:37:02.421431Z"
    }
   },
   "outputs": [],
   "source": []
  },
  {
   "cell_type": "markdown",
   "metadata": {
    "collapsed": false
   },
   "source": [
    "### Exercise 74\n",
    "\n",
    "Estimate a GARCH(1,1) and a GJR-GARCH(1,1,1) to the returns of both series.\n",
    "\n",
    "**Note**: You need to install arch using\n",
    "\n",
    "```bash\n",
    "pip install arch\n",
    "```\n",
    "\n",
    "which contains ARCH and related models.\n",
    "\n",
    "Documentation and examples for the arch package [are available online](https://bashtage.github.io/arch)."
   ]
  },
  {
   "cell_type": "code",
   "execution_count": null,
   "metadata": {
    "execution": {
     "iopub.execute_input": "2020-12-15T17:37:02.923431Z",
     "iopub.status.busy": "2020-12-15T17:37:02.922429Z",
     "iopub.status.idle": "2020-12-15T17:37:03.528427Z",
     "shell.execute_reply": "2020-12-15T17:37:03.528427Z"
    }
   },
   "outputs": [],
   "source": []
  },
  {
   "cell_type": "markdown",
   "metadata": {
    "collapsed": false
   },
   "source": [
    "### Exercise 75\n",
    "Comment on the asymmetry.\n",
    "\n",
    "  * Compare robust and non-robust standard errors.\n",
    "  * Plot the fit variance and fit volatility.\n",
    "  * Plot the standardized residuals.\n"
   ]
  },
  {
   "cell_type": "code",
   "execution_count": null,
   "metadata": {
    "execution": {
     "iopub.execute_input": "2020-12-15T17:37:03.828429Z",
     "iopub.status.busy": "2020-12-15T17:37:03.828429Z",
     "iopub.status.idle": "2020-12-15T17:37:03.885430Z",
     "shell.execute_reply": "2020-12-15T17:37:03.884429Z"
    }
   },
   "outputs": [],
   "source": []
  }
 ],
 "metadata": {
  "kernelspec": {
   "display_name": "Python 3",
   "language": "python",
   "name": "python3"
  },
  "language_info": {
   "codemirror_mode": {
    "name": "ipython",
    "version": 3
   },
   "file_extension": ".py",
   "mimetype": "text/x-python",
   "name": "python",
   "nbconvert_exporter": "python",
   "pygments_lexer": "ipython3",
   "version": "3.8.5"
  },
  "pycharm": {
   "stem_cell": {
    "cell_type": "raw",
    "metadata": {
     "collapsed": false
    },
    "source": []
   }
  }
 },
 "nbformat": 4,
 "nbformat_minor": 0
}
