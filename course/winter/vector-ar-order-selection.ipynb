{
 "cells": [
  {
   "cell_type": "markdown",
   "metadata": {
    "collapsed": true
   },
   "source": [
    "## VAR Model Order Selection\n",
    "\n",
    "**Functions**\n",
    "\n",
    "`tsa.VAR`\n",
    "\n",
    "### Exercise 91\n",
    "Using the same data as in the previous exercise, determine the optimal VAR order using:\n",
    "\n",
    "1. AIC\n",
    "2. HQIC\n",
    "3. BIC\n",
    "4. Likelihood-ratio testing using General-to-Specific"
   ]
  },
  {
   "cell_type": "code",
   "execution_count": null,
   "metadata": {
    "execution": {
     "iopub.execute_input": "2020-12-07T13:48:28.063266Z",
     "iopub.status.busy": "2020-12-07T13:48:28.063266Z",
     "iopub.status.idle": "2020-12-15T17:37:57.033041Z",
     "shell.execute_reply": "2020-12-15T17:37:57.034041Z"
    }
   },
   "outputs": [],
   "source": []
  }
 ],
 "metadata": {
  "kernelspec": {
   "display_name": "Python 3",
   "language": "python",
   "name": "python3"
  },
  "language_info": {
   "codemirror_mode": {
    "name": "ipython",
    "version": 3
   },
   "file_extension": ".py",
   "mimetype": "text/x-python",
   "name": "python",
   "nbconvert_exporter": "python",
   "pygments_lexer": "ipython3",
   "version": "3.8.5"
  },
  "pycharm": {
   "stem_cell": {
    "cell_type": "raw",
    "metadata": {
     "collapsed": false
    },
    "source": []
   }
  }
 },
 "nbformat": 4,
 "nbformat_minor": 1
}
