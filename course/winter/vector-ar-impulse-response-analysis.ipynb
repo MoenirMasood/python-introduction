{
 "cells": [
  {
   "cell_type": "markdown",
   "metadata": {
    "collapsed": true
   },
   "source": [
    "## Impulse Responses\n",
    "\n",
    "**Functions**\n",
    "\n",
    "`VARResults.irf`\n",
    "\n",
    "### Exercise 94\n",
    "Plot the impulse responses from both a first order model and\n",
    "the model selected in the order selection exercise."
   ]
  },
  {
   "cell_type": "code",
   "execution_count": null,
   "metadata": {
    "execution": {
     "iopub.execute_input": "2020-12-07T13:48:18.896993Z",
     "iopub.status.busy": "2020-12-07T13:48:18.896993Z",
     "iopub.status.idle": "2020-12-07T13:48:21.482292Z",
     "shell.execute_reply": "2020-12-07T13:48:21.481772Z"
    }
   },
   "outputs": [],
   "source": []
  },
  {
   "cell_type": "markdown",
   "metadata": {
    "collapsed": false
   },
   "source": [
    "### Exercise 95\n",
    "Which covariance factor makes sense for the impulse responses?"
   ]
  },
  {
   "cell_type": "code",
   "execution_count": null,
   "metadata": {},
   "outputs": [],
   "source": []
  },
  {
   "cell_type": "markdown",
   "metadata": {
    "collapsed": false
   },
   "source": [
    "### Exercise 96\n",
    "What happens when you re-order the series and use the Cholesky factor in the impulse response?\n",
    "1. Which series should be first?\n",
    "2. Which should be last?"
   ]
  },
  {
   "cell_type": "code",
   "execution_count": null,
   "metadata": {
    "execution": {
     "iopub.execute_input": "2020-12-07T13:48:22.489823Z",
     "iopub.status.busy": "2020-12-07T13:48:22.489823Z",
     "iopub.status.idle": "2020-12-07T13:48:23.573370Z",
     "shell.execute_reply": "2020-12-07T13:48:23.574370Z"
    }
   },
   "outputs": [],
   "source": []
  }
 ],
 "metadata": {
  "kernelspec": {
   "display_name": "Python 3",
   "language": "python",
   "name": "python3"
  },
  "language_info": {
   "codemirror_mode": {
    "name": "ipython",
    "version": 3
   },
   "file_extension": ".py",
   "mimetype": "text/x-python",
   "name": "python",
   "nbconvert_exporter": "python",
   "pygments_lexer": "ipython3",
   "version": "3.8.5"
  }
 },
 "nbformat": 4,
 "nbformat_minor": 0
}
